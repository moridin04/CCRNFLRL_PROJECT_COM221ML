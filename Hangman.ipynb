{
  "nbformat": 4,
  "nbformat_minor": 0,
  "metadata": {
    "colab": {
      "provenance": [],
      "gpuType": "T4",
      "authorship_tag": "ABX9TyPJhZDIl27rtPvCLYp1zZXi",
      "include_colab_link": true
    },
    "kernelspec": {
      "name": "python3",
      "display_name": "Python 3"
    },
    "language_info": {
      "name": "python"
    },
    "accelerator": "GPU"
  },
  "cells": [
    {
      "cell_type": "markdown",
      "metadata": {
        "id": "view-in-github",
        "colab_type": "text"
      },
      "source": [
        "<a href=\"https://colab.research.google.com/github/moridin04/CCRNFLRL_PROJECT_COM221ML/blob/main/Hangman.ipynb\" target=\"_parent\"><img src=\"https://colab.research.google.com/assets/colab-badge.svg\" alt=\"Open In Colab\"/></a>"
      ]
    },
    {
      "cell_type": "markdown",
      "source": [
        "# **Training Deep Q-Network Agent to Play Hangman**\n",
        "\n",
        "Roadmap\n",
        "1. Markov Decision Process (MDP)\n",
        "- State Space\n",
        "- Action Space - Discrete(18)\n",
        "0 - NOOP\n",
        "\n",
        "1 - FIRE\n",
        "\n",
        "2 - UP\n",
        "\n",
        "3 - RIGHT\n",
        "\n",
        "4 - LEFT\n",
        "\n",
        "5 - DOWN\n",
        "\n",
        "6 - UPRIGHT\n",
        "\n",
        "7 - UPLEFT\n",
        "\n",
        "8 - DOWNRIGHT\n",
        "\n",
        "9 - DOWNLEFT\n",
        "\n",
        "10 - UPFIRE\n",
        "\n",
        "11 - RIGHTFIRE\n",
        "\n",
        "12 - LEFTFIRE\n",
        "\n",
        "13 - DOWNFIRE\n",
        "\n",
        "14 - UPRIGHTFIRE\n",
        "\n",
        "15 - UPLEFTFIRE\n",
        "\n",
        "16 - DOWNRIGHTFIRE\n",
        "\n",
        "17 - DOWNLEFTFIRE\n",
        "\n",
        "\n",
        "- Rewards\n",
        "\n",
        "2. Setting up \"Hangman\" environment (Gymnasium)\n",
        "- Observation Encoding\n",
        "- Action Encoding\n",
        "- Reward Shaping Strategy\n",
        "\n",
        "3. Deep Q-Network\n",
        "- Input Layer (Word State Encoding)\n",
        "- Hidden Layer (Fully Connected Layers / Embeddings)\n",
        "- Output Layer (Q-Values of Each Letter)\n",
        "- Training Algorithm (Experience Replay, Target Network)\n",
        "- Hyperparameters (Learning Rate, y, Epsilon-Greedy, Replay Buffer Size, Batch Size)\n",
        "\n",
        "4. Training Process\n",
        "- Epsilon Decay\n",
        "- Replay Buffer (filling and sampling)\n",
        "- Target Network Update Frequency\n",
        "- Number of Episodes and Training Duration\n",
        "\n",
        "5. Evaluation Metrics\n",
        "- Win Rate\n",
        "- Average Reward per Episode\n",
        "- Average Number of Steps until Win/Lose\n",
        "\n",
        "6. Record Multiple Episodes as Video\n",
        "\n"
      ],
      "metadata": {
        "id": "DITVQsd1yj2u"
      }
    },
    {
      "cell_type": "code",
      "source": [
        "!pip install --upgrade --pre \"gymnasium[atari]\" ale-py\n",
        "\n",
        "import random\n",
        "import numpy as np\n",
        "import gymnasium as gym #Hangman Environment\n",
        "import ale_py\n",
        "import torch #Neural Networks\n",
        "import torch.nn as nn\n",
        "import torch.optim as optim\n",
        "from collections import deque #Replay Buffer\n",
        "import matplotlib.pyplot as plt\n",
        "import imageio\n",
        "from IPython.display import Video\n",
        "import cv2"
      ],
      "metadata": {
        "colab": {
          "base_uri": "https://localhost:8080/"
        },
        "id": "0mu1TAT_yEiN",
        "outputId": "83c13d43-377d-4d39-e5f3-1622c8ac651e"
      },
      "execution_count": 1,
      "outputs": [
        {
          "output_type": "stream",
          "name": "stdout",
          "text": [
            "Requirement already satisfied: ale-py in /usr/local/lib/python3.12/dist-packages (0.11.2)\n",
            "Requirement already satisfied: gymnasium[atari] in /usr/local/lib/python3.12/dist-packages (1.2.0)\n",
            "Collecting gymnasium[atari]\n",
            "  Downloading gymnasium-1.2.1-py3-none-any.whl.metadata (10.0 kB)\n",
            "Requirement already satisfied: numpy>=1.21.0 in /usr/local/lib/python3.12/dist-packages (from gymnasium[atari]) (2.0.2)\n",
            "Requirement already satisfied: cloudpickle>=1.2.0 in /usr/local/lib/python3.12/dist-packages (from gymnasium[atari]) (3.1.1)\n",
            "Requirement already satisfied: typing-extensions>=4.3.0 in /usr/local/lib/python3.12/dist-packages (from gymnasium[atari]) (4.15.0)\n",
            "Requirement already satisfied: farama-notifications>=0.0.1 in /usr/local/lib/python3.12/dist-packages (from gymnasium[atari]) (0.0.4)\n",
            "Downloading gymnasium-1.2.1-py3-none-any.whl (951 kB)\n",
            "\u001b[2K   \u001b[90m━━━━━━━━━━━━━━━━━━━━━━━━━━━━━━━━━━━━━━━━\u001b[0m \u001b[32m951.1/951.1 kB\u001b[0m \u001b[31m41.3 MB/s\u001b[0m eta \u001b[36m0:00:00\u001b[0m\n",
            "\u001b[?25hInstalling collected packages: gymnasium\n",
            "  Attempting uninstall: gymnasium\n",
            "    Found existing installation: gymnasium 1.2.0\n",
            "    Uninstalling gymnasium-1.2.0:\n",
            "      Successfully uninstalled gymnasium-1.2.0\n",
            "Successfully installed gymnasium-1.2.1\n"
          ]
        }
      ]
    },
    {
      "cell_type": "code",
      "source": [
        "device = torch.device(\"cuda\" if torch.cuda.is_available() else \"cpu\")\n",
        "print(\"Using device: \", device)"
      ],
      "metadata": {
        "colab": {
          "base_uri": "https://localhost:8080/"
        },
        "id": "BOlxwWRMEwqE",
        "outputId": "2eb2f258-309f-4acc-fc75-e0c866ee4a41"
      },
      "execution_count": 2,
      "outputs": [
        {
          "output_type": "stream",
          "name": "stdout",
          "text": [
            "Using device:  cuda\n"
          ]
        }
      ]
    },
    {
      "cell_type": "code",
      "source": [
        "def preprocess(obs):\n",
        "    # Convert to grayscale and resize\n",
        "    gray = cv2.cvtColor(obs, cv2.COLOR_RGB2GRAY)\n",
        "    resized = cv2.resize(gray, (84, 84), interpolation=cv2.INTER_AREA)\n",
        "    return resized.astype(np.float32) / 255.0  # normalize to [0,1]"
      ],
      "metadata": {
        "id": "zFIiZ-enE8MZ"
      },
      "execution_count": 3,
      "outputs": []
    },
    {
      "cell_type": "code",
      "source": [
        "try:\n",
        "    env = gym.make(\"ALE/Hangman-v5\", render_mode=\"rgb_array\")\n",
        "    obs, info = env.reset()\n",
        "    print(\"Initial observation shape:\", obs.shape)\n",
        "except Exception as e:\n",
        "    print(\"Error creating Hangman environment:\", e)\n"
      ],
      "metadata": {
        "colab": {
          "base_uri": "https://localhost:8080/"
        },
        "id": "SpEC_eCi3yVY",
        "outputId": "11f0a8b3-e9b7-4ce0-8751-89eda1b0036a"
      },
      "execution_count": 4,
      "outputs": [
        {
          "output_type": "stream",
          "name": "stdout",
          "text": [
            "Initial observation shape: (210, 160, 3)\n"
          ]
        }
      ]
    },
    {
      "cell_type": "code",
      "source": [
        "class DQN(nn.Module):\n",
        "    def __init__(self, action_size, in_channels=4):\n",
        "        super(DQN, self).__init__()\n",
        "        self.conv1 = nn.Conv2d(in_channels, 32, kernel_size=8, stride=4)\n",
        "        self.conv2 = nn.Conv2d(32, 64, kernel_size=4, stride=2)\n",
        "        self.conv3 = nn.Conv2d(64, 64, kernel_size=3, stride=1)\n",
        "        self.fc1 = nn.Linear(7*7*64, 512)\n",
        "        self.fc2 = nn.Linear(512, action_size)\n",
        "\n",
        "    def forward(self, x):\n",
        "        x = torch.relu(self.conv1(x))\n",
        "        x = torch.relu(self.conv2(x))\n",
        "        x = torch.relu(self.conv3(x))\n",
        "        x = x.view(x.size(0), -1)\n",
        "        x = torch.relu(self.fc1(x))\n",
        "        return self.fc2(x)"
      ],
      "metadata": {
        "id": "5jKV21PF4eGo"
      },
      "execution_count": 5,
      "outputs": []
    },
    {
      "cell_type": "code",
      "source": [
        "class ReplayBuffer:\n",
        "    def __init__(self, max_size=50000):\n",
        "        self.buffer = deque(maxlen=max_size)\n",
        "\n",
        "    def add(self, experience):\n",
        "        self.buffer.append(experience)\n",
        "\n",
        "    def sample(self, batch_size):\n",
        "        batch = random.sample(self.buffer, batch_size)\n",
        "        states, actions, rewards, next_states, dones = zip(*batch)\n",
        "        return (\n",
        "            np.array(states),  # Changed from np.vstack to np.array\n",
        "            np.array(actions),\n",
        "            np.array(rewards, dtype=np.float32),\n",
        "            np.array(next_states),  # Changed from np.vstack to np.array\n",
        "            np.array(dones, dtype=np.uint8),\n",
        "        )\n",
        "\n",
        "    def __len__(self):\n",
        "        return len(self.buffer)"
      ],
      "metadata": {
        "id": "u_gOElt587DG"
      },
      "execution_count": 6,
      "outputs": []
    },
    {
      "cell_type": "code",
      "source": [
        "class FrameStack:\n",
        "    def __init__(self, stack_size=4):\n",
        "        self.stack_size = stack_size\n",
        "        self.frames = deque(maxlen=stack_size)\n",
        "\n",
        "    def reset(self, frame):\n",
        "        self.frames.clear()\n",
        "        for _ in range(self.stack_size):\n",
        "            self.frames.append(frame)\n",
        "        return self.get_stacked_frames()\n",
        "\n",
        "    def append(self, frame):\n",
        "        self.frames.append(frame)\n",
        "        return self.get_stacked_frames()\n",
        "\n",
        "    def get_stacked_frames(self):\n",
        "        return np.stack(self.frames, axis=0)  # Shape: (4, 84, 84)"
      ],
      "metadata": {
        "id": "tQkMrccEKyQ4"
      },
      "execution_count": 7,
      "outputs": []
    },
    {
      "cell_type": "code",
      "source": [
        "def train_dqn(episodes=500, gamma=0.99, lr=1e-3, batch_size=32, epsilon_decay=0.995, min_epsilon=0.1):\n",
        "    env = gym.make(\"ALE/Hangman-v5\", render_mode=\"rgb_array\")\n",
        "    action_size = env.action_space.n\n",
        "    q_net = DQN(action_size, in_channels=4).to(device)\n",
        "    target_net = DQN(action_size, in_channels=4).to(device)\n",
        "    target_net.load_state_dict(q_net.state_dict())  # Initialize target network\n",
        "\n",
        "    optimizer = optim.Adam(q_net.parameters(), lr=lr)  # ADDED: Define optimizer\n",
        "    memory = ReplayBuffer()\n",
        "    frame_stack = FrameStack()\n",
        "\n",
        "    epsilon = 1.0\n",
        "    rewards_all = []\n",
        "\n",
        "    for ep in range(episodes):\n",
        "        obs, _ = env.reset()\n",
        "        state = preprocess(obs)\n",
        "        state = frame_stack.reset(state)  # Get stacked frames\n",
        "        total_reward = 0\n",
        "        done = False\n",
        "\n",
        "        while not done:\n",
        "            # epsilon-greedy action\n",
        "            if random.random() < epsilon:\n",
        "                action = env.action_space.sample()\n",
        "            else:\n",
        "                with torch.no_grad():\n",
        "                    # Add batch dimension and channel dimension\n",
        "                    s_t = torch.FloatTensor(state).unsqueeze(0).to(device)\n",
        "                    q_values = q_net(s_t)\n",
        "                    action = torch.argmax(q_values).item()\n",
        "\n",
        "            next_obs, reward, terminated, truncated, _ = env.step(action)\n",
        "            done = terminated or truncated\n",
        "            next_state = preprocess(next_obs)\n",
        "            next_state = frame_stack.append(next_state)  # Get stacked frames\n",
        "\n",
        "            # Reward shaping\n",
        "            if reward == -1:\n",
        "                reward = -0.1  # make penalty smaller\n",
        "            if terminated and reward == 0:\n",
        "                reward = -1  # strong penalty for losing\n",
        "            if terminated and reward > 0:\n",
        "                reward = +5  # strong reward for winning\n",
        "\n",
        "            memory.add((state, action, reward, next_state, done))\n",
        "            state = next_state\n",
        "            total_reward += reward\n",
        "\n",
        "            # Training step\n",
        "            if len(memory) >= batch_size:\n",
        "                states, actions, rewards_, next_states, dones = memory.sample(batch_size)\n",
        "\n",
        "                # Convert to tensors with proper shape\n",
        "                states_t = torch.FloatTensor(states).to(device)\n",
        "                actions_t = torch.LongTensor(actions).unsqueeze(1).to(device)\n",
        "                rewards_t = torch.FloatTensor(rewards_).to(device)\n",
        "                next_states_t = torch.FloatTensor(next_states).to(device)\n",
        "                dones_t = torch.BoolTensor(dones).to(device)\n",
        "\n",
        "                # Current Q values\n",
        "                current_q = q_net(states_t).gather(1, actions_t).squeeze()\n",
        "\n",
        "                # Target Q values\n",
        "                with torch.no_grad():\n",
        "                    next_q = target_net(next_states_t).max(1)[0]\n",
        "                    target_q = rewards_t + (~dones_t) * gamma * next_q\n",
        "\n",
        "                # Compute loss\n",
        "                loss = nn.MSELoss()(current_q, target_q)\n",
        "\n",
        "                # Optimize\n",
        "                optimizer.zero_grad()\n",
        "                loss.backward()\n",
        "                # Gradient clipping for stability\n",
        "                torch.nn.utils.clip_grad_norm_(q_net.parameters(), 1.0)\n",
        "                optimizer.step()\n",
        "\n",
        "        # Epsilon decay\n",
        "        epsilon = max(min_epsilon, epsilon * epsilon_decay)\n",
        "        rewards_all.append(total_reward)\n",
        "\n",
        "        # Update target network\n",
        "        if ep % 20 == 0:\n",
        "            target_net.load_state_dict(q_net.state_dict())\n",
        "\n",
        "        # Logging\n",
        "        if ep % 50 == 0:\n",
        "            avg_reward = np.mean(rewards_all[-50:]) if len(rewards_all) >= 50 else np.mean(rewards_all)\n",
        "            print(f\"Episode {ep}, Epsilon: {epsilon:.3f}, Reward: {total_reward:.2f}, Avg Reward (last 50): {avg_reward:.2f}\")\n",
        "\n",
        "    env.close()\n",
        "    return q_net, rewards_all\n"
      ],
      "metadata": {
        "id": "aLVwoZIn9F99"
      },
      "execution_count": 8,
      "outputs": []
    },
    {
      "cell_type": "code",
      "source": [
        "q_net, rewards = train_dqn(\n",
        "    episodes=1000,      # number of episodes to train\n",
        "    gamma=0.99,         # discount factor\n",
        "    lr=1e-4,            # learning rate (reduced for stability)\n",
        "    batch_size=32,      # minibatch size\n",
        "    epsilon_decay=0.995, # epsilon decay per episode\n",
        "    min_epsilon=0.05    # final exploration rate\n",
        ")"
      ],
      "metadata": {
        "colab": {
          "base_uri": "https://localhost:8080/"
        },
        "id": "K3kLkBzzBcbf",
        "outputId": "98d5b164-6c27-4a92-947e-ef7ce2d06b38"
      },
      "execution_count": 9,
      "outputs": [
        {
          "output_type": "stream",
          "name": "stdout",
          "text": [
            "Episode 0, Epsilon: 0.995, Reward: -0.10, Avg Reward (last 50): -0.10\n",
            "Episode 50, Epsilon: 0.774, Reward: -0.10, Avg Reward (last 50): -0.10\n",
            "Episode 100, Epsilon: 0.603, Reward: -0.10, Avg Reward (last 50): -0.10\n",
            "Episode 150, Epsilon: 0.469, Reward: -0.10, Avg Reward (last 50): 0.00\n",
            "Episode 200, Epsilon: 0.365, Reward: 5.00, Avg Reward (last 50): 0.00\n",
            "Episode 250, Epsilon: 0.284, Reward: -0.10, Avg Reward (last 50): 0.00\n",
            "Episode 300, Epsilon: 0.221, Reward: -0.10, Avg Reward (last 50): 0.00\n",
            "Episode 350, Epsilon: 0.172, Reward: -0.10, Avg Reward (last 50): 0.00\n",
            "Episode 400, Epsilon: 0.134, Reward: -0.10, Avg Reward (last 50): 0.21\n",
            "Episode 450, Epsilon: 0.104, Reward: -0.10, Avg Reward (last 50): 0.10\n",
            "Episode 500, Epsilon: 0.081, Reward: -0.10, Avg Reward (last 50): -0.10\n",
            "Episode 550, Epsilon: 0.063, Reward: -0.10, Avg Reward (last 50): -0.10\n",
            "Episode 600, Epsilon: 0.050, Reward: -0.10, Avg Reward (last 50): -0.10\n",
            "Episode 650, Epsilon: 0.050, Reward: -0.10, Avg Reward (last 50): 0.00\n",
            "Episode 700, Epsilon: 0.050, Reward: -0.10, Avg Reward (last 50): 0.21\n",
            "Episode 750, Epsilon: 0.050, Reward: -0.10, Avg Reward (last 50): 0.41\n",
            "Episode 800, Epsilon: 0.050, Reward: -0.10, Avg Reward (last 50): 0.41\n",
            "Episode 850, Epsilon: 0.050, Reward: -0.10, Avg Reward (last 50): 0.00\n",
            "Episode 900, Epsilon: 0.050, Reward: -0.10, Avg Reward (last 50): -0.10\n",
            "Episode 950, Epsilon: 0.050, Reward: -0.10, Avg Reward (last 50): -0.10\n"
          ]
        }
      ]
    },
    {
      "cell_type": "code",
      "source": [
        "import matplotlib.pyplot as plt\n",
        "\n",
        "plt.figure(figsize=(12, 4))\n",
        "\n",
        "plt.subplot(1, 2, 1)\n",
        "plt.plot(rewards)\n",
        "plt.xlabel(\"Episode\")\n",
        "plt.ylabel(\"Total Reward\")\n",
        "plt.title(\"DQN Training on Hangman-v5\")\n",
        "\n",
        "plt.subplot(1, 2, 2)\n",
        "# Plot moving average\n",
        "window = 50\n",
        "moving_avg = [np.mean(rewards[i:i+window]) for i in range(len(rewards)-window)]\n",
        "plt.plot(moving_avg)\n",
        "plt.xlabel(\"Episode\")\n",
        "plt.ylabel(\"Moving Average Reward\")\n",
        "plt.title(f\"Moving Average (window={window})\")\n",
        "\n",
        "plt.tight_layout()\n",
        "plt.show()"
      ],
      "metadata": {
        "colab": {
          "base_uri": "https://localhost:8080/",
          "height": 251
        },
        "id": "VkLU5EUpBf6B",
        "outputId": "388d9f81-6043-4396-b720-56cb68ef149a"
      },
      "execution_count": 10,
      "outputs": [
        {
          "output_type": "display_data",
          "data": {
            "text/plain": [
              "<Figure size 1200x400 with 2 Axes>"
            ],
            "image/png": "[encoded data removed]"
          },
          "metadata": {}
        }
      ]
    },
    {
      "cell_type": "code",
      "source": [
        "torch.save(q_net.state_dict(), \"hangman_dqn.pth\")"
      ],
      "metadata": {
        "id": "9ukwKAX2Bi0-"
      },
      "execution_count": 11,
      "outputs": []
    },
    {
      "cell_type": "code",
      "source": [
        "def record_episode(env, q_net, filename=\"hangman_episode.mp4\"):\n",
        "    frames = []\n",
        "    frame_stack = FrameStack()\n",
        "\n",
        "    obs, _ = env.reset()\n",
        "    state = preprocess(obs)\n",
        "    state = frame_stack.reset(state)\n",
        "    done = False\n",
        "\n",
        "    while not done:\n",
        "        with torch.no_grad():\n",
        "            state_t = torch.FloatTensor(state).unsqueeze(0).to(device)\n",
        "            q_values = q_net(state_t)\n",
        "            action = torch.argmax(q_values).item()\n",
        "\n",
        "        next_obs, reward, terminated, truncated, _ = env.step(action)\n",
        "        done = terminated or truncated\n",
        "        next_state = preprocess(next_obs)\n",
        "        state = frame_stack.append(next_state)\n",
        "\n",
        "        frame = env.render()\n",
        "        frames.append(frame)\n",
        "\n",
        "    # Save video\n",
        "    imageio.mimsave(filename, frames, fps=10)\n",
        "    print(f\"Episode saved to {filename}\")\n",
        "\n",
        "# Record an episode\n",
        "env = gym.make(\"ALE/Hangman-v5\", render_mode=\"rgb_array\")\n",
        "record_episode(env, q_net, \"trained_agent.mp4\")\n",
        "env.close()"
      ],
      "metadata": {
        "colab": {
          "base_uri": "https://localhost:8080/"
        },
        "id": "-FNMrjA6BmcI",
        "outputId": "194ca55e-5fd3-4c08-eec1-4a935db3ae08"
      },
      "execution_count": 12,
      "outputs": [
        {
          "output_type": "stream",
          "name": "stderr",
          "text": [
            "WARNING:imageio_ffmpeg:IMAGEIO FFMPEG_WRITER WARNING: input image is not divisible by macro_block_size=16, resizing from (160, 210) to (160, 224) to ensure video compatibility with most codecs and players. To prevent resizing, make your input image divisible by the macro_block_size or set the macro_block_size to 1 (risking incompatibility).\n"
          ]
        },
        {
          "output_type": "stream",
          "name": "stdout",
          "text": [
            "Episode saved to trained_agent.mp4\n"
          ]
        }
      ]
    }
  ]
}