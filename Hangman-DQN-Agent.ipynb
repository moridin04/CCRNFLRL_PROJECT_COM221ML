{
  "nbformat": 4,
  "nbformat_minor": 0,
  "metadata": {
    "colab": {
      "provenance": [],
      "gpuType": "T4",
      "authorship_tag": "ABX9TyOnB1bM75FtyLsdcGZVBsHr",
      "include_colab_link": true
    },
    "kernelspec": {
      "name": "python3",
      "display_name": "Python 3"
    },
    "language_info": {
      "name": "python"
    },
    "accelerator": "GPU"
  },
  "cells": [
    {
      "cell_type": "markdown",
      "metadata": {
        "id": "view-in-github",
        "colab_type": "text"
      },
      "source": [
        "<a href=\"https://colab.research.google.com/github/moridin04/CCRNFLRL_PROJECT_COM221ML/blob/main/Hangman-DQN-Agent.ipynb\" target=\"_parent\"><img src=\"https://colab.research.google.com/assets/colab-badge.svg\" alt=\"Open In Colab\"/></a>"
      ]
    },
    {
      "cell_type": "code",
      "source": [
        "!pip install --upgrade --pre \"gymnasium[atari]\" ale-py\n",
        "\n",
        "import random\n",
        "import numpy as np\n",
        "import gymnasium as gym #Hangman Environment\n",
        "import ale_py\n",
        "import torch #Neural Networks\n",
        "import torch.nn as nn\n",
        "import torch.optim as optim\n",
        "from collections import deque #Replay Buffer\n",
        "import matplotlib.pyplot as plt\n",
        "import imageio\n",
        "from IPython.display import Video\n",
        "import cv2\n",
        "import random\n",
        "import time\n",
        "from skimage import transform\n",
        "import tensorflow as tf\n",
        "from skimage.color import rgb2gray\n",
        "import base64\n",
        "from IPython.display import HTML"
      ],
      "metadata": {
        "colab": {
          "base_uri": "https://localhost:8080/"
        },
        "id": "wKMHnjXeAQ5G",
        "outputId": "7e3c4f54-7021-41ea-e0ee-09517efcf2da"
      },
      "execution_count": 1,
      "outputs": [
        {
          "output_type": "stream",
          "name": "stdout",
          "text": [
            "Requirement already satisfied: ale-py in /usr/local/lib/python3.12/dist-packages (0.11.2)\n",
            "Requirement already satisfied: gymnasium[atari] in /usr/local/lib/python3.12/dist-packages (1.2.1)\n",
            "Requirement already satisfied: numpy>=1.21.0 in /usr/local/lib/python3.12/dist-packages (from gymnasium[atari]) (2.0.2)\n",
            "Requirement already satisfied: cloudpickle>=1.2.0 in /usr/local/lib/python3.12/dist-packages (from gymnasium[atari]) (3.1.1)\n",
            "Requirement already satisfied: typing-extensions>=4.3.0 in /usr/local/lib/python3.12/dist-packages (from gymnasium[atari]) (4.15.0)\n",
            "Requirement already satisfied: farama-notifications>=0.0.1 in /usr/local/lib/python3.12/dist-packages (from gymnasium[atari]) (0.0.4)\n"
          ]
        }
      ]
    },
    {
      "cell_type": "code",
      "source": [
        "class FrameStack:\n",
        "    def __init__(self, stack_size=4):\n",
        "        self.stack_size = stack_size\n",
        "        self.frames = deque(maxlen=stack_size)\n",
        "\n",
        "    def reset(self, state):\n",
        "        \"\"\"Reset with initial state\"\"\"\n",
        "        self.frames.clear()\n",
        "        for _ in range(self.stack_size):\n",
        "            self.frames.append(state)\n",
        "        return self.get_stacked_frames()\n",
        "\n",
        "    def append(self, state):\n",
        "        \"\"\"Add new frame and return stacked frames\"\"\"\n",
        "        self.frames.append(state)\n",
        "        return self.get_stacked_frames()\n",
        "\n",
        "    def get_stacked_frames(self):\n",
        "        \"\"\"Return stacked frames as single array with channels first\"\"\"\n",
        "        stacked = np.stack(self.frames, axis=0)  # Shape: (stack_size, 84, 84)\n",
        "        return stacked"
      ],
      "metadata": {
        "id": "19ANXqaNrZ_8"
      },
      "execution_count": 2,
      "outputs": []
    },
    {
      "cell_type": "code",
      "source": [
        "def preprocess_state(state):\n",
        "    \"\"\"Proper Atari frame preprocessing for Hangman\"\"\"\n",
        "    if isinstance(state, np.ndarray) and len(state.shape) == 3:\n",
        "        # Convert to grayscale, resize to 84x84, normalize\n",
        "        state = cv2.cvtColor(state, cv2.COLOR_RGB2GRAY)\n",
        "        state = cv2.resize(state, (84, 84))\n",
        "        state = state.astype(np.float32) / 255.0\n",
        "        return state\n",
        "    else:\n",
        "        # Handle discrete state case\n",
        "        state_size = 100\n",
        "        vec = np.zeros(state_size)\n",
        "        vec[state] = 1.0\n",
        "        return vec"
      ],
      "metadata": {
        "id": "F-jFq4Hnrcm_"
      },
      "execution_count": 3,
      "outputs": []
    },
    {
      "cell_type": "code",
      "source": [
        "def record_episode(env, q_net, preprocess_state, episode_num, max_steps=200):\n",
        "    \"\"\"Record a video of the agent playing one episode with tie-breaking\"\"\"\n",
        "    frames = []\n",
        "    state, _ = env.reset()\n",
        "\n",
        "    # Use frame stacking for recording too\n",
        "    frame_stack = FrameStack()\n",
        "    state_processed = frame_stack.reset(preprocess_state(state))\n",
        "\n",
        "    total_reward = 0\n",
        "    done = False\n",
        "    step_count = 0\n",
        "    previously_guessed = set()\n",
        "\n",
        "    # Record initial state\n",
        "    frames.append(env.render())\n",
        "\n",
        "    while not done and step_count < max_steps:\n",
        "        step_count += 1\n",
        "\n",
        "        # Agent's action with tie-breaking noise\n",
        "        with torch.no_grad():\n",
        "            # Reshape for convolutional network (batch_size, channels, height, width)\n",
        "            state_tensor = torch.FloatTensor(state_processed).unsqueeze(0)  # Add batch dimension\n",
        "            q_values = q_net(state_tensor)\n",
        "            # Add small random noise to break ties in Q-values\n",
        "            noise = torch.randn_like(q_values) * 0.1\n",
        "            action = torch.argmax(q_values + noise).item()\n",
        "\n",
        "        # Avoid repeating the same action if possible\n",
        "        if action in previously_guessed:\n",
        "            # Try to find an unguessed action\n",
        "            sorted_actions = torch.argsort(q_values + noise, descending=True)\n",
        "            for alt_action in sorted_actions[0]:\n",
        "                alt_action = alt_action.item()\n",
        "                if alt_action not in previously_guessed:\n",
        "                    action = alt_action\n",
        "                    break\n",
        "\n",
        "        previously_guessed.add(action)\n",
        "        state, reward, terminated, truncated, _ = env.step(action)\n",
        "        state_processed = frame_stack.append(preprocess_state(state))\n",
        "        done = terminated or truncated\n",
        "        total_reward += reward\n",
        "\n",
        "        # Record frame\n",
        "        frames.append(env.render())\n",
        "\n",
        "        if done:\n",
        "            break\n",
        "\n",
        "    # Save as video\n",
        "    filename = f\"hangman_episode_{episode_num}_reward_{total_reward:.1f}.mp4\"\n",
        "    with imageio.get_writer(filename, fps=5) as writer:\n",
        "        for frame in frames:\n",
        "            writer.append_data(frame)\n",
        "\n",
        "    return filename, total_reward, step_count"
      ],
      "metadata": {
        "id": "PmONycyyAWzL"
      },
      "execution_count": 4,
      "outputs": []
    },
    {
      "cell_type": "code",
      "source": [
        "def show_video(video_path):\n",
        "    \"\"\"Display video in notebook\"\"\"\n",
        "    try:\n",
        "        video_file = open(video_path, \"r+b\").read()\n",
        "        video_url = f\"data:video/mp4;base64,{base64.b64encode(video_file).decode()}\"\n",
        "        return HTML(f\"\"\"<video width=\"600\" controls><source src=\"{video_url}\"></video>\"\"\")\n",
        "    except FileNotFoundError:\n",
        "        print(f\"Video file {video_path} not found\")\n",
        "        return HTML(\"<p>Video not available</p>\")"
      ],
      "metadata": {
        "id": "OgV_PkfyAaA3"
      },
      "execution_count": 5,
      "outputs": []
    },
    {
      "cell_type": "code",
      "source": [
        "def test_reward_structure():\n",
        "    env = gym.make(\"ALE/Hangman-v5\", render_mode=\"rgb_array\")\n",
        "    state, _ = env.reset()\n",
        "\n",
        "    print(\"Testing reward structure...\")\n",
        "    print(f\"Action space: {env.action_space}\")\n",
        "    print(f\"Action meanings: 0-25 are letters A-Z, 26 is guess word, 27 is new game\")\n",
        "\n",
        "    # Test a few actions to see rewards\n",
        "    for action in [0, 1, 2]:  # Test letters A, B, C\n",
        "        next_state, reward, terminated, truncated, info = env.step(action)\n",
        "        print(f\"Action {action}: Reward = {reward}, Done = {terminated or truncated}\")\n",
        "\n",
        "        if terminated or truncated:\n",
        "            state, _ = env.reset()\n",
        "\n",
        "    env.close()"
      ],
      "metadata": {
        "id": "UdgsG1_n2uKb"
      },
      "execution_count": 6,
      "outputs": []
    },
    {
      "cell_type": "code",
      "source": [
        "def smart_exploration(action_size, previously_guessed=None, step_count=0):\n",
        "    \"\"\"Pure random exploration - let the CNN learn from visual patterns\"\"\"\n",
        "    return random.randint(0, action_size - 1)"
      ],
      "metadata": {
        "id": "0VzfN6mGAd7W"
      },
      "execution_count": 7,
      "outputs": []
    },
    {
      "cell_type": "code",
      "source": [
        "# Convolutional Deep Q-Network for Atari\n",
        "class ConvDQN(nn.Module):\n",
        "    def __init__(self, action_size, stack_size=4):\n",
        "        super(ConvDQN, self).__init__()\n",
        "        self.conv = nn.Sequential(\n",
        "            nn.Conv2d(stack_size, 32, kernel_size=8, stride=4),\n",
        "            nn.ReLU(),\n",
        "            nn.Conv2d(32, 64, kernel_size=4, stride=2),\n",
        "            nn.ReLU(),\n",
        "            nn.Conv2d(64, 64, kernel_size=3, stride=1),\n",
        "            nn.ReLU()\n",
        "        )\n",
        "\n",
        "        # Calculate the size after convolutions\n",
        "        self.fc_input_size = self._get_conv_output((stack_size, 84, 84))\n",
        "\n",
        "        self.fc = nn.Sequential(\n",
        "            nn.Linear(self.fc_input_size, 512),\n",
        "            nn.ReLU(),\n",
        "            nn.Dropout(0.3),\n",
        "            nn.Linear(512, 256),\n",
        "            nn.ReLU(),\n",
        "            nn.Dropout(0.2),\n",
        "            nn.Linear(256, action_size)\n",
        "        )\n",
        "\n",
        "        # Initialize weights\n",
        "        self.apply(self._init_weights)\n",
        "\n",
        "    def _init_weights(self, module):\n",
        "        if isinstance(module, nn.Linear) or isinstance(module, nn.Conv2d):\n",
        "            nn.init.xavier_uniform_(module.weight)\n",
        "            if module.bias is not None:\n",
        "                nn.init.constant_(module.bias, 0.1)\n",
        "\n",
        "    def _get_conv_output(self, shape):\n",
        "        with torch.no_grad():\n",
        "            input = torch.zeros(1, *shape)\n",
        "            output = self.conv(input)\n",
        "            return int(np.prod(output.size()))\n",
        "\n",
        "    def forward(self, x):\n",
        "        # x shape: (batch_size, stack_size, 84, 84)\n",
        "        x = self.conv(x)\n",
        "        x = x.view(x.size(0), -1)  # Flatten\n",
        "        return self.fc(x)"
      ],
      "metadata": {
        "id": "rC7c55-ZM_pn"
      },
      "execution_count": 8,
      "outputs": []
    },
    {
      "cell_type": "code",
      "source": [
        "#Replay Buffer\n",
        "class ReplayBuffer:\n",
        "    def __init__(self, buffer_size):\n",
        "        self.buffer = deque(maxlen=buffer_size)\n",
        "    def add(self, experience):\n",
        "        self.buffer.append(experience)\n",
        "    def sample(self, batch_size):\n",
        "        batch = random.sample(self.buffer, batch_size)\n",
        "        states, actions, rewards, next_states, dones = zip(*batch)\n",
        "        return (np.array(states), np.array(actions), np.array(rewards, dtype=np.float32),\n",
        "                np.array(next_states), np.array(dones, dtype=np.uint8))\n",
        "\n",
        "    def __len__(self):\n",
        "        return len(self.buffer)"
      ],
      "metadata": {
        "id": "wqDKlSX1AlOm"
      },
      "execution_count": 9,
      "outputs": []
    },
    {
      "cell_type": "code",
      "source": [
        "def train_dqn(episodes=500,  # Reduced for testing\n",
        "              gamma=0.99,\n",
        "              lr=0.00025,\n",
        "              batch_size=32,\n",
        "              epsilon_decay=0.995,\n",
        "              min_epsilon=0.01,\n",
        "              buffer_size=10000,\n",
        "              stack_size=4):\n",
        "\n",
        "    env = gym.make(\"ALE/Hangman-v5\", render_mode=\"rgb_array\")\n",
        "\n",
        "    # Test the actual observation\n",
        "    state, _ = env.reset()\n",
        "    print(f\"Original state shape: {state.shape}\")\n",
        "    print(f\"Action space: {env.action_space.n}\")\n",
        "\n",
        "    action_size = env.action_space.n\n",
        "\n",
        "    # Initialize networks\n",
        "    q_net = ConvDQN(action_size, stack_size)\n",
        "    target_net = ConvDQN(action_size, stack_size)\n",
        "    target_net.load_state_dict(q_net.state_dict())\n",
        "\n",
        "    optimizer = optim.Adam(q_net.parameters(), lr=lr, eps=1e-8)\n",
        "    scheduler = optim.lr_scheduler.StepLR(optimizer, step_size=1000, gamma=0.9)\n",
        "\n",
        "    memory = ReplayBuffer(buffer_size)\n",
        "    frame_stack = FrameStack(stack_size)\n",
        "    epsilon = 1.0\n",
        "    rewards_all = []\n",
        "    wins = 0\n",
        "    total_steps = 0\n",
        "\n",
        "    # PRE-FILLING WITH FRAME STACKING\n",
        "    print(\"Pre-filling replay buffer with frame stacking...\")\n",
        "    for _ in range(1000):  # Reduced for testing\n",
        "        state, _ = env.reset()\n",
        "        current_frames = frame_stack.reset(preprocess_state(state))\n",
        "        previously_guessed = set()\n",
        "\n",
        "        for step in range(15):\n",
        "            action = random.randint(0, action_size - 1)\n",
        "            previously_guessed.add(action)\n",
        "\n",
        "            next_state, reward, terminated, truncated, _ = env.step(action)\n",
        "            done = terminated or truncated\n",
        "\n",
        "            next_frames = frame_stack.append(preprocess_state(next_state))\n",
        "\n",
        "            # Enhanced reward shaping for visual learning\n",
        "            scaled_reward = reward\n",
        "            if reward > 0:  # Correct guess\n",
        "                scaled_reward = 5.0 + reward\n",
        "                if len(previously_guessed) <= 3:\n",
        "                    scaled_reward += 2.0\n",
        "            elif reward == 0:  # Wrong guess\n",
        "                scaled_reward = -0.5\n",
        "            else:  # Game loss\n",
        "                scaled_reward = -2.0\n",
        "\n",
        "            memory.add((current_frames, action, scaled_reward, next_frames, done))\n",
        "            current_frames = next_frames\n",
        "\n",
        "            if done:\n",
        "                break\n",
        "\n",
        "    print(f\"Replay buffer filled with {len(memory)} experiences\")\n",
        "\n",
        "    # TRAINING LOOP\n",
        "    for ep in range(episodes):\n",
        "        state, _ = env.reset()\n",
        "        current_frames = frame_stack.reset(preprocess_state(state))\n",
        "        total_reward = 0\n",
        "        done = False\n",
        "        step_count = 0\n",
        "        previously_guessed = set()\n",
        "\n",
        "        while not done:\n",
        "            step_count += 1\n",
        "            total_steps += 1\n",
        "\n",
        "            # Exploration vs Exploitation\n",
        "            if np.random.rand() < epsilon:\n",
        "                action = random.randint(0, action_size - 1)\n",
        "            else:\n",
        "                with torch.no_grad():\n",
        "                    # Add batch dimension only (channels are already first)\n",
        "                    state_tensor = torch.FloatTensor(current_frames).unsqueeze(0)\n",
        "                    q_values = q_net(state_tensor)\n",
        "                    noise = torch.normal(0, 0.1, size=q_values.shape)\n",
        "                    action = torch.argmax(q_values + noise).item()\n",
        "\n",
        "            action = action % action_size\n",
        "            previously_guessed.add(action)\n",
        "\n",
        "            next_state, reward, terminated, truncated, _ = env.step(action)\n",
        "            done = terminated or truncated\n",
        "            next_frames = frame_stack.append(preprocess_state(next_state))\n",
        "\n",
        "            # Reward scaling\n",
        "            scaled_reward = reward\n",
        "            if reward > 0:\n",
        "                scaled_reward = 5.0 + reward\n",
        "                if len(previously_guessed) <= 3:\n",
        "                    scaled_reward += 2.0\n",
        "            elif reward == 0:\n",
        "                scaled_reward = -0.5\n",
        "            else:\n",
        "                scaled_reward = -2.0\n",
        "\n",
        "            memory.add((current_frames, action, scaled_reward, next_frames, done))\n",
        "            current_frames = next_frames\n",
        "            total_reward += reward\n",
        "\n",
        "            # TRAINING\n",
        "            if len(memory) > batch_size and total_steps % 4 == 0:\n",
        "                batch = memory.sample(batch_size)\n",
        "                states, actions, rewards, next_states, dones = batch\n",
        "\n",
        "                # Convert to tensors with proper shape for CNN\n",
        "                states_t = torch.FloatTensor(states)  # Shape: (batch_size, stack_size, 84, 84)\n",
        "                actions_t = torch.LongTensor(actions).unsqueeze(1)\n",
        "                rewards_t = torch.FloatTensor(rewards)\n",
        "                next_states_t = torch.FloatTensor(next_states)\n",
        "                dones_t = torch.BoolTensor(dones)\n",
        "\n",
        "                current_q = q_net(states_t).gather(1, actions_t).squeeze()\n",
        "\n",
        "                with torch.no_grad():\n",
        "                    next_q = target_net(next_states_t).max(1)[0]\n",
        "                    target_q = rewards_t + gamma * next_q * (~dones_t).float()\n",
        "\n",
        "                loss = nn.SmoothL1Loss()(current_q, target_q)\n",
        "                optimizer.zero_grad()\n",
        "                loss.backward()\n",
        "                torch.nn.utils.clip_grad_norm_(q_net.parameters(), 1.0)\n",
        "                optimizer.step()\n",
        "\n",
        "        # Track wins\n",
        "        if total_reward > 0:\n",
        "            wins += 1\n",
        "\n",
        "        # Update target network\n",
        "        if ep % 10 == 0:\n",
        "            target_net.load_state_dict(q_net.state_dict())\n",
        "\n",
        "        # Update epsilon and learning rate\n",
        "        epsilon = max(epsilon * epsilon_decay, min_epsilon)\n",
        "        if ep % 100 == 0:\n",
        "            scheduler.step()\n",
        "\n",
        "        rewards_all.append(total_reward)\n",
        "\n",
        "        # Logging\n",
        "        if ep % 20 == 0:\n",
        "            recent_rewards = rewards_all[-20:] if len(rewards_all) >= 20 else rewards_all\n",
        "            avg_reward = np.mean(recent_rewards)\n",
        "            recent_wins = sum(1 for r in recent_rewards if r > 0)\n",
        "            win_rate = (recent_wins / len(recent_rewards)) * 100 if recent_rewards else 0\n",
        "            current_lr = scheduler.get_last_lr()[0]\n",
        "\n",
        "            print(f\"Episode {ep:4d} | \"\n",
        "                  f\"Avg Reward: {avg_reward:7.3f} | \"\n",
        "                  f\"Win Rate: {win_rate:5.1f}% | \"\n",
        "                  f\"Epsilon: {epsilon:.4f} | \"\n",
        "                  f\"LR: {current_lr:.6f} | \"\n",
        "                  f\"Steps: {step_count:3d} | \"\n",
        "                  f\"Total Wins: {wins:3d}\")\n",
        "\n",
        "    env.close()\n",
        "    return q_net, rewards_all"
      ],
      "metadata": {
        "id": "4hZWxXMRApsi"
      },
      "execution_count": 10,
      "outputs": []
    },
    {
      "cell_type": "code",
      "source": [
        "# Quick environment test\n",
        "def test_env():\n",
        "    env = gym.make(\"ALE/Hangman-v5\", render_mode=\"rgb_array\")\n",
        "    state, _ = env.reset()\n",
        "    print(f\"State type: {type(state)}, State shape: {state.shape}\")\n",
        "    print(f\"Observation space: {env.observation_space}\")\n",
        "    print(f\"Action space: {env.action_space}\")\n",
        "    env.close()\n",
        "\n",
        "test_env()"
      ],
      "metadata": {
        "colab": {
          "base_uri": "https://localhost:8080/"
        },
        "id": "FMXLyHFZApkB",
        "outputId": "2b77aba5-9dbe-44c9-c767-439f970336a9"
      },
      "execution_count": 11,
      "outputs": [
        {
          "output_type": "stream",
          "name": "stdout",
          "text": [
            "State type: <class 'numpy.ndarray'>, State shape: (210, 160, 3)\n",
            "Observation space: Box(0, 255, (210, 160, 3), uint8)\n",
            "Action space: Discrete(18)\n"
          ]
        }
      ]
    },
    {
      "cell_type": "code",
      "source": [
        "# Test environment behavior\n",
        "def test_env_behavior():\n",
        "    env = gym.make(\"ALE/Hangman-v5\", render_mode=\"rgb_array\")\n",
        "    state, _ = env.reset()\n",
        "    for i in range(10):  # Test fewer steps\n",
        "        action = env.action_space.sample()\n",
        "        next_state, reward, terminated, truncated, info = env.step(action)\n",
        "        print(f\"Step {i}: Action={action}, Reward={reward}, Done={terminated or truncated}\")\n",
        "        if terminated or truncated:\n",
        "            print(\"Environment ended early!\")\n",
        "            break\n",
        "    env.close()\n",
        "\n",
        "test_env_behavior()"
      ],
      "metadata": {
        "colab": {
          "base_uri": "https://localhost:8080/"
        },
        "id": "-ZDFQM_AAlgt",
        "outputId": "9cbd2810-0d3b-4a43-a95a-3bdd250f1708"
      },
      "execution_count": 12,
      "outputs": [
        {
          "output_type": "stream",
          "name": "stdout",
          "text": [
            "Step 0: Action=16, Reward=0.0, Done=False\n",
            "Step 1: Action=12, Reward=0.0, Done=False\n",
            "Step 2: Action=6, Reward=0.0, Done=False\n",
            "Step 3: Action=6, Reward=0.0, Done=False\n",
            "Step 4: Action=15, Reward=0.0, Done=False\n",
            "Step 5: Action=9, Reward=0.0, Done=False\n",
            "Step 6: Action=5, Reward=0.0, Done=False\n",
            "Step 7: Action=17, Reward=0.0, Done=False\n",
            "Step 8: Action=7, Reward=0.0, Done=False\n",
            "Step 9: Action=6, Reward=0.0, Done=False\n"
          ]
        }
      ]
    },
    {
      "cell_type": "code",
      "source": [
        "test_reward_structure()\n",
        "\n",
        "print(\"Starting training with Convolutional DQN...\")\n",
        "q_net, rewards_all = train_dqn(\n",
        "    episodes=500,\n",
        "    gamma=0.99,\n",
        "    lr=0.00025,\n",
        "    batch_size=32,\n",
        "    epsilon_decay=0.995,\n",
        "    min_epsilon=0.01,\n",
        "    buffer_size=10000\n",
        ")"
      ],
      "metadata": {
        "colab": {
          "base_uri": "https://localhost:8080/"
        },
        "id": "Wc2BBpWw25so",
        "outputId": "ce836e55-cfb8-4e0e-8d2d-b2151429018e"
      },
      "execution_count": 14,
      "outputs": [
        {
          "output_type": "stream",
          "name": "stdout",
          "text": [
            "Testing reward structure...\n",
            "Action space: Discrete(18)\n",
            "Action meanings: 0-25 are letters A-Z, 26 is guess word, 27 is new game\n",
            "Action 0: Reward = 0.0, Done = False\n",
            "Action 1: Reward = 0.0, Done = False\n",
            "Action 2: Reward = 0.0, Done = False\n",
            "Starting training with Convolutional DQN...\n",
            "Original state shape: (210, 160, 3)\n",
            "Action space: 18\n",
            "Pre-filling replay buffer with frame stacking...\n",
            "Replay buffer filled with 10000 experiences\n",
            "Episode    0 | Avg Reward:  -1.000 | Win Rate:   0.0% | Epsilon: 0.9950 | LR: 0.000250 | Steps: 163 | Total Wins:   0\n",
            "Episode   20 | Avg Reward:  -0.900 | Win Rate:   5.0% | Epsilon: 0.9001 | LR: 0.000250 | Steps: 182 | Total Wins:   1\n",
            "Episode   40 | Avg Reward:  -1.000 | Win Rate:   0.0% | Epsilon: 0.8142 | LR: 0.000250 | Steps: 172 | Total Wins:   1\n",
            "Episode   60 | Avg Reward:  -1.000 | Win Rate:   0.0% | Epsilon: 0.7366 | LR: 0.000250 | Steps: 147 | Total Wins:   1\n",
            "Episode   80 | Avg Reward:  -1.000 | Win Rate:   0.0% | Epsilon: 0.6663 | LR: 0.000250 | Steps: 164 | Total Wins:   1\n",
            "Episode  100 | Avg Reward:  -1.000 | Win Rate:   0.0% | Epsilon: 0.6027 | LR: 0.000250 | Steps: 138 | Total Wins:   1\n",
            "Episode  120 | Avg Reward:  -1.000 | Win Rate:   0.0% | Epsilon: 0.5452 | LR: 0.000250 | Steps: 180 | Total Wins:   1\n",
            "Episode  140 | Avg Reward:  -1.000 | Win Rate:   0.0% | Epsilon: 0.4932 | LR: 0.000250 | Steps: 155 | Total Wins:   1\n",
            "Episode  160 | Avg Reward:  -1.000 | Win Rate:   0.0% | Epsilon: 0.4462 | LR: 0.000250 | Steps: 158 | Total Wins:   1\n",
            "Episode  180 | Avg Reward:  -1.000 | Win Rate:   0.0% | Epsilon: 0.4036 | LR: 0.000250 | Steps: 162 | Total Wins:   1\n",
            "Episode  200 | Avg Reward:  -1.000 | Win Rate:   0.0% | Epsilon: 0.3651 | LR: 0.000250 | Steps: 172 | Total Wins:   1\n",
            "Episode  220 | Avg Reward:  -0.900 | Win Rate:   5.0% | Epsilon: 0.3303 | LR: 0.000250 | Steps: 165 | Total Wins:   2\n",
            "Episode  240 | Avg Reward:  -1.000 | Win Rate:   0.0% | Epsilon: 0.2988 | LR: 0.000250 | Steps: 178 | Total Wins:   2\n",
            "Episode  260 | Avg Reward:  -1.000 | Win Rate:   0.0% | Epsilon: 0.2703 | LR: 0.000250 | Steps: 166 | Total Wins:   2\n",
            "Episode  280 | Avg Reward:  -1.000 | Win Rate:   0.0% | Epsilon: 0.2445 | LR: 0.000250 | Steps: 196 | Total Wins:   2\n",
            "Episode  300 | Avg Reward:  -1.000 | Win Rate:   0.0% | Epsilon: 0.2212 | LR: 0.000250 | Steps: 156 | Total Wins:   2\n",
            "Episode  320 | Avg Reward:  -1.000 | Win Rate:   0.0% | Epsilon: 0.2001 | LR: 0.000250 | Steps: 161 | Total Wins:   2\n",
            "Episode  340 | Avg Reward:  -1.000 | Win Rate:   0.0% | Epsilon: 0.1810 | LR: 0.000250 | Steps: 171 | Total Wins:   2\n",
            "Episode  360 | Avg Reward:  -1.000 | Win Rate:   0.0% | Epsilon: 0.1637 | LR: 0.000250 | Steps: 168 | Total Wins:   2\n",
            "Episode  380 | Avg Reward:  -1.000 | Win Rate:   0.0% | Epsilon: 0.1481 | LR: 0.000250 | Steps: 179 | Total Wins:   2\n",
            "Episode  400 | Avg Reward:  -1.000 | Win Rate:   0.0% | Epsilon: 0.1340 | LR: 0.000250 | Steps: 152 | Total Wins:   2\n",
            "Episode  420 | Avg Reward:  -0.900 | Win Rate:   5.0% | Epsilon: 0.1212 | LR: 0.000250 | Steps: 171 | Total Wins:   3\n",
            "Episode  440 | Avg Reward:  -1.000 | Win Rate:   0.0% | Epsilon: 0.1096 | LR: 0.000250 | Steps: 183 | Total Wins:   3\n",
            "Episode  460 | Avg Reward:  -1.000 | Win Rate:   0.0% | Epsilon: 0.0992 | LR: 0.000250 | Steps: 135 | Total Wins:   3\n",
            "Episode  480 | Avg Reward:  -1.000 | Win Rate:   0.0% | Epsilon: 0.0897 | LR: 0.000250 | Steps: 168 | Total Wins:   3\n"
          ]
        }
      ]
    },
    {
      "cell_type": "code",
      "source": [
        "plt.plot(rewards_all)\n",
        "plt.xlabel(\"Episode\")\n",
        "plt.ylabel(\"Reward\")\n",
        "plt.title(\"Hangman - Convolutional DQN\")\n",
        "plt.show()\n"
      ],
      "metadata": {
        "id": "V4P_DVomBGok",
        "colab": {
          "base_uri": "https://localhost:8080/",
          "height": 472
        },
        "outputId": "59d11c54-63a5-4602-ef23-cbfb1c5f1ef9"
      },
      "execution_count": 15,
      "outputs": [
        {
          "output_type": "display_data",
          "data": {
            "text/plain": [
              "<Figure size 640x480 with 1 Axes>"
            ],
            "image/png": "[encoded data removed]"
          },
          "metadata": {}
        }
      ]
    },
    {
      "cell_type": "code",
      "source": [
        "print(f\"\\nTraining Statistics:\")\n",
        "print(f\"Total episodes: {len(rewards_all)}\")\n",
        "print(f\"Average reward: {np.mean(rewards_all):.2f}\")\n",
        "print(f\"Max reward: {np.max(rewards_all):.2f}\")\n",
        "print(f\"Wins: {sum(1 for r in rewards_all if r > 0)}\")"
      ],
      "metadata": {
        "id": "15WkWIYQ0x28",
        "colab": {
          "base_uri": "https://localhost:8080/"
        },
        "outputId": "4fb3936b-ee2e-4b77-feee-10e760fc4363"
      },
      "execution_count": 16,
      "outputs": [
        {
          "output_type": "stream",
          "name": "stdout",
          "text": [
            "\n",
            "Training Statistics:\n",
            "Total episodes: 500\n",
            "Average reward: -0.98\n",
            "Max reward: 1.00\n",
            "Wins: 5\n"
          ]
        }
      ]
    },
    {
      "cell_type": "code",
      "source": [
        "print(\"\\n\" + \"=\"*50)\n",
        "print(\"RECORDING DEMONSTRATION VIDEOS\")\n",
        "print(\"=\"*50)\n",
        "\n",
        "# Create a new environment for recording\n",
        "record_env = gym.make(\"ALE/Hangman-v5\", render_mode=\"rgb_array\")\n",
        "\n",
        "# Record episodes at different training stages\n",
        "episodes_to_record = [0, 100, 200, 300, 400, 500]\n",
        "\n",
        "for ep_num in episodes_to_record:\n",
        "    print(f\"Recording episode {ep_num}...\")\n",
        "    video_file, final_reward, steps = record_episode(record_env, q_net, preprocess_state, ep_num)\n",
        "    print(f\"Episode {ep_num}: Final Reward = {final_reward}, Steps = {steps}\")\n",
        "    print(f\"Video saved as: {video_file}\")\n",
        "\n",
        "    # Display the video\n",
        "    print(\"Displaying video:\")\n",
        "    display(show_video(video_file))\n",
        "    print(\"-\" * 40)\n",
        "\n",
        "record_env.close()\n",
        "\n",
        "print(\"All demonstration videos recorded!\")"
      ],
      "metadata": {
        "id": "vUK7MWUiBKDA",
        "colab": {
          "base_uri": "https://localhost:8080/",
          "height": 1000
        },
        "outputId": "1df181b4-42fc-4176-d76a-55492ded7c22"
      },
      "execution_count": 17,
      "outputs": [
        {
          "output_type": "stream",
          "name": "stdout",
          "text": [
            "\n",
            "==================================================\n",
            "RECORDING DEMONSTRATION VIDEOS\n",
            "==================================================\n",
            "Recording episode 0...\n"
          ]
        },
        {
          "output_type": "stream",
          "name": "stderr",
          "text": [
            "WARNING:imageio_ffmpeg:IMAGEIO FFMPEG_WRITER WARNING: input image is not divisible by macro_block_size=16, resizing from (160, 210) to (160, 224) to ensure video compatibility with most codecs and players. To prevent resizing, make your input image divisible by the macro_block_size or set the macro_block_size to 1 (risking incompatibility).\n"
          ]
        },
        {
          "output_type": "stream",
          "name": "stdout",
          "text": [
            "Episode 0: Final Reward = -1.0, Steps = 175\n",
            "Video saved as: hangman_episode_0_reward_-1.0.mp4\n",
            "Displaying video:\n"
          ]
        },
        {
          "output_type": "display_data",
          "data": {
            "text/plain": [
              "<IPython.core.display.HTML object>"
            ],
            "text/html": [
              "<video width=\"600\" controls><source src=\"data:video/mp4;base64,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\"></video>"
            ]
          },
          "metadata": {}
        },
        {
          "output_type": "stream",
          "name": "stdout",
          "text": [
            "----------------------------------------\n",
            "Recording episode 100...\n"
          ]
        },
        {
          "output_type": "stream",
          "name": "stderr",
          "text": [
            "WARNING:imageio_ffmpeg:IMAGEIO FFMPEG_WRITER WARNING: input image is not divisible by macro_block_size=16, resizing from (160, 210) to (160, 224) to ensure video compatibility with most codecs and players. To prevent resizing, make your input image divisible by the macro_block_size or set the macro_block_size to 1 (risking incompatibility).\n"
          ]
        },
        {
          "output_type": "stream",
          "name": "stdout",
          "text": [
            "Episode 100: Final Reward = -1.0, Steps = 168\n",
            "Video saved as: hangman_episode_100_reward_-1.0.mp4\n",
            "Displaying video:\n"
          ]
        },
        {
          "output_type": "display_data",
          "data": {
            "text/plain": [
              "<IPython.core.display.HTML object>"
            ],
            "text/html": [
              "<video width=\"600\" controls><source src=\"data:video/mp4;base64,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\"></video>"
            ]
          },
          "metadata": {}
        },
        {
          "output_type": "stream",
          "name": "stdout",
          "text": [
            "----------------------------------------\n",
            "Recording episode 200...\n"
          ]
        },
        {
          "output_type": "stream",
          "name": "stderr",
          "text": [
            "WARNING:imageio_ffmpeg:IMAGEIO FFMPEG_WRITER WARNING: input image is not divisible by macro_block_size=16, resizing from (160, 210) to (160, 224) to ensure video compatibility with most codecs and players. To prevent resizing, make your input image divisible by the macro_block_size or set the macro_block_size to 1 (risking incompatibility).\n"
          ]
        },
        {
          "output_type": "stream",
          "name": "stdout",
          "text": [
            "Episode 200: Final Reward = -1.0, Steps = 177\n",
            "Video saved as: hangman_episode_200_reward_-1.0.mp4\n",
            "Displaying video:\n"
          ]
        },
        {
          "output_type": "display_data",
          "data": {
            "text/plain": [
              "<IPython.core.display.HTML object>"
            ],
            "text/html": [
              "<video width=\"600\" controls><source src=\"data:video/mp4;base64,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\"></video>"
            ]
          },
          "metadata": {}
        },
        {
          "output_type": "stream",
          "name": "stdout",
          "text": [
            "----------------------------------------\n",
            "Recording episode 300...\n"
          ]
        },
        {
          "output_type": "stream",
          "name": "stderr",
          "text": [
            "WARNING:imageio_ffmpeg:IMAGEIO FFMPEG_WRITER WARNING: input image is not divisible by macro_block_size=16, resizing from (160, 210) to (160, 224) to ensure video compatibility with most codecs and players. To prevent resizing, make your input image divisible by the macro_block_size or set the macro_block_size to 1 (risking incompatibility).\n"
          ]
        },
        {
          "output_type": "stream",
          "name": "stdout",
          "text": [
            "Episode 300: Final Reward = -1.0, Steps = 180\n",
            "Video saved as: hangman_episode_300_reward_-1.0.mp4\n",
            "Displaying video:\n"
          ]
        },
        {
          "output_type": "display_data",
          "data": {
            "text/plain": [
              "<IPython.core.display.HTML object>"
            ],
            "text/html": [
              "<video width=\"600\" controls><source src=\"data:video/mp4;base64,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\"></video>"
            ]
          },
          "metadata": {}
        },
        {
          "output_type": "stream",
          "name": "stdout",
          "text": [
            "----------------------------------------\n",
            "Recording episode 400...\n"
          ]
        },
        {
          "output_type": "stream",
          "name": "stderr",
          "text": [
            "WARNING:imageio_ffmpeg:IMAGEIO FFMPEG_WRITER WARNING: input image is not divisible by macro_block_size=16, resizing from (160, 210) to (160, 224) to ensure video compatibility with most codecs and players. To prevent resizing, make your input image divisible by the macro_block_size or set the macro_block_size to 1 (risking incompatibility).\n"
          ]
        },
        {
          "output_type": "stream",
          "name": "stdout",
          "text": [
            "Episode 400: Final Reward = -1.0, Steps = 168\n",
            "Video saved as: hangman_episode_400_reward_-1.0.mp4\n",
            "Displaying video:\n"
          ]
        },
        {
          "output_type": "display_data",
          "data": {
            "text/plain": [
              "<IPython.core.display.HTML object>"
            ],
            "text/html": [
              "<video width=\"600\" controls><source src=\"data:video/mp4;base64,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\"></video>"
            ]
          },
          "metadata": {}
        },
        {
          "output_type": "stream",
          "name": "stdout",
          "text": [
            "----------------------------------------\n",
            "Recording episode 500...\n"
          ]
        },
        {
          "output_type": "stream",
          "name": "stderr",
          "text": [
            "WARNING:imageio_ffmpeg:IMAGEIO FFMPEG_WRITER WARNING: input image is not divisible by macro_block_size=16, resizing from (160, 210) to (160, 224) to ensure video compatibility with most codecs and players. To prevent resizing, make your input image divisible by the macro_block_size or set the macro_block_size to 1 (risking incompatibility).\n"
          ]
        },
        {
          "output_type": "stream",
          "name": "stdout",
          "text": [
            "Episode 500: Final Reward = -1.0, Steps = 161\n",
            "Video saved as: hangman_episode_500_reward_-1.0.mp4\n",
            "Displaying video:\n"
          ]
        },
        {
          "output_type": "display_data",
          "data": {
            "text/plain": [
              "<IPython.core.display.HTML object>"
            ],
            "text/html": [
              "<video width=\"600\" controls><source src=\"data:video/mp4;base64,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\"></video>"
            ]
          },
          "metadata": {}
        },
        {
          "output_type": "stream",
          "name": "stdout",
          "text": [
            "----------------------------------------\n",
            "All demonstration videos recorded!\n"
          ]
        }
      ]
    }
  ]
}