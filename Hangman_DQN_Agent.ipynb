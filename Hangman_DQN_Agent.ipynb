{
  "nbformat": 4,
  "nbformat_minor": 0,
  "metadata": {
    "colab": {
      "provenance": [],
      "gpuType": "T4",
      "authorship_tag": "ABX9TyNGBnMW9U78HJsuAdHx/+Hn",
      "include_colab_link": true
    },
    "kernelspec": {
      "name": "python3",
      "display_name": "Python 3"
    },
    "language_info": {
      "name": "python"
    },
    "accelerator": "GPU"
  },
  "cells": [
    {
      "cell_type": "markdown",
      "metadata": {
        "id": "view-in-github",
        "colab_type": "text"
      },
      "source": [
        "<a href=\"https://colab.research.google.com/github/moridin04/CCRNFLRL_PROJECT_COM221ML/blob/main/Hangman_DQN_Agent.ipynb\" target=\"_parent\"><img src=\"https://colab.research.google.com/assets/colab-badge.svg\" alt=\"Open In Colab\"/></a>"
      ]
    },
    {
      "cell_type": "markdown",
      "source": [
        "Installation and Import"
      ],
      "metadata": {
        "id": "K5vzHa8hKNR9"
      }
    },
    {
      "cell_type": "code",
      "source": [
        "!pip install --upgrade --pre \"gymnasium[atari]\" ale-py\n",
        "\n",
        "import random\n",
        "import numpy as np\n",
        "import gymnasium as gym\n",
        "import ale_py\n",
        "import torch\n",
        "import torch.nn as nn\n",
        "import torch.optim as optim\n",
        "from collections import deque\n",
        "import matplotlib.pyplot as plt\n",
        "import imageio\n",
        "from IPython.display import Video, HTML\n",
        "import cv2\n",
        "import base64"
      ],
      "metadata": {
        "colab": {
          "base_uri": "https://localhost:8080/"
        },
        "id": "wKMHnjXeAQ5G",
        "outputId": "d9462e66-4d74-4ed6-bf6d-5f3b3d4b8b64"
      },
      "execution_count": 1,
      "outputs": [
        {
          "output_type": "stream",
          "name": "stdout",
          "text": [
            "Requirement already satisfied: ale-py in /usr/local/lib/python3.12/dist-packages (0.11.2)\n",
            "Requirement already satisfied: gymnasium[atari] in /usr/local/lib/python3.12/dist-packages (1.2.1)\n",
            "Requirement already satisfied: numpy>=1.21.0 in /usr/local/lib/python3.12/dist-packages (from gymnasium[atari]) (2.0.2)\n",
            "Requirement already satisfied: cloudpickle>=1.2.0 in /usr/local/lib/python3.12/dist-packages (from gymnasium[atari]) (3.1.1)\n",
            "Requirement already satisfied: typing-extensions>=4.3.0 in /usr/local/lib/python3.12/dist-packages (from gymnasium[atari]) (4.15.0)\n",
            "Requirement already satisfied: farama-notifications>=0.0.1 in /usr/local/lib/python3.12/dist-packages (from gymnasium[atari]) (0.0.4)\n"
          ]
        }
      ]
    },
    {
      "cell_type": "markdown",
      "source": [
        "Frame Stack"
      ],
      "metadata": {
        "id": "LkaZ5OSbKPde"
      }
    },
    {
      "cell_type": "code",
      "source": [
        "class FrameStack:\n",
        "    def __init__(self, stack_size=4):\n",
        "        self.stack_size = stack_size\n",
        "        self.frames = deque(maxlen=stack_size)\n",
        "\n",
        "    def reset(self, state):\n",
        "        \"\"\"Initialize stack with first frame repeated\"\"\"\n",
        "        self.frames.clear()\n",
        "        for _ in range(self.stack_size):\n",
        "            self.frames.append(state)\n",
        "        return self.get_stacked_frames()\n",
        "\n",
        "    def append(self, state):\n",
        "        \"\"\"Add new frame and return stacked frames\"\"\"\n",
        "        self.frames.append(state)\n",
        "        return self.get_stacked_frames()\n",
        "\n",
        "    def get_stacked_frames(self):\n",
        "        \"\"\"Return stacked frames as single array\"\"\"\n",
        "        return np.stack(self.frames, axis=0)"
      ],
      "metadata": {
        "id": "19ANXqaNrZ_8"
      },
      "execution_count": 2,
      "outputs": []
    },
    {
      "cell_type": "markdown",
      "source": [
        "Pre-Processing"
      ],
      "metadata": {
        "id": "0iS-cFIdKYks"
      }
    },
    {
      "cell_type": "code",
      "source": [
        "def preprocess_state(state):\n",
        "    \"\"\"Convert frame to grayscale, resize, and normalize\"\"\"\n",
        "    if isinstance(state, np.ndarray) and len(state.shape) == 3:\n",
        "        state = cv2.cvtColor(state, cv2.COLOR_RGB2GRAY)\n",
        "        state = cv2.resize(state, (84, 84))\n",
        "        return state.astype(np.float32) / 255.0\n",
        "    else:\n",
        "        # Handle discrete state case\n",
        "        state_size = 100\n",
        "        vec = np.zeros(state_size)\n",
        "        vec[state] = 1.0\n",
        "        return vec"
      ],
      "metadata": {
        "id": "F-jFq4Hnrcm_"
      },
      "execution_count": 3,
      "outputs": []
    },
    {
      "cell_type": "markdown",
      "source": [
        "Neural Network - CNN (Visual Input)"
      ],
      "metadata": {
        "id": "hMQjctPhKdos"
      }
    },
    {
      "cell_type": "code",
      "source": [
        "class ConvDQN(nn.Module):\n",
        "    def __init__(self, action_size, stack_size=4):\n",
        "        super(ConvDQN, self).__init__()\n",
        "        self.conv = nn.Sequential(\n",
        "            nn.Conv2d(stack_size, 32, kernel_size=8, stride=4),\n",
        "            nn.ReLU(),\n",
        "            nn.Conv2d(32, 64, kernel_size=4, stride=2),\n",
        "            nn.ReLU(),\n",
        "            nn.Conv2d(64, 64, kernel_size=3, stride=1),\n",
        "            nn.ReLU()\n",
        "        )\n",
        "\n",
        "        # Dynamically calculate flattened size after convolutions\n",
        "        self.fc_input_size = self._get_conv_output((stack_size, 84, 84))\n",
        "\n",
        "        self.fc = nn.Sequential(\n",
        "            nn.Linear(self.fc_input_size, 512),\n",
        "            nn.ReLU(),\n",
        "            nn.Dropout(0.3),\n",
        "            nn.Linear(512, 256),\n",
        "            nn.ReLU(),\n",
        "            nn.Dropout(0.2),\n",
        "            nn.Linear(256, action_size)\n",
        "        )\n",
        "\n",
        "        self.apply(self._init_weights)\n",
        "\n",
        "    def _init_weights(self, module):\n",
        "        \"\"\"Xavier initialization for better convergence\"\"\"\n",
        "        if isinstance(module, (nn.Linear, nn.Conv2d)):\n",
        "            nn.init.xavier_uniform_(module.weight)\n",
        "            if module.bias is not None:\n",
        "                nn.init.constant_(module.bias, 0.1)\n",
        "\n",
        "    def _get_conv_output(self, shape):\n",
        "        \"\"\"Calculate the output size after convolutional layers\"\"\"\n",
        "        with torch.no_grad():\n",
        "            return int(np.prod(self.conv(torch.zeros(1, *shape)).size()))\n",
        "\n",
        "    def forward(self, x):\n",
        "        x = self.conv(x)\n",
        "        x = x.view(x.size(0), -1)  # Flatten\n",
        "        return self.fc(x)"
      ],
      "metadata": {
        "id": "PmONycyyAWzL"
      },
      "execution_count": 4,
      "outputs": []
    },
    {
      "cell_type": "markdown",
      "source": [
        "Replay Buffer"
      ],
      "metadata": {
        "id": "YBqYMi0LKn7a"
      }
    },
    {
      "cell_type": "code",
      "source": [
        "class ReplayBuffer:\n",
        "    def __init__(self, buffer_size):\n",
        "        self.buffer = deque(maxlen=buffer_size)\n",
        "\n",
        "    def add(self, experience):\n",
        "        self.buffer.append(experience)\n",
        "\n",
        "    def sample(self, batch_size):\n",
        "        batch = random.sample(self.buffer, batch_size)\n",
        "        states, actions, rewards, next_states, dones = zip(*batch)\n",
        "        return (np.array(states), np.array(actions), np.array(rewards, dtype=np.float32),\n",
        "                np.array(next_states), np.array(dones, dtype=np.uint8))\n",
        "\n",
        "    def __len__(self):\n",
        "        return len(self.buffer)"
      ],
      "metadata": {
        "id": "OgV_PkfyAaA3"
      },
      "execution_count": 5,
      "outputs": []
    },
    {
      "cell_type": "markdown",
      "source": [
        "Reward Scaling"
      ],
      "metadata": {
        "id": "MeKY4w7_KrTS"
      }
    },
    {
      "cell_type": "code",
      "source": [
        "def scale_reward(reward, previously_guessed):\n",
        "    \"\"\"Scale rewards to provide stronger learning signals\"\"\"\n",
        "    if reward > 0:  # Correct guess\n",
        "        scaled = 5.0 + reward\n",
        "        # Bonus for early correct guesses\n",
        "        if len(previously_guessed) <= 3:\n",
        "            scaled += 2.0\n",
        "        return scaled\n",
        "    elif reward == 0:  # Wrong guess\n",
        "        return -0.5\n",
        "    else:  # Game loss\n",
        "        return -2.0"
      ],
      "metadata": {
        "id": "UdgsG1_n2uKb"
      },
      "execution_count": 6,
      "outputs": []
    },
    {
      "cell_type": "markdown",
      "source": [
        "Training of Deep Q-Network"
      ],
      "metadata": {
        "id": "ZD944mD2Kxym"
      }
    },
    {
      "cell_type": "code",
      "source": [
        "def train_dqn(episodes=500, gamma=0.99, lr=0.00025, batch_size=32,\n",
        "              epsilon_decay=0.995, min_epsilon=0.01, buffer_size=10000, stack_size=4):\n",
        "\n",
        "    # Environment setup\n",
        "    env = gym.make(\"ALE/Hangman-v5\", render_mode=\"rgb_array\")\n",
        "    action_size = env.action_space.n\n",
        "\n",
        "    # Network initialization\n",
        "    q_net = ConvDQN(action_size, stack_size)\n",
        "    target_net = ConvDQN(action_size, stack_size)\n",
        "    target_net.load_state_dict(q_net.state_dict())\n",
        "\n",
        "    # Optimizer with learning rate scheduling\n",
        "    optimizer = optim.Adam(q_net.parameters(), lr=lr, eps=1e-8)\n",
        "    scheduler = optim.lr_scheduler.StepLR(optimizer, step_size=1000, gamma=0.9)\n",
        "\n",
        "    # Training components\n",
        "    memory = ReplayBuffer(buffer_size)\n",
        "    frame_stack = FrameStack(stack_size)\n",
        "\n",
        "    # Training metrics\n",
        "    epsilon = 1.0\n",
        "    rewards_all = []\n",
        "    wins = 0\n",
        "    total_steps = 0\n",
        "\n",
        "    # REPLAY BUFFER PRE-FILLING - Collect initial random experiences\n",
        "\n",
        "    print(\"Pre-filling replay buffer...\")\n",
        "    for _ in range(1000):\n",
        "        state, _ = env.reset()\n",
        "        current_frames = frame_stack.reset(preprocess_state(state))\n",
        "        previously_guessed = set()\n",
        "\n",
        "        for step in range(15):  # Limited steps per episode\n",
        "            action = random.randint(0, action_size - 1)\n",
        "            previously_guessed.add(action)\n",
        "\n",
        "            next_state, reward, terminated, truncated, _ = env.step(action)\n",
        "            next_frames = frame_stack.append(preprocess_state(next_state))\n",
        "\n",
        "            # Store experience with scaled reward\n",
        "            memory.add((current_frames, action,\n",
        "                       scale_reward(reward, previously_guessed),\n",
        "                       next_frames, terminated or truncated))\n",
        "\n",
        "            current_frames = next_frames\n",
        "            if terminated or truncated:\n",
        "                break\n",
        "\n",
        "    print(f\"Replay buffer filled with {len(memory)} experiences\")\n",
        "\n",
        "    # MAIN TRAINING LOOP\n",
        "\n",
        "    for ep in range(episodes):\n",
        "        state, _ = env.reset()\n",
        "        current_frames = frame_stack.reset(preprocess_state(state))\n",
        "        total_reward = 0\n",
        "        done = False\n",
        "        step_count = 0\n",
        "        previously_guessed = set()\n",
        "\n",
        "        while not done:\n",
        "            step_count += 1\n",
        "            total_steps += 1\n",
        "\n",
        "            # ACTION SELECTION - Epsilon-greedy with tie-breaking\n",
        "\n",
        "            if np.random.rand() < epsilon:\n",
        "                action = random.randint(0, action_size - 1)\n",
        "            else:\n",
        "                with torch.no_grad():\n",
        "                    state_tensor = torch.FloatTensor(current_frames).unsqueeze(0)\n",
        "                    q_values = q_net(state_tensor)\n",
        "                    # Add noise to break value ties\n",
        "                    noise = torch.normal(0, 0.1, size=q_values.shape)\n",
        "                    action = torch.argmax(q_values + noise).item()\n",
        "\n",
        "            action = action % action_size  # Ensure valid action\n",
        "            previously_guessed.add(action)\n",
        "\n",
        "            # Environment step\n",
        "            next_state, reward, terminated, truncated, _ = env.step(action)\n",
        "            done = terminated or truncated\n",
        "            next_frames = frame_stack.append(preprocess_state(next_state))\n",
        "\n",
        "            # Store experience\n",
        "            memory.add((current_frames, action,\n",
        "                       scale_reward(reward, previously_guessed),\n",
        "                       next_frames, done))\n",
        "\n",
        "            current_frames = next_frames\n",
        "            total_reward += reward\n",
        "\n",
        "            # NETWORK TRAINING - Periodic updates with experience replay\n",
        "\n",
        "            if len(memory) > batch_size and total_steps % 4 == 0:\n",
        "                states, actions, rewards, next_states, dones = memory.sample(batch_size)\n",
        "\n",
        "                # Convert to tensors\n",
        "                states_t = torch.FloatTensor(states)\n",
        "                actions_t = torch.LongTensor(actions).unsqueeze(1)\n",
        "                rewards_t = torch.FloatTensor(rewards)\n",
        "                next_states_t = torch.FloatTensor(next_states)\n",
        "                dones_t = torch.BoolTensor(dones)\n",
        "\n",
        "                # Q-learning update\n",
        "                current_q = q_net(states_t).gather(1, actions_t).squeeze()\n",
        "\n",
        "                with torch.no_grad():\n",
        "                    next_q = target_net(next_states_t).max(1)[0]\n",
        "                    target_q = rewards_t + gamma * next_q * (~dones_t).float()\n",
        "\n",
        "                # Optimization step\n",
        "                loss = nn.SmoothL1Loss()(current_q, target_q)\n",
        "                optimizer.zero_grad()\n",
        "                loss.backward()\n",
        "                torch.nn.utils.clip_grad_norm_(q_net.parameters(), 1.0)\n",
        "                optimizer.step()\n",
        "\n",
        "        # Track performance\n",
        "        if total_reward > 0:\n",
        "            wins += 1\n",
        "        rewards_all.append(total_reward)\n",
        "\n",
        "        # PERIODIC UPDATES - Target network, epsilon, and learning rate\n",
        "\n",
        "        if ep % 10 == 0:\n",
        "            target_net.load_state_dict(q_net.state_dict())\n",
        "\n",
        "        epsilon = max(epsilon * epsilon_decay, min_epsilon)\n",
        "\n",
        "        if ep % 100 == 0:\n",
        "            scheduler.step()\n",
        "\n",
        "        # PROGRESS MONITORING - Log training statistics\n",
        "\n",
        "        if ep % 20 == 0:\n",
        "            recent_rewards = rewards_all[-20:] if len(rewards_all) >= 20 else rewards_all\n",
        "            avg_reward = np.mean(recent_rewards)\n",
        "            win_rate = (sum(1 for r in recent_rewards if r > 0) / len(recent_rewards)) * 100 if recent_rewards else 0\n",
        "\n",
        "            print(f\"Episode {ep:4d} | \"\n",
        "                  f\"Avg Reward: {avg_reward:7.3f} | \"\n",
        "                  f\"Win Rate: {win_rate:5.1f}% | \"\n",
        "                  f\"Epsilon: {epsilon:.4f} | \"\n",
        "                  f\"Steps: {step_count:3d}\")\n",
        "\n",
        "    env.close()\n",
        "    return q_net, rewards_all"
      ],
      "metadata": {
        "id": "0VzfN6mGAd7W"
      },
      "execution_count": 7,
      "outputs": []
    },
    {
      "cell_type": "markdown",
      "source": [
        "Demonstration Utilities"
      ],
      "metadata": {
        "id": "QG53PFBpK4Ce"
      }
    },
    {
      "cell_type": "code",
      "source": [
        "def record_episode(env, q_net, preprocess_state, episode_num, max_steps=200):\n",
        "    \"\"\"Record agent gameplay with intelligent action selection\"\"\"\n",
        "    frames = []\n",
        "    state, _ = env.reset()\n",
        "    frame_stack = FrameStack()\n",
        "    state_processed = frame_stack.reset(preprocess_state(state))\n",
        "\n",
        "    total_reward = 0\n",
        "    done = False\n",
        "    step_count = 0\n",
        "    previously_guessed = set()\n",
        "\n",
        "    frames.append(env.render())\n",
        "\n",
        "    while not done and step_count < max_steps:\n",
        "        step_count += 1\n",
        "\n",
        "        # Action selection with tie-breaking and repetition avoidance\n",
        "        with torch.no_grad():\n",
        "            state_tensor = torch.FloatTensor(state_processed).unsqueeze(0)\n",
        "            q_values = q_net(state_tensor)\n",
        "            noise = torch.randn_like(q_values) * 0.1\n",
        "            action = torch.argmax(q_values + noise).item()\n",
        "\n",
        "        # Avoid repeated actions\n",
        "        if action in previously_guessed:\n",
        "            sorted_actions = torch.argsort(q_values + noise, descending=True)\n",
        "            for alt_action in sorted_actions[0]:\n",
        "                alt_action = alt_action.item()\n",
        "                if alt_action not in previously_guessed:\n",
        "                    action = alt_action\n",
        "                    break\n",
        "\n",
        "        previously_guessed.add(action)\n",
        "        state, reward, terminated, truncated, _ = env.step(action)\n",
        "        state_processed = frame_stack.append(preprocess_state(state))\n",
        "        done = terminated or truncated\n",
        "        total_reward += reward\n",
        "        frames.append(env.render())\n",
        "\n",
        "    # Save video\n",
        "    filename = f\"hangman_episode_{episode_num}_reward_{total_reward:.1f}.mp4\"\n",
        "    with imageio.get_writer(filename, fps=5) as writer:\n",
        "        for frame in frames:\n",
        "            writer.append_data(frame)\n",
        "\n",
        "    return filename, total_reward, step_count\n",
        "\n",
        "def show_video(video_path):\n",
        "    \"\"\"Display video in notebook\"\"\"\n",
        "    try:\n",
        "        with open(video_path, \"r+b\") as f:\n",
        "            video_url = f\"data:video/mp4;base64,{base64.b64encode(f.read()).decode()}\"\n",
        "            return HTML(f'<video width=\"600\" controls><source src=\"{video_url}\"></video>')\n",
        "    except FileNotFoundError:\n",
        "        print(f\"Video file {video_path} not found\")\n",
        "        return HTML(\"<p>Video not available</p>\")"
      ],
      "metadata": {
        "id": "rC7c55-ZM_pn"
      },
      "execution_count": 8,
      "outputs": []
    },
    {
      "cell_type": "code",
      "source": [
        "if __name__ == \"__main__\":\n",
        "    # Quick environment verification\n",
        "    env = gym.make(\"ALE/Hangman-v5\", render_mode=\"rgb_array\")\n",
        "    state, _ = env.reset()\n",
        "    print(f\"State shape: {state.shape}, Action space: {env.action_space.n}\")\n",
        "    env.close()\n",
        "\n",
        "    # Start training\n",
        "    print(\"Starting Convolutional DQN training...\")\n",
        "    q_net, rewards_all = train_dqn(episodes=500)\n",
        "\n",
        "    # Training statistics\n",
        "    plt.plot(rewards_all)\n",
        "    plt.xlabel(\"Episode\")\n",
        "    plt.ylabel(\"Reward\")\n",
        "    plt.title(\"Hangman - Convolutional DQN Training\")\n",
        "    plt.show()\n",
        "\n",
        "    print(f\"\\nTraining Complete:\")\n",
        "    print(f\"Episodes: {len(rewards_all)}\")\n",
        "    print(f\"Average reward: {np.mean(rewards_all):.2f}\")\n",
        "    print(f\"Max reward: {np.max(rewards_all):.2f}\")\n",
        "    print(f\"Wins: {sum(1 for r in rewards_all if r > 0)}\")\n",
        "\n",
        "    # Record demonstration videos\n",
        "    print(\"\\n\" + \"=\"*50)\n",
        "    print(\"RECORDING DEMONSTRATION VIDEOS\")\n",
        "    print(\"=\"*50)\n",
        "\n",
        "    record_env = gym.make(\"ALE/Hangman-v5\", render_mode=\"rgb_array\")\n",
        "\n",
        "    for ep_num in [0, 100, 200, 300, 400, 500]:\n",
        "        print(f\"Recording episode {ep_num}...\")\n",
        "        video_file, final_reward, steps = record_episode(record_env, q_net, preprocess_state, ep_num)\n",
        "        print(f\"Episode {ep_num}: Reward = {final_reward}, Steps = {steps}\")\n",
        "        display(show_video(video_file))\n",
        "        print(\"-\" * 40)\n",
        "\n",
        "    record_env.close()\n",
        "    print(\"All demonstration videos recorded!\")"
      ],
      "metadata": {
        "id": "4hZWxXMRApsi",
        "colab": {
          "base_uri": "https://localhost:8080/",
          "height": 1000
        },
        "outputId": "cb58371a-4a18-48af-9210-ac1f365e7943"
      },
      "execution_count": 9,
      "outputs": [
        {
          "output_type": "stream",
          "name": "stdout",
          "text": [
            "State shape: (210, 160, 3), Action space: 18\n",
            "Starting Convolutional DQN training...\n",
            "Pre-filling replay buffer...\n",
            "Replay buffer filled with 10000 experiences\n",
            "Episode    0 | Avg Reward:  -1.000 | Win Rate:   0.0% | Epsilon: 0.9950 | Steps: 146\n",
            "Episode   20 | Avg Reward:  -0.900 | Win Rate:   5.0% | Epsilon: 0.9001 | Steps: 186\n",
            "Episode   40 | Avg Reward:  -1.000 | Win Rate:   0.0% | Epsilon: 0.8142 | Steps: 175\n",
            "Episode   60 | Avg Reward:  -1.000 | Win Rate:   0.0% | Epsilon: 0.7366 | Steps: 154\n",
            "Episode   80 | Avg Reward:  -1.000 | Win Rate:   0.0% | Epsilon: 0.6663 | Steps: 169\n",
            "Episode  100 | Avg Reward:  -0.900 | Win Rate:   5.0% | Epsilon: 0.6027 | Steps: 165\n",
            "Episode  120 | Avg Reward:  -1.000 | Win Rate:   0.0% | Epsilon: 0.5452 | Steps: 158\n",
            "Episode  140 | Avg Reward:  -1.000 | Win Rate:   0.0% | Epsilon: 0.4932 | Steps: 171\n",
            "Episode  160 | Avg Reward:  -1.000 | Win Rate:   0.0% | Epsilon: 0.4462 | Steps: 160\n",
            "Episode  180 | Avg Reward:  -1.000 | Win Rate:   0.0% | Epsilon: 0.4036 | Steps: 140\n",
            "Episode  200 | Avg Reward:  -1.000 | Win Rate:   0.0% | Epsilon: 0.3651 | Steps: 190\n",
            "Episode  220 | Avg Reward:  -1.000 | Win Rate:   0.0% | Epsilon: 0.3303 | Steps: 167\n",
            "Episode  240 | Avg Reward:  -0.900 | Win Rate:   5.0% | Epsilon: 0.2988 | Steps: 166\n",
            "Episode  260 | Avg Reward:  -1.000 | Win Rate:   0.0% | Epsilon: 0.2703 | Steps: 159\n",
            "Episode  280 | Avg Reward:  -1.000 | Win Rate:   0.0% | Epsilon: 0.2445 | Steps: 160\n",
            "Episode  300 | Avg Reward:  -1.000 | Win Rate:   0.0% | Epsilon: 0.2212 | Steps: 182\n",
            "Episode  320 | Avg Reward:  -1.000 | Win Rate:   0.0% | Epsilon: 0.2001 | Steps: 156\n",
            "Episode  340 | Avg Reward:  -0.900 | Win Rate:   5.0% | Epsilon: 0.1810 | Steps: 201\n",
            "Episode  360 | Avg Reward:  -1.000 | Win Rate:   0.0% | Epsilon: 0.1637 | Steps: 145\n",
            "Episode  380 | Avg Reward:  -1.000 | Win Rate:   0.0% | Epsilon: 0.1481 | Steps: 158\n",
            "Episode  400 | Avg Reward:  -1.000 | Win Rate:   0.0% | Epsilon: 0.1340 | Steps: 142\n",
            "Episode  420 | Avg Reward:  -1.000 | Win Rate:   0.0% | Epsilon: 0.1212 | Steps: 185\n",
            "Episode  440 | Avg Reward:  -1.000 | Win Rate:   0.0% | Epsilon: 0.1096 | Steps: 156\n",
            "Episode  460 | Avg Reward:  -1.000 | Win Rate:   0.0% | Epsilon: 0.0992 | Steps: 175\n",
            "Episode  480 | Avg Reward:  -1.000 | Win Rate:   0.0% | Epsilon: 0.0897 | Steps: 161\n"
          ]
        },
        {
          "output_type": "display_data",
          "data": {
            "text/plain": [
              "<Figure size 640x480 with 1 Axes>"
            ],
            "image/png": "[encoded data removed]"
          },
          "metadata": {}
        },
        {
          "output_type": "stream",
          "name": "stdout",
          "text": [
            "\n",
            "Training Complete:\n",
            "Episodes: 500\n",
            "Average reward: -0.98\n",
            "Max reward: 1.00\n",
            "Wins: 4\n",
            "\n",
            "==================================================\n",
            "RECORDING DEMONSTRATION VIDEOS\n",
            "==================================================\n",
            "Recording episode 0...\n"
          ]
        },
        {
          "output_type": "stream",
          "name": "stderr",
          "text": [
            "WARNING:imageio_ffmpeg:IMAGEIO FFMPEG_WRITER WARNING: input image is not divisible by macro_block_size=16, resizing from (160, 210) to (160, 224) to ensure video compatibility with most codecs and players. To prevent resizing, make your input image divisible by the macro_block_size or set the macro_block_size to 1 (risking incompatibility).\n"
          ]
        },
        {
          "output_type": "stream",
          "name": "stdout",
          "text": [
            "Episode 0: Reward = -1.0, Steps = 167\n"
          ]
        },
        {
          "output_type": "display_data",
          "data": {
            "text/plain": [
              "<IPython.core.display.HTML object>"
            ],
            "text/html": [
              "<video width=\"600\" controls><source src=\"data:video/mp4;base64,AAAAIGZ0eXBpc29tAAACAGlzb21pc28yYXZjMW1wNDEAAAAIZnJlZQAAJuZtZGF0AAACrQYF//+p3EXpvebZSLeWLNgg2SPu73gyNjQgLSBjb3JlIDE2NCByMzE5MSA0NjEzYWMzIC0gSC4yNjQvTVBFRy00IEFWQyBjb2RlYyAtIENvcHlsZWZ0IDIwMDMtMjAyNCAtIGh0dHA6Ly93d3cudmlkZW9sYW4ub3JnL3gyNjQuaHRtbCAtIG9wdGlvbnM6IGNhYmFjPTEgcmVmPTMgZGVibG9jaz0xOjA6MCBhbmFseXNlPTB4MzoweDExMyBtZT1oZXggc3VibWU9NyBwc3k9MSBwc3lfcmQ9MS4wMDowLjAwIG1peGVkX3JlZj0xIG1lX3JhbmdlPTE2IGNocm9tYV9tZT0xIHRyZWxsaXM9MSA4eDhkY3Q9MSBjcW09MCBkZWFkem9uZT0yMSwxMSBmYXN0X3Bza2lwPTEgY2hyb21hX3FwX29mZnNldD0tMiB0aHJlYWRzPTMgbG9va2FoZWFkX3RocmVhZHM9MSBzbGljZWRfdGhyZWFkcz0wIG5yPTAgZGVjaW1hdGU9MSBpbnRlcmxhY2VkPTAgYmx1cmF5X2NvbXBhdD0wIGNvbnN0cmFpbmVkX2ludHJhPTAgYmZyYW1lcz0zIGJfcHlyYW1pZD0yIGJfYWRhcHQ9MSBiX2JpYXM9MCBkaXJlY3Q9MSB3ZWlnaHRiPTEgb3Blbl9nb3A9MCB3ZWlnaHRwPTIga2V5aW50PTI1MCBrZXlpbnRfbWluPTUgc2NlbmVjdXQ9NDAgaW50cmFfcmVmcmVzaD0wIHJjX2xvb2thaGVhZD00MCByYz1jcmYgbWJ0cmVlPTEgY3JmPTIzLjAgcWNvbXA9MC42MCBxcG1pbj0wIHFwbWF4PTY5IHFwc3RlcD00IGlwX3JhdGlvPTEuNDAgYXE9MToxLjAwAIAAAANiZYiEA//S1idp+JFF/B01Q+/nwJRKyrdDZG/pVad+ym2ABFn5gEH5FwlbJR8CQJHfiX2VIrgo5y1Wn32v2pQGesemdde+2Uoq5bX2cJDRy9Jc+0LLZA+/OiiTbuD39qjG4GZYOAJqL9aopMN/3c4cj2y8lAMjyZQgna9nSRuCh5/7VaLoAE65Gx4MYETQukK81sP8MjUwAbVgLMzJZvFivbOpPEYrAfMCTRGC4p4EmMzaAHQQhA71AwBsfC0DR9ENiuM1AKpWAXxlOzL3+vjapNyw9/Hko7hVSDv2iRj7Y8YUVkpXEUt2Id3lTDv0zStRyIOjFd/wRjM3mBdt/GC9nAH3vaPEg2xor5ihiWsrnj6APKqyDSxVbTwSArqg3KzpEz3BnQfXS81+EiK+3fy29+hLHpK1cInZJqtexFRx/i4JBQPOx0kUMqGi9YenqJ0atleAA6LARQ/gPaCHoeycUS1kYjSw5FjioAsTsoeB/1yvsCAaK7F+R0timUEvT8jMNBybXTtPo8QtDGiXYJxrbGIKwzmaTG12xVotrj9x4LNZ0NQhUP/bNndVdYPBdrJigA0xF9ny6JylyjAC3pABAWowMOY2QSLPIhf28T+XF1Lss+iOSClSuhdUVg4PHsr5hJLaVWF8A1VSZAKNLmM19hN1rMCTJD9aZeo9JB3/YQKm01BIHcDntKz66MdkdaAwl3iJPdUuwMs2PQQX7iehIcAbgaMPTyBJ1dFk6Mm3kES4nnJnz9wtV2xEv/dJ+oOVTA4XCCi4MiD+z1SO55aBQDBQkVKJLeXXlVPAP/44g7bu60wCZ2g54GQU5tyEafvkx/vE3Lb9Do9WuAevWXpQUCWzDfzcyOSZHMjzhaOoz4g1cM4OcqjIsTo6WkVndXnd9q/9S1dkY2EAkhhH899NP3JZwLyp6t927XmQYDXU3kNXtltXq3fhQ3ulBUj2V4TdSQbhyT61+sidMC6fmy8BIh5kdBNqm5v5sqFNSpOxh6sHi3qEp5Sp8Pb49RjXqKzmnNHI8N9LQIvmYCdaA99ZJk0VLLIGh2tCgu31ClEMRzIIxxH7gMwB73gs3moFd2xiT7b92nN3+9L2V2iIA7naDu0e/QX33+VoP+awD7Ovo6Zi/3Z5YZeQ0IZ0HYo35sZvGq8AAAIHQZokbEO/l17JacTnAar22XZiARfeqnF+49+5fY+8YE/eIcLRh4pNCvRhw+vbkqPzo/A8p2E3bav8ZlWqBpA//VgL7blt3sPDKFIgNSNttEEAwkbHTqx5QzWo6WlzyYeozyCzgtqvWzPFtNzbnjLd/ZbRAKQ5C21b/Suk5kZg3R39UPxZ5RSf4wqC9g9S8TRAV2vlwuTYODnXw1xkdhqqBEbnQgVACqJW4ujw3yb96Kzfm2VMC3KzTLh/MaoIdyqTjKpbgsb2Gutojc9dqWbLU3ww8u8I9tOA5Xsl7gDlP7mIFpSur2Bc00D59PVKAk4IABhfyGCaUTk+lGwt7cPFURhiVBli9fhPk/wQaQ4pBh8xLmV5/U7aKM4pRa9GWdJVGK7Z5lNn4gXHQcCNUKROZg6giFsScLApphgMsZN6QnpB9vcFKckXyfto8rOnk2qU9jxhZCC8bkTfGGp/OY7iV/pdkPVllFbt7Tk9k8HS5jWZDudEdqwnSjwryqoFGy+9OHhq+R32nDyrYI8fVzvJIwWKSttgCAfYNQpUAWRJLLKepSOkX3jl2Uebgsuf/cE9Mge3W52447Rg0/ialEWBNWJHy9Cnw/gNTNm9DgKhp6Og/3EV9y0DuA+Vf+cjYioogGL7cuRQBhufHgsEUWL9WK4Wcg4nRodG0rdFw09RVLlaaTXCsnTsAAAAMUGeQniF/+fRZG/DDTIxsSBMRwnWlGAkTQfoGTate2jQOUg8EvG64NSDz0CuZxfqi+0AAAAoAZ5hdEJ/8cyPQ+AgE5QmJlMbLilv7kHFdjHkTnTes98SoWa2mfNdnAAAAAkBnmNqQn8AN6EAAAAWQZpoSahBaJlMCHf//qmWAC2/IMxZzQAAABBBnoZFESwv//VkLFzYfsS5AAAACwGepXRCfwBffIbxAAAACQGep2pCfwA3oAAAABJBmqxJqEFsmUwId//+qZYAGrAAAAAOQZ7KRRUsL//1ZCxczjkAAAAJAZ7pdEJ/ADegAAAACQGe62pCfwA3oAAAAelBmvBJqEFsmUwId//+qZYCIi35D6m2BJ+U2row6Uo49BpUa7OT+m5Xq7JKWlYr+qwLOYoIk0hP/MYAwEzVKIa4OBy8XmVwShs+8Hig8DHS2DmP/EjkosoPaQE5TkCBBKJgNWJEyjncls+U8WxU9oFbdCM4OzOmIpLPuWKFmIc3Sdkfbgk3SD6SwqzT7/eZL4lFrEdYT5FWzoTBy2icApbF56oOv4UXZFm1KrPqbJbC5Wc42VmdIxCC/jKCETkmUZTlo1YDQj371oD6iHmS78B2919POXyE0Ia9KM4eGwhrmR1zBbYVIkg80RBBUsGdNehdah1QGanLGMHuApxQ6rI/Em3Mtaw3xYL+O5h3PUrCTUyYw3CEQ3F1GNT6oqFy+XsBvwp3TBaWiX7+v9X5tEeeFWp0VoCK29G6AMNJrco8d1q+xjvIzfh1cBp22x3OK1nuo8N4GTvgB+nEp/evpRjxe2ht0qaDc1Ymvw1y1NrnyShjX9b7xAaKbwQDy1cNwh0L+M2HbzOef7djhcKntPXUpTwUCRrp0aeVRRHBkmaxUnqouST8LpghfX1cvR6MYrwPvgT4G41FyjK2P7p6+2g8yBHhrYsj/d/GDvKSQrdRnjmYu46qziUUQa2DmfjurHjwR9hHtSypGjEAAAAfQZ8ORRUsL//1ZCxdZK82TAzvBCCHNYglf4cWRaZKQQAAABYBny10Qn8Caez3iIsbBYFqPJDltPiBAAAACwGfL2pCfwEV3ES4AAAAGEGbNEmoQWyZTAh3//6plgCEKiYQEllVZgAAAA5Bn1JFFSwv//VkLFzOOQAAAAsBn3F0Qn8BFWqbyAAAAAkBn3NqQn8AN6AAAAASQZt4SahBbJlMCHf//qmWABqxAAAADkGflkUVLC//9WQsXM44AAAACQGftXRCfwA3oQAAAAkBn7dqQn8AN6EAAADLQZu8SahBbJlMCHf//qmW0+zf5PohMnnls0cdGH//2E5/zSCHmN4h/2GDfZ/SgcYFO5Mh4y9BhSffFlmQi1TRGOVvqBzsahgQ//qzKM3p+rMiqUTpmz4KPAfuOQ18iOUdhfqh2mBgT7NbroPHTMuvANq1Gxgccc8f8Q9BKiAQk/90xKRpao3nGF/rq6NR/s7aj80ubh7SMzG3DyLEkYRTXT3ojRRSD5N+Bf114hx3RyyXApKad83vKSxlw0OQadiMbCbYAH8Y5VUO1MAAAAAfQZ/aRRUsL//1ZCxgemjdVd6ToTT/480acrP1zCQ0jwAAABMBn/l0Qn8IfKJiVEfNp2DXZLNgAAAADQGf+2pCfwHDeTlB08UAAAAYQZvgSahBbJlMCHf//qmWCvY5qb9eDbaBAAAADkGeHkUVLC//9WQsXM44AAAADgGePXRCfwHC2cioWCCIAAAACwGeP2pCfwHDeRa1AAAAEkGaJEmoQWyZTAh3//6plgAasAAAAA5BnkJFFSwv//VkLFzOOQAAAAwBnmF0Qn8BwtnIkHwAAAALAZ5jakJ/AcN5FrUAAAAsQZpnSahBbJlMCHf//qmWAtROy2AEgGIVmiaJLpBeynZUVddyqD9t5qR6V3UAAAAWQZ6FRRUsK//2RCc5fv3qsToab35XAwAAAAsBnqZqQn8Bw3kWtQAAAbJBmqtJqEFsmUwId//+qZYPqf6DDqslK8gIbETzbrtshe2qZ4mkEwESs7TTuGAAdHzeKQQ64eE6qPX0KI38D4HZoxvnYLFA8ZLm2JjaigvVSLuZFI9yhZh2QkNYHLuVSQmj/NCEWZguXmxAcX1ynyR+eScbrFKHjRXlSeIiClMEwVeVJ6sJXjqs+EHBTIqsoRCkon2/XpJNJfcbZOJk17aEgZbB5UhaDl7UVPoW7Whv2q8Dl+QE8tgTV1w9f7NSWAhARwYVOZrpDTxwe6SXHba3/vIrMBtDNCJwlQiw2ZFI2q+UPfQARcoZ+IvZDNZW2sni5T7dlhEgzLUaph9cCH/6/gQfxU8ucLYOAVjLCC1pLPpoOStNZl9Nr4VOdvwveC34hnfkSqUhl7713hQMfFqKX32phR5nSCqEKCEWd7KPxUcgvt4Ngo0eS0IruHtpEWTl2CiRxdXlunHGOR5ojnxlZLEhw8MWFldaMlh8Vd8l68gv2jbHhdoLFqCTicYpgQ4R9R/os032b7dZksk30v/Caid2TIQNJaAwQ5D1JI6phfGz6K15Tm9cG5X8nvaP3xYuIAAAABxBnslFFSwv//VkLF4ovM0btWNYNkzpniyrGQ44AAAAFAGe6HRCfwRHSd5GXSNHq6jlrynNAAAACwGe6mpCfwHDeRa0AAAAHUGa70moQWyZTAh3//6plgLS+hF6FhzAwvGcsm4oAAAADkGfDUUVLC//9WQsXM45AAAADAGfLHRCfwHC2ciQfQAAAAsBny5qQn8Bw3kWtQAAABJBmzNJqEFsmUwId//+qZYAGrAAAAAOQZ9RRRUsL//1ZCxczjgAAAAMAZ9wdEJ/AcLZyJB9AAAACwGfcmpCfwHDeRa0AAABEkGbd0moQWyZTAh3//6plg+5ogPJJjarcXthx+4Te7y7QZBux7men4do1KnA2sZTVRL6Lg7jdkcEvf3UmWoMacQxEzhrnPm8vx2IXEY/RuRauh1PwKH76/4E4qlmoGq5GG65HKa8lhP6/GkduHbACHszqZzQfKs4OMqOyj3FkWk6vEwJsLQ9vELhYMAM97ckuH4V7HgJMoLaeF4seIAdGtRM864fN7Xswi3c+SdZcykNg9KpEhuxqRTa02MRrtmRxMEyQoKOSK5jE+lnP1pILLfilZ/hrQZFw3fj3dOfB87i98X+u3L3vKdJbivrAXoCma6iK39j56sBBwNymzBKQkjqZ01rMx5Crmp5wL0kFnQM84AAAAAhQZ+VRRUsL//1ZCxdXndBO9FAk41o9ReJQHnSCGsfX6txAAAAEgGftHRCfwJZ78v04p8SSXZUJAAAABEBn7ZqQn8Czg0hMbtJ9kgfoQAAAB9Bm7tJqEFsmUwId//+qZYAhNGVPAJV103OYjjdBAxRAAAAGUGf2UUVLC//9WQsXijCT213pLvpAGDgqYAAAAANAZ/4dEJ/AcLaP+znyQAAAAsBn/pqQn8Bw3kWtAAAABJBm/9JqEFsmUwId//+qZYAGrEAAAAOQZ4dRRUsL//1ZCxczjkAAAALAZ48dEJ/AcLaCRgAAAALAZ4+akJ/AcN5FrQAAAF/QZojSahBbJlMCHf//qmWA5vrYSfdd3QGcXpfjO1fspOb6P/lQ8x9z29UooSwS3UEhgVD7M0/K+B02Y1/6t7UWVLRmBBdvUBzPIR3uv9MAACh/IBlWi8nrczlV9kuS1vMUEYGk/1hRJ7xcdh7Kg2CT9B3HRBxC0xlSiaHPAWh02aBTydWVCRdN5UE61Q5J4DcN7NNr34oZ2v4gifoVGyUF531A7ZuB/eIYHZKCjcL5nH+gdMWDZS+omVrYlgAckzZ3gp3p5lEGCK8j3Z8A6id4KgYIT6iOddtQWjtqhiybFWyae0Vuf26LIIvOeZj+0Wg88sivx8sygoJGuxKeqsIBZG10atnvsuNdD3IlhUf/Drt9CvXeS6644QIraHszTitjWXOCTdDHZ3yV6qzx8HyOMcYPWo4cgDljd4afZSRhWWvZ/szxHWlGl40cMBpbWrWsrmoAbW2XFfkyteu1gD7OrxZr0TjUShSs4SxxSs2WPEfXOE88lB6o6BzqJ1LDFkAAAAWQZ5BRRUsL//1ZCxdHi7Gl/MF8YXBQgAAABUBnmB0Qn8Bwtp41qFM1kexT6zQPYEAAAARAZ5iakJ/AsL7BtnSKRCn7fQAAAASQZpnSahBbJlMCHf//qmWABqxAAAAHUGehUUVLC//9WQsXYWl+R5EIfrmeXQanZeRwqCBAAAACwGepHRCfwHC2gkZAAAACwGepmpCfwHDeRa1AAAAEkGaq0moQWyZTAh3//6plgAasAAAAA5BnslFFSwv//VkLFzOOAAAAAsBnuh0Qn8BwtoJGQAAAAsBnupqQn8Bw3kWtAAAADFBmu9JqEFsmUwId//+qZYCAfBOACL0xkf2e0FYR8m6oU3BuqtNZEH5aCB6J+UJ/gjAAAAADkGfDUUVLC//9WQsXM45AAAACwGfLHRCfwHC2gkZAAAAEQGfLmpCfwJZFsuj6nsLqv91AAABgUGbM0moQWyZTAh3//6plgH091PAZAZj5rE69h1/gdgTN/jDrlYyUpRNarNItgOhHc8rIn2nNx3FLlCgGc0H8EW6TEJw5Y9ksjhOP6htZl4+H3Bkz5soxKXd01nGV4pr3bgMpG+d0hVjA3vbqQsxTeQhtYrKXOEEUOpEmfdrkMrA0FJidj3bZCFc+X94wziQeynIwCvZkV2Hvg9vHkd7+5xCceYRKPJ7hrlnt6FxPe6c5cS/3eb5ePf1oSISumiDlWP6sqe2EhgPaAAPUaqbxp/Z49wK0pRf5ScDOCWPU6wgqr+SMKZWu5xb0QnWUoZ38SGpXxzVohVTFf3tRtCk5R9+T3u0fXtvSLHtPhQnPjP1HgNF+kki0QyAokk0i56CMnK5gWHtBh/FpHUKFKjSDdMMmIlM5M+b0nsMdVC8sN8QVWPi14AvTMPoxo4xUQBgUho6+E0Td6EbDugsyh/u6/g7QxVJMiWL26MVhbkUFqObC/YO862I7vmsOnfCXEP/s+gAAAAeQZ9RRRUsL//1ZCxdXnalvCbBoULmc4i4qtHxPPUwAAAAFgGfcHRCfwJZ78v0lucjcdrxzKZOIl8AAAAMAZ9yakJ/Akm4WKe6AAAAEkGbd0moQWyZTAh3//6plgAasAAAAA5Bn5VFFSwv//VkLFzOOQAAAAwBn7R0Qn8CSNTg73oAAAAMAZ+2akJ/Akm4WKe7AAAAEkGbu0moQWyZTAh3//6plgAasQAAAA5Bn9lFFSwv//VkLFzOOAAAAAwBn/h0Qn8CSNTg73sAAAAMAZ/6akJ/Akm4WKe6AAABtUGb/0moQWyZTAh3//6plgMgqOCLSJIEkr2dpXsMBKw80+jcdFz3PQIiW7KboMRPjYUlEBQZNkXm5sURhcJVmP19iVRx0P35lWOEFWpFx8Ox9go3HnSi7sgzitpUop1RFEAjlQwDTO92quyOgdKLYKmSzhmKQ4fiXtdKqJpd2d3Q7z5e8gEN9SOc9qFL8KQXC0iJ8UKrxziPGHUxDU+L2c0TkEO5snaUS/LJPgmnWd5gkmzDuVKLOlB+TuV2GZaR+wzQklGwsOo/TrWdtPtYfz5rKR482Ny/0Hd+aFhiqCiH/GbmhFe+1yHJM+J1HJ+z1UI7w3SLF9cZyNyKtWosLyJ757Ihz2wCx/kJ+zFjQ3QuRcH8kYtahsqF3K+o/ONuEIZjN8y5z7wQ9y3HqEM55e5PX1h+vAw2DgLDa1BEGyT79x45HXwj7F3secowJROMJhrcdqZ55j7R/YAA0CUDmqcPQAgY5CCiNWJYs17TmuR4LxZaHXyaS2/4sbYTvyDg0E3DSbm80wTifxslH0feLQAKDw/HO7PTBYzFcpkfztAJyFu0W+KDuxQDwvfvPqUp3mfybqtBAAAAJUGeHUUVLC//9WQsXYEnzOF3owMZULZgZplBtkjfN4jdKWc3LBkAAAAVAZ48dEJ/AljSe3zD046aXaINSEeMAAAAEAGePmpCfwJJubybRroH2cAAAAASQZojSahBbJlMCHf//qmWABqxAAAADkGeQUUVLC//9WQsXM44AAAAEAGeYHRCfwJI1qbZrpJEd4EAAAAQAZ5iakJ/Akm5vJtGugfZwAAAABJBmmdJqEFsmUwId//+qZYAGrEAAAAOQZ6FRRUsL//1ZCxczjkAAAAQAZ6kdEJ/AkjWptmukkR3gQAAABABnqZqQn8CSbm8m0a6B9nBAAAAVEGaq0moQWyZTAh3//6plgIB2FnB+OXCtSnIawZdz+tUNqBD/+/gdCPeBZPm3XGa4McGl4HrQ0+WLuYeucolDvY61nuQuVo9wtubPPOd8rP3GY26RgAAAB5BnslFFSwv//VkLF1edqWaxzSeQsQkjoSM4H8x7eAAAAAWAZ7odEJ/AlnronBfJGdMamv6Gubb5QAAABABnupqQn8CSbm8m0a6B9nAAAAB7kGa70moQWyZTAh3//6plgFyYMpSG8/dyExHiRM7/0797ads24/5++v0qweDsZeOltuktl8j6/8Fv2Rp+B9WOr1NScdUKPer4WFEWfztCZ9mP3+/bMrJ2VLcJM0ExcN7phqaDgml4kW2NZSSudKaxPhajgUrPnT9+T4oA/9yPr+NQKqA3g5kBXZ5F9j0ciMe8YSfVV1eDRBGqGmhZXnboT7dEFfvQ6/L2pWgARyFyrmqQQcw68wXYxgsgxzOCWTONBWZJQPOTKWd8OKrBJ9NQZ3FkBGck230iJNxbgsZtNa8Al+/+j35n6U8jf89WtS/p9Q75LomK1xcmYUyI3t572TRy+nWFt/4BJV5E+hjYAXwjflyacBxGg/cIGi9jb0vo5nLjvzmzhPX5unBmTeM3XZb1Yra3Eww/JQgsf1lcsk4ho6DFLWUTiKJ4kqzTBCC11nkFN216J0AGzjuFEv1HORzTLfJSqyM0kS157dJeithbHykJkGocPoazcjC3O1jpc3QzPfUksVd+qchTjXAcYyCk31G6+hG66hwurNOVCVLmDsz4uhbJtQwx7Nsl+AGDML0n35K9i8dh3qDev+R3PRuoxMjyboPpcpKzgE/Rh8JKj6QCtbI7eEIwASCXccrigCzHvb7KPoSgP2HU1B4AAAAGUGfDUUVLC//9WQsXTk2rx8KynlsdA8alNEAAAAUAZ8sdEJ/AkjWpto5onqh6djc3mEAAAAVAZ8uakJ/Akm5vJpeKYBBCqWH1/3BAAAAEkGbM0moQWyZTAh3//6plgAasAAAAB1Bn1FFFSwv//VkLF1Ln6mdkh/0GdL5s+PNq/DQTAAAABABn3B0Qn8CSNam2a6SRHeBAAAAEAGfcmpCfwJJubybRroH2cAAAAAVQZt3SahBbJlMCHf//qmWAPk7sCXoAAAADkGflUUVLC//9WQsXM45AAAAEAGftHRCfwJI1qbZrpJEd4AAAAAPAZ+2akJ/Akm5vJt1T5AHAAABLUGbu0moQWyZTAh3//6plgEU0/memilSuK0lWd0BeEMRCmI+TQVglnQCH/8Fk9FRfj+cfIh+YyDdLygFllZstPOjn/peuDYyZlES6x5rvbugiwq5n1/8otoBzniizJrbSDxxbJNGgNTn4xpfn3sxPqh7MZIwD/cQMPLJPmo7jx5jCGbUnTWArQcIhJgd8AuGLS+k97PSspWlKVEcc8EeonEYstgz4xpblxNelk24IaRgGT1TC9RNdEJDcpO4Hy19ReSkZDIaLBMvGtdK/D36zJgkmyS48MRfk/guOE6YFZ0lPM2xK+wqwcLBICkElYGnIfTfZhHT51HeiaxVNSWR8kMOzsjsC2tk4/Fr+jUAlK/9bFcy4AEHmk5KM3yoDa2gaglWSzbE1gf0yvARXpEAAAAbQZ/ZRRUsL//1ZCxdOTau4T/FLsCQ+zhJviHwAAAAEwGf+HRCfwJI1qbaS/FYv5+ohjEAAAAWAZ/6akJ/Akm5vJtGxxGo+CVu+Tp++AAAABVBm/9JqEFsmUwId//+qZYAiCp0PaUAAAAbQZ4dRRUsL//1ZCxdK7sonskg1Jpw0N5Wbqt5AAAAEwGePHRCfwJI1qbZrpJMz4cDkUAAAAARAZ4+akJ/Akm5vJtGugrLxYEAAAASQZojSahBbJlMCHf//qmWABqxAAAADkGeQUUVLC//9WQsXM44AAAAEQGeYHRCfwJI1qbZrpJMzzaVAAAAEQGeYmpCfwJJubybRroKy8WBAAAAJ0GaZ0moQWyZTAh3//6plgEI/kuSh2hkCX9jyEYfiRWezG4DNkw1ewAAAA5BnoVFFSwv//VkLFzOOQAAABEBnqR0Qn8CSNam2a6STM82lQAAABMBnqZqQn8CSbm8m4qv4Z8M5F63AAAAc0Gaq0moQWyZTAh3//6plgIBDTb9BOsgVGxC4jHwvXuD+sA1v8AAJ/yneXjuJyDl/OWLt2CpCyo4lQ3lhURcD7JVIrb7aY5KBvcYzBSVWrWS0+9qFjsLkjpOZtj1+ide69JDXpTVzDRB7SdfAvvcS36PnPgAAAAWQZ7JRRUsL//1ZCxdNpKpSripr3Cc9AAAABEBnuh0Qn8CSNam2a6STM82lQAAABMBnupqQn8CWba2soHZ7OzmjpouAAAA90Ga70moQWyZTAh3//6plg+56UEP+BhhRj/XZmOfuoIre4VBdOfonrr6xwrxZSjDItYD//EAX5M9beP71bAAASdBBAFUWUbAjwFM75UnkqLfUlPkcCudzQnrAAAMv/Vte1lqwmWeZ4AEP+dPfD+ydaOfQPcf5XXcRyvP9i5ktrr8xiP6qJcQNQHfd6fkkQb3a29oriVQIjL/L8JnXXnXTF08CdNsXmej/2LeYtgKnL+8CZcMENfmbbhhArSK7ACoyerM6z5kQl9cTGROAgdtw6shNM2xmIe/4OD2voShnzMKKE9+bNxsQ7+NAbuLsNDrV3b7UdG8XMAAAAAgQZ8NRRUsL//1ZCxdXnal0eEO+8Fe+jL4FC8xNlAP1IEAAAAVAZ8sdEJ/AkjWptmuriHw8uuscJnPAAAAEAGfLmpCfwJJubybRroH2cEAAAAfQZszSahBbJlMCHf//qmWAJwfadAHp0hsE72rr+jyzAAAABZBn1FFFSwv//VkLF0UEGprMhC+jS2AAAAAEQGfcHRCfwJI1qbZrpJMzzaVAAAAEAGfcmpCfwJJubybRroH2cAAAAAYQZt3SahBbJlMCHf//qmWD7npQKEe6LKAAAAADkGflUUVLC//9WQsXM45AAAAEAGftHRCfwJI1qbZrpJEd4AAAAAQAZ+2akJ/Akm5vJtGugfZwQAAARFBm7tJqEFsmUwIb//+p4QD77zbmKnVJuMhKo8f/g8EdDS7lbXyabHipBA61E1Jsu8mD36Ze5XQ/He2nJJOB1i8I5bMdL5DKEjNvk8+GGsivlGMiEeHlKIumICVkDEHj2ji/6CByr+1BfNgzOzLCox6laPpNutbhiRm6aJB5mUH+ENbzNpJF+Dy4ZvmbiqUfC9U/q/OHDQSh6JnXcaQ5Pi65PzqZU8ztL6qBT5+OYN4sgSX1ECAMCTg+OjPEYL3881+M2JUCS3U4ZYTv0dr3UnU2OIWziQXuGpi9znMVeyQcDt2T2axSNF8kMPga6tJP+Fn1n6DwcqmO2wmuVA1kKWzFDx/M6ITGhVgf1vnitSl518AAAAhQZ/ZRRUsL//1ZCxdXnalvCbBnHdg4lwdWiZZTyc7p3OjAAAAGAGf+HRCfwJZ66JwYE6/AcfNrLBvelJI8QAAAA8Bn/pqQn8CSbm8m0a7qcAAAAASQZv/SahBbJlMCG///qeEADUhAAAADkGeHUUVLC//9WQsXM45AAAADwGePHRCfwJI1qbZrpdTgAAAAA8Bnj5qQn8CSbm8m0a7qcAAAAASQZojSahBbJlMCGf//p4QAM+BAAAADkGeQUUVLC//9WQsXM44AAAADwGeYHRCfwJI1qbZrpdTgQAAAA8BnmJqQn8CSbm8m0a7qcAAAABLQZpmSahBbJlMCFf//jhAHx9cZAQfFciq0A6OWc3UNWDSQ6dFcrEpvES4yY1s22aFoKc1uOb5uljyejvPt60llaP5D1bdICTSFkedAAAAHkGehEUVLCv/9kQnOYN4PopNwMzBgn5HWCgcgVHnZwAAABEBnqVqQn8CSbm8m0a9n3NUgQAAAORBmqdJqEFsmUwIT//+PmVenryH+TTVgLte0cTq5koa5AMQknjIf7EJTjEri+w4nTyYiqzy/iABOIcmEd3uyD3Bw9pPQ1rLOBykLdjYGiWowY25kIDYjAOa+tDPlwUUSmfHjUAIdi81tT+wKcMtyD4q1DaggiRtnR0/FUGpk93GLqYrrsaZon0wquub5erdWVQ2lbU7YGNZMTriYsgs8pCv/4FEF6qzGPBhzJC4Op+x5Q3zav5x95sMJPwnuDsS/nNFAggba5/FLVF6ncQcO6vm11eyMUOyJanU1QoRzQ6uv9ySOcEAAAr5bW9vdgAAAGxtdmhkAAAAAAAAAAAAAAAAAAAD6AAAg0AAAQAAAQAAAAAAAAAAAAAAAAEAAAAAAAAAAAAAAAAAAAABAAAAAAAAAAAAAAAAAABAAAAAAAAAAAAAAAAAAAAAAAAAAAAAAAAAAAAAAAAAAgAACiR0cmFrAAAAXHRraGQAAAADAAAAAAAAAAAAAAABAAAAAAAAg0AAAAAAAAAAAAAAAAAAAAAAAAEAAAAAAAAAAAAAAAAAAAABAAAAAAAAAAAAAAAAAABAAAAAAKAAAADgAAAAAAAkZWR0cwAAABxlbHN0AAAAAAAAAAEAAINAAAAQAAABAAAAAAmcbWRpYQAAACBtZGhkAAAAAAAAAAAAAAAAAAAoAAAFQABVxAAAAAAALWhkbHIAAAAAAAAAAHZpZGUAAAAAAAAAAAAAAABWaWRlb0hhbmRsZXIAAAAJR21pbmYAAAAUdm1oZAAAAAEAAAAAAAAAAAAAACRkaW5mAAAAHGRyZWYAAAAAAAAAAQAAAAx1cmwgAAAAAQAACQdzdGJsAAAAr3N0c2QAAAAAAAAAAQAAAJ9hdmMxAAAAAAAAAAEAAAAAAAAAAAAAAAAAAAAAAKAA4ABIAAAASAAAAAAAAAABFExhdmM2MS4zLjEwMCBsaWJ4MjY0AAAAAAAAAAAAAAAAGP//AAAANWF2Y0MBZAAL/+EAGGdkAAus2UKHaEAAAAMAQAAAAwKDxQplgAEABmjr48siwP34+AAAAAAUYnRydAAAAAAAAAlBAAAJQQAAABhzdHRzAAAAAAAAAAEAAACoAAAIAAAAABRzdHNzAAAAAAAAAAEAAAABAAAFQGN0dHMAAAAAAAAApgAAAAEAABAAAAAAAQAAKAAAAAABAAAQAAAAAAEAAAAAAAAAAQAACAAAAAABAAAoAAAAAAEAABAAAAAAAQAAAAAAAAABAAAIAAAAAAEAACgAAAAAAQAAEAAAAAABAAAAAAAAAAEAAAgAAAAAAQAAKAAAAAABAAAQAAAAAAEAAAAAAAAAAQAACAAAAAABAAAoAAAAAAEAABAAAAAAAQAAAAAAAAABAAAIAAAAAAEAACgAAAAAAQAAEAAAAAABAAAAAAAAAAEAAAgAAAAAAQAAKAAAAAABAAAQAAAAAAEAAAAAAAAAAQAACAAAAAABAAAoAAAAAAEAABAAAAAAAQAAAAAAAAABAAAIAAAAAAEAACgAAAAAAQAAEAAAAAABAAAAAAAAAAEAAAgAAAAAAQAAIAAAAAACAAAIAAAAAAEAACgAAAAAAQAAEAAAAAABAAAAAAAAAAEAAAgAAAAAAQAAKAAAAAABAAAQAAAAAAEAAAAAAAAAAQAACAAAAAABAAAoAAAAAAEAABAAAAAAAQAAAAAAAAABAAAIAAAAAAEAACgAAAAAAQAAEAAAAAABAAAAAAAAAAEAAAgAAAAAAQAAKAAAAAABAAAQAAAAAAEAAAAAAAAAAQAACAAAAAABAAAoAAAAAAEAABAAAAAAAQAAAAAAAAABAAAIAAAAAAEAACgAAAAAAQAAEAAAAAABAAAAAAAAAAEAAAgAAAAAAQAAKAAAAAABAAAQAAAAAAEAAAAAAAAAAQAACAAAAAABAAAoAAAAAAEAABAAAAAAAQAAAAAAAAABAAAIAAAAAAEAACgAAAAAAQAAEAAAAAABAAAAAAAAAAEAAAgAAAAAAQAAKAAAAAABAAAQAAAAAAEAAAAAAAAAAQAACAAAAAABAAAoAAAAAAEAABAAAAAAAQAAAAAAAAABAAAIAAAAAAEAACgAAAAAAQAAEAAAAAABAAAAAAAAAAEAAAgAAAAAAQAAKAAAAAABAAAQAAAAAAEAAAAAAAAAAQAACAAAAAABAAAoAAAAAAEAABAAAAAAAQAAAAAAAAABAAAIAAAAAAEAACgAAAAAAQAAEAAAAAABAAAAAAAAAAEAAAgAAAAAAQAAKAAAAAABAAAQAAAAAAEAAAAAAAAAAQAACAAAAAABAAAoAAAAAAEAABAAAAAAAQAAAAAAAAABAAAIAAAAAAEAACgAAAAAAQAAEAAAAAABAAAAAAAAAAEAAAgAAAAAAQAAKAAAAAABAAAQAAAAAAEAAAAAAAAAAQAACAAAAAABAAAoAAAAAAEAABAAAAAAAQAAAAAAAAABAAAIAAAAAAEAACgAAAAAAQAAEAAAAAABAAAAAAAAAAEAAAgAAAAAAQAAKAAAAAABAAAQAAAAAAEAAAAAAAAAAQAACAAAAAABAAAoAAAAAAEAABAAAAAAAQAAAAAAAAABAAAIAAAAAAEAACgAAAAAAQAAEAAAAAABAAAAAAAAAAEAAAgAAAAAAQAAKAAAAAABAAAQAAAAAAEAAAAAAAAAAQAACAAAAAABAAAoAAAAAAEAABAAAAAAAQAAAAAAAAABAAAIAAAAAAEAACgAAAAAAQAAEAAAAAABAAAAAAAAAAEAAAgAAAAAAQAAKAAAAAABAAAQAAAAAAEAAAAAAAAAAQAACAAAAAABAAAoAAAAAAEAABAAAAAAAQAAAAAAAAABAAAIAAAAAAEAACgAAAAAAQAAEAAAAAABAAAAAAAAAAEAAAgAAAAAAQAAIAAAAAACAAAIAAAAAAEAABAAAAAAHHN0c2MAAAAAAAAAAQAAAAEAAACoAAAAAQAAArRzdHN6AAAAAAAAAAAAAACoAAAGFwAAAgsAAAA1AAAALAAAAA0AAAAaAAAAFAAAAA8AAAANAAAAFgAAABIAAAANAAAADQAAAe0AAAAjAAAAGgAAAA8AAAAcAAAAEgAAAA8AAAANAAAAFgAAABIAAAANAAAADQAAAM8AAAAjAAAAFwAAABEAAAAcAAAAEgAAABIAAAAPAAAAFgAAABIAAAAQAAAADwAAADAAAAAaAAAADwAAAbYAAAAgAAAAGAAAAA8AAAAhAAAAEgAAABAAAAAPAAAAFgAAABIAAAAQAAAADwAAARYAAAAlAAAAFgAAABUAAAAjAAAAHQAAABEAAAAPAAAAFgAAABIAAAAPAAAADwAAAYMAAAAaAAAAGQAAABUAAAAWAAAAIQAAAA8AAAAPAAAAFgAAABIAAAAPAAAADwAAADUAAAASAAAADwAAABUAAAGFAAAAIgAAABoAAAAQAAAAFgAAABIAAAAQAAAAEAAAABYAAAASAAAAEAAAABAAAAG5AAAAKQAAABkAAAAUAAAAFgAAABIAAAAUAAAAFAAAABYAAAASAAAAFAAAABQAAABYAAAAIgAAABoAAAAUAAAB8gAAAB0AAAAYAAAAGQAAABYAAAAhAAAAFAAAABQAAAAZAAAAEgAAABQAAAATAAABMQAAAB8AAAAXAAAAGgAAABkAAAAfAAAAFwAAABUAAAAWAAAAEgAAABUAAAAVAAAAKwAAABIAAAAVAAAAFwAAAHcAAAAaAAAAFQAAABcAAAD7AAAAJAAAABkAAAAUAAAAIwAAABoAAAAVAAAAFAAAABwAAAASAAAAFAAAABQAAAEVAAAAJQAAABwAAAATAAAAFgAAABIAAAATAAAAEwAAABYAAAASAAAAEwAAABMAAABPAAAAIgAAABUAAADoAAAAFHN0Y28AAAAAAAAAAQAAADAAAABhdWR0YQAAAFltZXRhAAAAAAAAACFoZGxyAAAAAAAAAABtZGlyYXBwbAAAAAAAAAAAAAAAACxpbHN0AAAAJKl0b28AAAAcZGF0YQAAAAEAAAAATGF2ZjYxLjEuMTAw\"></video>"
            ]
          },
          "metadata": {}
        },
        {
          "output_type": "stream",
          "name": "stdout",
          "text": [
            "----------------------------------------\n",
            "Recording episode 100...\n"
          ]
        },
        {
          "output_type": "stream",
          "name": "stderr",
          "text": [
            "WARNING:imageio_ffmpeg:IMAGEIO FFMPEG_WRITER WARNING: input image is not divisible by macro_block_size=16, resizing from (160, 210) to (160, 224) to ensure video compatibility with most codecs and players. To prevent resizing, make your input image divisible by the macro_block_size or set the macro_block_size to 1 (risking incompatibility).\n"
          ]
        },
        {
          "output_type": "stream",
          "name": "stdout",
          "text": [
            "Episode 100: Reward = -1.0, Steps = 178\n"
          ]
        },
        {
          "output_type": "display_data",
          "data": {
            "text/plain": [
              "<IPython.core.display.HTML object>"
            ],
            "text/html": [
              "<video width=\"600\" controls><source src=\"data:video/mp4;base64,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\"></video>"
            ]
          },
          "metadata": {}
        },
        {
          "output_type": "stream",
          "name": "stdout",
          "text": [
            "----------------------------------------\n",
            "Recording episode 200...\n"
          ]
        },
        {
          "output_type": "stream",
          "name": "stderr",
          "text": [
            "WARNING:imageio_ffmpeg:IMAGEIO FFMPEG_WRITER WARNING: input image is not divisible by macro_block_size=16, resizing from (160, 210) to (160, 224) to ensure video compatibility with most codecs and players. To prevent resizing, make your input image divisible by the macro_block_size or set the macro_block_size to 1 (risking incompatibility).\n"
          ]
        },
        {
          "output_type": "stream",
          "name": "stdout",
          "text": [
            "Episode 200: Reward = -1.0, Steps = 161\n"
          ]
        },
        {
          "output_type": "display_data",
          "data": {
            "text/plain": [
              "<IPython.core.display.HTML object>"
            ],
            "text/html": [
              "<video width=\"600\" controls><source src=\"data:video/mp4;base64,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\"></video>"
            ]
          },
          "metadata": {}
        },
        {
          "output_type": "stream",
          "name": "stdout",
          "text": [
            "----------------------------------------\n",
            "Recording episode 300...\n"
          ]
        },
        {
          "output_type": "stream",
          "name": "stderr",
          "text": [
            "WARNING:imageio_ffmpeg:IMAGEIO FFMPEG_WRITER WARNING: input image is not divisible by macro_block_size=16, resizing from (160, 210) to (160, 224) to ensure video compatibility with most codecs and players. To prevent resizing, make your input image divisible by the macro_block_size or set the macro_block_size to 1 (risking incompatibility).\n"
          ]
        },
        {
          "output_type": "stream",
          "name": "stdout",
          "text": [
            "Episode 300: Reward = -1.0, Steps = 160\n"
          ]
        },
        {
          "output_type": "display_data",
          "data": {
            "text/plain": [
              "<IPython.core.display.HTML object>"
            ],
            "text/html": [
              "<video width=\"600\" controls><source src=\"data:video/mp4;base64,AAAAIGZ0eXBpc29tAAACAGlzb21pc28yYXZjMW1wNDEAAAAIZnJlZQAAJY9tZGF0AAACrQYF//+p3EXpvebZSLeWLNgg2SPu73gyNjQgLSBjb3JlIDE2NCByMzE5MSA0NjEzYWMzIC0gSC4yNjQvTVBFRy00IEFWQyBjb2RlYyAtIENvcHlsZWZ0IDIwMDMtMjAyNCAtIGh0dHA6Ly93d3cudmlkZW9sYW4ub3JnL3gyNjQuaHRtbCAtIG9wdGlvbnM6IGNhYmFjPTEgcmVmPTMgZGVibG9jaz0xOjA6MCBhbmFseXNlPTB4MzoweDExMyBtZT1oZXggc3VibWU9NyBwc3k9MSBwc3lfcmQ9MS4wMDowLjAwIG1peGVkX3JlZj0xIG1lX3JhbmdlPTE2IGNocm9tYV9tZT0xIHRyZWxsaXM9MSA4eDhkY3Q9MSBjcW09MCBkZWFkem9uZT0yMSwxMSBmYXN0X3Bza2lwPTEgY2hyb21hX3FwX29mZnNldD0tMiB0aHJlYWRzPTMgbG9va2FoZWFkX3RocmVhZHM9MSBzbGljZWRfdGhyZWFkcz0wIG5yPTAgZGVjaW1hdGU9MSBpbnRlcmxhY2VkPTAgYmx1cmF5X2NvbXBhdD0wIGNvbnN0cmFpbmVkX2ludHJhPTAgYmZyYW1lcz0zIGJfcHlyYW1pZD0yIGJfYWRhcHQ9MSBiX2JpYXM9MCBkaXJlY3Q9MSB3ZWlnaHRiPTEgb3Blbl9nb3A9MCB3ZWlnaHRwPTIga2V5aW50PTI1MCBrZXlpbnRfbWluPTUgc2NlbmVjdXQ9NDAgaW50cmFfcmVmcmVzaD0wIHJjX2xvb2thaGVhZD00MCByYz1jcmYgbWJ0cmVlPTEgY3JmPTIzLjAgcWNvbXA9MC42MCBxcG1pbj0wIHFwbWF4PTY5IHFwc3RlcD00IGlwX3JhdGlvPTEuNDAgYXE9MToxLjAwAIAAAAOVZYiEA//S1idp+JFF/B01Q+/nwJRKyrdDZG/pVad+ym2ABFn5gEH5FwlbJR8CQJHfiX2VIrgo5y1Wn32v2pQGesemdde+2Uoq5bX2cJDRy9Jc+0LLZA+/OiiTbuD39qjG4GZYOAJqL9aopMN/3c4cj2y8lAMjyZQgna9nSRuCh5/7VaLoAE65Gx4MYETQukK81sP8MjUwAbVgLMzJZvFivbOpPEYrAfMCTRGC4p4EmMzaAHQQhA71AwBsfC0DR9ENiuM1AKpWAXxlOzL3+vjapNyw9/Hko7hVSDv2iRj7Y8YUVkpXEUt2Id3lTDv0zStRyIOjFd/wRjM3mBdt/GC9nAH3vaPEg2xor5ihiWsrnj6APKqyDSxr+dXVqbJ48kxHOFX3OJ1+8ydQK/y29+hLHpK1cInZJqtexFRx/i4JBQPOx0kUMqGi9YenqJ0atleAA6LARQ/gPXu6wSkczLaGAs3aZWsF6jNp/v4KQB2xivK1hToAtD2hZROgX4vHei9Iq2Jczafs008Oa2r3PSHWoFKZTET++yT/9P5//PgpxOy/s5wIuDzj/BUP+2c3ZKbRIzrJ9C6T9xABgw2C6535M3wyEhjZYW9kGuV6o8vLBbDPXY0zkJ6+0243VJNX0C441e+KIweelz1aGdRw2114C/NC7BMrvyngj/IJfhVslaq5wLygm6yUvTWAyekV1DXzBYVmp0fto2THGe45vbbsYfGqqEBNy85bSVow4nC/7O9XSm5GphgZuVJss/5Ej77oTRqOYkco9C0dFglsz/z+kclOM6h1ImiUrRNvyC8Q7He4DJV8PhxaweScF11n2bLgSKpBYtFELtCEdHEftRE42ivc0UkVXAxwwNBpciP95ZORFDo+z3OEwdrqJbbtf0zpm0WmUseDyjIwsDH4NrWdkRROi0eF1T4cEyBMmi3K1GZ/S1b+m2HJD+kBPFnAvJt2ieSzo2dlDMRE8yYqqQH1iLn2tEyD5RweE20kFIcfiyiPRSoQL2zt3Rg2NmHXnylbKiQe8O7sug4vVg+eIbw4MhkjdSdF37zM1HUckB5slV9pf/inF5YE6MynYmueRw+EGTGynY/CDnZw3QOmFSEMAcMzgemkUWAAYn4S8PE/EynZ7GQSE/NA+/tiTM/FSaItpzYL8/BWczXf2EN+A3G/GqENO6EKwYQRxUOjHcSE5xBioCzz6tirxkKet0QX5Bh49F0J4p8AAALbQZokbEO/l17JacTnAar22XZiARfeqnFAMnCggD0DMfNYnXsOv8DsCZv8NE5VjJSmErNKDaLuewfWxpgvk6PgBT+bTaKVwojX/hRzGLqq04ByGHR82AU5FLGGlKF/Rfzl/nWI1htdmgkX57BzvVm62Cy4/I05+cbHJpOacp6to/wQW4TwtmPMZb6nJPTCj0EtMpN6CDJZGiFG3bvmIuEVMw0K0N9eZPhGGO43F1VQYPdhHrU7OsPcPVgUVNW5pdSoSKkDfLVWDOLf8sPiC1sIFZ3y3q60bAj/CvYnskqnbonA8q4rlYQCHLsKJ9qI2ThMl0tfSliX4vSljN9oJhErI9eQ1H/QOhEyyPNaDr8vMzdC+aQQWyiN9wbhiLZ7EDANV289eOGEFo+9LMkEGLTuC+nw3OLT9OB57pfoYkw1iSzoLhl3yP/ACO1sHQNvo15gcRsVq7j5gtZ1Xx07wsnKM/VJHDI21AnFs5F8HtIFHFkjgZVvxvMIIsU9kwByEjahYiD3w6/VJMg4IlIPbnAzfOE0VMPxYJl233Zg5r4xAMFEHA6AOQvBUZpyYl9Vt5rO2cKR8esU/OmGPhy9IwV27IwZMkCwNpZ8dflwkpeND46hMY8l+raPU0haNNVFMKXuHYy/nxcsJSf36uYEoIi4RDWdsasXM9VBIPwt9OuVc2wHz7MMcYJikH0NIzjjUvRc6SAp4QHx8LSDwDm7I7lE4KEEVFnBVJGIAtkUJbRQh6z8gJBwd8ZlPrnjBhkHH83tIa2e59ILOEMEO07OaxrBK0VCPsI6HPlUsKMLuwYBNYXegBY6chJMaMK/mzGuwnjqqQAZSmXXLSsZsuBl8oBQF/n3QyUiRBFJq06VEptck+Qtc0M6JZtVBilasHtzKoXgctA+zF3FNW3s4aCmdxHNVUqIByJQkSzjTZzo/Gz7sHSILREjAVRgXqRxMhoa6Ix+C3qZdrKA9TyuMsAAAAAgQZ5CeIX/59Fkb8MNMjGxHfXcIT+ZKdkTNrQPFkFD+jMAAAAMAZ5hdEJ/8cyPFMWAAAAACQGeY2pCfwA3oQAAABxBmmhJqEFomUwId//+qZYAMVHoR62Zu5R13bOBAAAADkGehkURLC//9WQsXM45AAAACQGepXRCfwA3oQAAAAkBnqdqQn8AN6AAAAA2QZqsSahBbJlMCHf//qmWAiIuJQhGASflNnjJq8GuR76Bsf3k1AnBaCYXtirnJWC5iUCN5M+gAAAADkGeykUVLC//9WQsXM45AAAACQGe6XRCfwA3oAAAABABnutqQn8Caba1JapHykKsAAABWEGa8EmoQWyZTAh3//6plutz/cvsfeMCfvEOFow8UmhXow4fXtyVH50fgeU7CbttX+MyrVA0gf/qwF9ty272HhlCkQGpG22iCAYSNjp1Y8oZrUdLS55MPUZ5vZ1O4pLZniAzvfM5SADPNMUo0QqjJB5DZNgrphArV+qaydmlFJ/jCoL2D1LxNEBXa+XC5Ng4OdfDXHqWNYO9uLD0j55SWmYJ24B+WJxyf6AAvv/Bb55AKiBp2nOPLK2SOLxrqucY93L+NLsoWm1FcEj0gYvtI6bytpDqfSkEUfHoh1xN6Ep82sIU7DM0ibCZzIQKzhrMnky2dN9yYXochTsPcXmnrjiwS5w3qXVEBMyUSYC5S93xZ4M/OvzPa4+Xr6wnjn3JEOoOa0giDC1e96YBcZHH7nva6uSNfENbBtbKWck523fRlBPaOsJrjzHmcLJtTGJMmN1ngqB1If4fAAAAGUGfDkUVLC//9WQsXWT56FQ5odZ0KvcbgzUAAAAJAZ8tdEJ/ADehAAAAEgGfL2pCfwhxXlfpM2gBhn0BOAAAABJBmzRJqEFsmUwId//+qZYAGrAAAAAdQZ9SRRUsL//1ZCxgejUzB9MhsJ/+OZ9xA/MeNaUAAAAJAZ9xdEJ/ADegAAAACQGfc2pCfwA3oAAAABJBm3hJqEFsmUwId//+qZYAGrEAAAAOQZ+WRRUsL//1ZCxczjgAAAAJAZ+1dEJ/ADehAAAACQGft2pCfwA3oQAAABJBm7xJqEFsmUwId//+qZYAGrAAAAAOQZ/aRRUsL//1ZCxczjkAAAAJAZ/5dEJ/ADegAAAACQGf+2pCfwA3oQAAACdBm/9JqEFsmUwId//+qZYCJMJhKVyKXu3K4PPydUWMdNfx1DNPF5kAAAAYQZ4dRRUsK//2RCc5g3g+ik22MKWc5IBAAAAACQGePmpCfwA3oAAAAPxBmiNJqEFsmUwId//+qZbT7N/k+iEyeeWzRx0Yf//YTn/NIIeY3iH/YYN9n9KBxgU7kyHjL0GFJ98WWZCLVNEY5W+oHOxqGBD/+rMozen6syKpROmbPgo8B+45DXyI5R2F+qHaYGBPs1uug8dMy68A2rUbGBxxzx/xD0EqIBCT/3TEpG6AxI1IJffrNKcmXFAXGBhLF3Uaqx0AmK4ptnMX9hO6T9pt9ZUbATfVXNJSjNdWcMXUXobKpmVQiDedO1Jm9h1+UPb5HLtKHkctBucx0fJgrwtRZfmgc/WfTXOIDn2XLWE8o7VfnigE61u0kgYxAHn07hCaMnUtezkAAAAeQZ5BRRUsL//1ZCxgemjdVd6XNAsO0LZ1wPrKspeMAAAAEwGeYHRCfwhtsd8Tme8X2T7rNeEAAAALAZ5iakJ/AcN5FrQAAAAXQZpnSahBbJlMCHf//qmWCvY5qsCY6L0AAAAOQZ6FRRUsL//1ZCxczjkAAAAMAZ6kdEJ/AcLZyJB9AAAACQGepmpCfwA3oQAAACdBmqtJqEFsmUwId//+qZYBF7z6/jVUgMN03Nw+m9SOr2eEl3W75jQAAAAOQZ7JRRUsL//1ZCxczjgAAAAJAZ7odEJ/ADehAAAAEAGe6mpCfwHZeAqS1DKK2d0AAAEmQZrvSahBbJlMCHf//qmWD6n+gw6rJSvICGxE8267bIXtqmeJpBMBErO007hgAHR83ikEOuHhOqj19CiN/A+B2aMb52CxQPGS5tiY2ooL1Ui7mRSPcoWYdkJDWBy7lUkJo/zQhFmYLl5sQHF9cp8kfnknG6xSh40V5UniIgpTBMFXlSerCV46rPhBwUyKrKEQpKJ9v16STSX3G2TiZNe2hIGWweVIWg5e1FT6Fu1ocPPTAIl2HFrXt0iPfk29aIQNrzU24zCRS5VG9tGRm6lln6MoHN0w2m7RvAUT2ofV8j9+xux6hEkJw1I4Pvk2BwV/1UYNACd1YvrQglCdoApJfXzeGu3ke6z5dIQzdIbpt8Lj6OOU4HTEn1L15ddzDxLP+22mFXmeAAAAGEGfDUUVLC//9WQsXTk21bU+nJwUzwaUawAAAAwBnyx0Qn8BHWk9UOcAAAAUAZ8uakJ/BErazPBslK9lcPRCUoEAAAASQZszSahBbJlMCHf//qmWABqwAAAAG0GfUUUVLC//9WQsXii8zSY7wJ7G+J2XMdE7DgAAAAkBn3B0Qn8AN6EAAAAJAZ9yakJ/ADegAAAAHUGbd0moQWyZTAh3//6plgLS+hF6EdwI0U1JdEb+AAAADkGflUUVLC//9WQsXM45AAAACQGftHRCfwA3oAAAAAkBn7ZqQn8AN6EAAAAlQZu7SahBbJlMCHf//qmWAtL6EKNlzpY8MhuIH3w+eOA097JteQAAAA5Bn9lFFSwv//VkLFzOOAAAAAkBn/h0Qn8AN6EAAAAOAZ/6akJ/Ac4HNg0iWrgAAAEnQZv/SahBbJlMCHf//qmWD7miA8kmNqtxe2HH7hN7vLtBkG7HuZ6fh2jUqcDaxlNVEvouDuN2RwS9/dSZagxpxDETOGvEaSD6Cv2bBnu0Y/uMbPC7r2/+fgXcOXoOJaroViDvWrryWQhCIuV7mm8ad0133ASMH9j3T7vx9WSOw7fAitvsjC8oAeoOJOJfh/izqaBJ3rHjiohsuDEu3P3VO1NdtXDeS6Yx69p20ggIbhM7agm+dyc81JgGYT0S8XsD5ZUp32Krvdt9Sk5XaZeCVmz0mtbF508RAHfVA0q9FKzer5VKKgb7DNMFSCQ6Xqbodg97m///ITfdH6VsR5elFvr84PUqu7R6lzkKO3mPcp1sc/n8OpVLxGZ9BVShaAfcFrJ7ujebzQAAABVBnh1FFSwv//VkLF02kqlKuJ6g2MkAAAAJAZ48dEJ/ADegAAAAGAGePmpCfwLODSE3MVDAmdEKxGceZQVe0AAAABhBmiNJqEFsmUwId//+qZYBzNTeu54Ka4EAAAAhQZ5BRRUsL//1ZCxeKMVt4WsMSKrlKC/vl32S/yEMqLqAAAAADQGeYHRCfwJI1ODgMRcAAAAJAZ5iakJ/ADegAAAAEkGaZ0moQWyZTAh3//6plgAasQAAAA5BnoVFFSwv//VkLFzOOQAAAAkBnqR0Qn8AN6EAAAAJAZ6makJ/ADehAAABb0Gaq0moQWyZTAh3//6plgOb62FKQe33QFvRUyh5riBDUnN9H/yHcIfnCkHqMgeDOwwSHttABvlLW0mUZkX/q3tRZUtuaUyl/n5hbUudPmNSxAe4p/yAzT2b237QlPkDbC7En+sKCV0Nls5ezcRT7oni2sgksvlT3c7N8rd2lb3ZJSafjO+GAVIIIt9Z6oUfadwNadddsQ5IRbA0Xnnvi2VxExv6iA/xWDlw+mHQnqhzTTAbVQnSMq0C3Q6WjxCSPoul/Qchdmp4tmKD1zOhdDtNqDKld36H2+JgH0WQIyZTBr4zw8wDuSaTbEf5n0avl+IaqWz2g1YJE8ppn3HRQniOw0qlDbiL1pO69MWNI6Nz/tW0VeAVXV6pKeUPoBtO1hRjtfu0p+tQh8ZLP9EubJ6ID/qnZcD8R9YhXxgzrdAQI0wt7ao0TgL/I5XoZd9OnfX+LhaObOM4PwUWfGVSa7ToK+2vciUUzfS1YrhaRW8AAAAgQZ7JRRUsL//1ZCxdhURyPIeRF0sjqKjFXg6TjZOqQJgAAAAXAZ7odEJ/As8vwuWWLFAL+NuCorzpr8kAAAAJAZ7qakJ/ADegAAAAEkGa70moQWyZTAh3//6plgAasAAAAA5Bnw1FFSwv//VkLFzOOQAAAAkBnyx0Qn8AN6EAAAAJAZ8uakJ/ADehAAAAEkGbM0moQWyZTAh3//6plgAasAAAAA5Bn1FFFSwv//VkLFzOOAAAAAkBn3B0Qn8AN6EAAAAJAZ9yakJ/ADegAAABnEGbd0moQWyZTAh3//6plgOBRMIFrcfSNzOZKme0stjYz62/N4Iv3vN4/OH6wJ9qG+FPWoNwIfbZqB0P3+B2AS/8Yai6Z++J07ola1fGJROHh8o4dVpkmYd/wdbK7P1bzdohD5vwnAwc+dmYe8Xx8iN6FZS8jxW3nxETRKZw7DiF5e36m44mKQNhDhi9vfVkUdvoEAL2K0hs3Dlzc5UNfnrXRXbTa/mh9yl7X34W3l9vthNumgHenrM/BzLs+GpGhxclg3uXGSYfe1x5zyy3/reuYlm5tGDy76koW1M/MA4dBXfeMBa1rWPBhxkRVwZgiMMH9jJg0rm3krSQUxaZV/YwP8d0yI8+1YyC5+FUumbxeRpApTqoLq5fWq2NXZoEgFIHgf6Ce2lrxzV0MsEiZ1iFlMnsF96wsbfLil2zYWPoVU7MMJFXZa3QC9K6Y10zq5OefLYD95yof7rP1DoFI0b1Xmc0VNUc8DYwoa5mDeEDoUXer5+rpqnGtlmIfKPDShzzkeZiOyjOivuVfsl2E1B/EaGf89T2we9d/4AAAAAeQZ+VRRUsL//1ZCxdXnequiz2rlQFW4Vqg23n4wDBAAAAEgGftHRCfwJY1aN64SzOGg0JgAAAABMBn7ZqQn8CGRGBohPSZdOFc2WBAAAAIEGbu0moQWyZTAh3//6plgCIKmpFefUh+7rCJ+4AMVhlAAAAH0Gf2UUVLC//9WQsXYEnRYMEsiDGrTVdZHVj9YQsJyAAAAAMAZ/4dEJ/AR1pPVDnAAAACQGf+mpCfwA3oAAAACFBm/9JqEFsmUwId//+qZYAhBnpVQioTIld22wIm3e1EQkAAAAOQZ4dRRUsL//1ZCxczjkAAAAJAZ48dEJ/ADegAAAACQGePmpCfwA3oAAAAeJBmiNJqEFsmUwId//+qZYB942ayIEJwDySIrGpN3v6ofcb+50mE96+LHKSbutKOlQCBIz+xnagDUR39fX7QjEBLjGspfFWvMrqmKfweniTNA2kc1ZPE8JdP3Tj+ob/cVYuIG74ZFGHu/uq0ZM8IcuHqJGYkGOeRn3ul+hGR8OqKqfZHB7Svspg2ZV+1fJLSxcOwFp92a5SlFi1mwO17/V8oX2Z1MdASK1zln/hpW53Rsm8CmCfDa3N4v6o/sOqAOTmcGraBRaSy0us0TSwDVREq+CP+tpiAbz4zOF7r5x96JLtd0AReJGiQJaU5qDsylOIdeTzJPTCi/rIO96xMGSX78WC9pY049QZqATfW6Cfl9PTUdIRrQ87UYcRhvSBY3oiirU8GDGBXWY2+vGZT/QR3tpnoCij476FtyCJWibdWravb8nS7swgaa5bH43/yJJol/gLWvYcu9/Wws8SWyiXpj+GSzdsphUlb4j9+XK19E8QHRCstVrAwW0EmYoeE/v2VbUWPvai794YlvXhgE/7HjWwGKm0oWrRjQjAEme3HZ5nvZ/EAIVvVOEmALo7m07vcpun6HRa2JPRsj5ywCzU+4B5oCQBzRfcjfyPcbxL4A37bB/hYo/MgarGin7z9PUbFwAAACNBnkFFFSwv//VkLF1eeANrcAvAF1O7UpNRAJC/GlhpbbgWKAAAABYBnmB0Qn8CWfHmh9lEebkzE0w72RnpAAAACwGeYmpCfwFhuEJYAAAAFUGaZ0moQWyZTAh3//6plgCrLpwyLQAAAA5BnoVFFSwv//VkLFzOOQAAAAsBnqR0Qn8BYUaZKQAAAAkBnqZqQn8AN6EAAAASQZqrSahBbJlMCHf//qmWABqwAAAADkGeyUUVLC//9WQsXM44AAAACQGe6HRCfwA3oQAAAAkBnupqQn8AN6AAAAEQQZrvSahBbJlMCHf//qmWANo46iriQELB2mIcwtkDIv4sYPUxJs5khpDWZWHMdW10eZuuhF4+goN/pQJ/wJ+m9woIsEiVtri7QrnkRmHa/+FEamlk8vZ55CbG+TOmL3AWuQCrb24QBcY7ID5uaDilAIcJPwIUjY0O5JIm8/hNp64IglUVlAg12lR7o4JCqsR2/5kRAUaW0dp8EF+29jTJ5f0d3FMUTWm5Oq0+UmbSxmSDPiLXnvDJY7+MQKAGUOJ1FCfe3DTwrS5PEkEtpVtj7ASrasf2LNCn/s+wIJa02qjl3e4BPemVs/ESRWLNwSDSO0EnCUByQlnLc+5CGOBeosZk0jIx9XECcKwGdMHeQF8AAAAeQZ8NRRUsL//1ZCxdK7sonspMUGV+3QZcdZDdizCpAAAAEgGfLHRCfwGj8nvGibc8S+QMxwAAAAsBny5qQn8BRrhDGQAAABtBmzNJqEFsmUwId//+qZYAnCp0ReCfJJL1dmAAAAAOQZ9RRRUsL//1ZCxczjgAAAALAZ9wdEJ/AUZGmfkAAAAJAZ9yakJ/ADegAAABd0Gbd0moQWyZTAh3//6plgIB+miBVIHMgMOjvT1f3D87psUMx/mMEdDS7lbzkGbPio/4pjClMLPlPB79IxS6F/UgT9FJOB1PSWlpW3UT8hlCRm38ip5SSqyjKhhYFm5Fuw35Rjv7PN+q37/oIGiVoKMOoSb4/CaV/JvB3pGgrVwxtw7lTMRHYKxrBAwxmoQr2XdJOKc53gAAoBzAz2HXTmRicQZ4gyWOJqCU7gm5rDsAABY/6tr2stWEyzzPAAh/zp74f2TrRhMhBI6Y85wTpLmEpUtwK0Oq4q4XcuNJ5gVxbRqsKDOMM45POTlzoxN050FYwEp6OIOOe1HHgnzCTN48GU5w9XKL9rf/WfAWtEW7mv99iq6PeAHuU4iKyB7lZisUiljWnArLtSmALonNL2axfjjqrWj80p2itVY1PByhDBLgv5PZ6rmat0EHwQGOMOIVPzsZHRiHqy+0cMnXCegrfUFsgOsfSbRg3cQqlFLFYyjwX9cR8AAAAA5Bn5VFFSwv//VkLFzOOQAAAAkBn7R0Qn8AN6AAAAAZAZ+2akJ/Alm45un0rRMP1yalUTKXQNZ+OQAAABJBm7tJqEFsmUwId//+qZYAGrEAAAAlQZ/ZRRUsL//1ZCxdXnalvCbBr0H9C46Wl3WKoytXnmObVEjpcAAAAAsBn/h0Qn8BwtoJGQAAAAsBn/pqQn8Bw3kWtAAAABJBm/9JqEFsmUwId//+qZYAGrEAAAAOQZ4dRRUsL//1ZCxczjkAAAALAZ48dEJ/AcLaCRgAAAALAZ4+akJ/AcN5FrQAAAJZQZojSahBbJlMCHf//qmWAgHCiydSAAADAZ5pEfTTdkBciYx5WUukP3n1f2e0D9WgWuCf81ZoEjJDnAHms6b+YV8P/EPpcLQVagGXy91bHgtLH9Xa6OcCuxjJ48+lTMdBIXmNWOhzKiyAX/RvYndNOJL/9ePbwldHOwdqKGdftbHUFJCCdNgUgWheskve5sADiAMo1Y/EGo+ivKdliVxUq6fear+wgfCP/+WgNrzN37zTznx0XQoMht9WdoC/w/yjZvjUk2Huht6Z1/6fxHVhRxIhtIeZ5iXTAtfnjQDM2lwNOcxbYnT/fiNBa9jXE9iyELAQzDK8CPiHQjwiJklzAqtFsvAXcJHty3XDr0ed0JOUFPCtmN0asX3G69wxf6kA3kA9tZ72g6IBiM0SQM+4NAl+7P6oVu6ZNnFuthbI+/H2joO9CE2bhZ8vpda2sJyt9ksra2NF7+4Ze2I0fqacadDnQdcBcGnAS4LGjp1+SFKKj/g78s+1Lbe6lTERvQ9zq6T6Qo2mZqN/cnYy2tsBO/HtRpHxB9dg5OYtIbjojIY+DlGdNKnlQ7uN1HS8fB0N2SUaSJxjsEm6HtBmqAFufisqrTqFr0JQ5BtQdtCtqDEZOPfQE7JOKekOFaTD3OgDbg3oRF71QgiJaPGYt7MMW8qs7cOFTpav/bwzQe106px9YTv5GiI2UgexaBF9VLDvhvCRhuMAEg2D8cbDD5dhJZ+TbMQc6X8d7jugOvZ7mUpAuikyRoUdUIOTLytBk+doprS+ItS7J5FNXL/tYZjSv+sf3fDXMCM37QAAABxBnkFFFSwv//VkLF1edqW8kXZTEl7hnseyxa2gAAAADQGeYHRCfwJY1ZEfO+kAAAAXAZ5iakJ/AdkGkcOlT56lGstp0OLP+sAAAAAeQZpnSahBbJlMCHf//qmWD7npQQ/0JJo+Rd533w4vAAAAHUGehUUVLC//9WQsXTk2rx8EjEtR3z825YXTxTnxAAAACwGepHRCfwHC2gkZAAAACwGepmpCfwHDeRa1AAAAEkGaq0moQWyZTAh3//6plgAasAAAAA5BnslFFSwv//VkLFzOOAAAAAsBnuh0Qn8BwtoJGQAAAAsBnupqQn8Bw3kWtAAAADtBmu9JqEFsmUwId//+qZYPuelAoR7/+dvyAY5igYCM0rhMqi5h9/8ARpiNh2Fp9fxscg02WOSBqQqEKwAAAA5Bnw1FFSwv//VkLFzOOQAAAAsBnyx0Qn8BwtoJGQAAAA4Bny5qQn8BzngK6num7wAAAPhBmzNJqEFsmUwId//+qZYB+gNYgvsNEC/PLV/r1YlPBFCAe8sB3QXhYOSWuRglOuUQTaubaMjYo228OMs5YVro6RaiyMDmkOSFhGJWpbA+wMiFoA1t32qeV4OqxiHhHII+A5PWcdva2jGqV4m/pp68IJKnRmsZ7hldR7bY+fQNEAPBCaDaEbWBA/8I9nt9OOfkZJMAwIsxCJ1EUxBt18MSINiffQnVMefheX94iJcOESdCKtSGd86g2dhKPALJFjQrxs3mKyxHFWhI8BTSTq4jxw33xpPtQlFtGRP+vBm/YUA3z5e8vjrGD40B3IjZN4qv8s3+rCdKgAAAABJBn1FFFSwv//VkLF02kqlLecAAAAALAZ9wdEJ/AcLaCRkAAAATAZ9yakJ/Alm4WF6F+CbjoQCQegAAABtBm3dJqEFsmUwIb//+p4QC39S0CfJfYGKgK4AAAAAaQZ+VRRUsL//1ZCxdXnalmsci60TBLTbqn4EAAAALAZ+0dEJ/AcLaCRgAAAAJAZ+2akJ/ADehAAAAEkGbu0moQWyZTAhn//6eEADPgQAAAA5Bn9lFFSwv//VkLFzOOAAAAAkBn/h0Qn8AN6EAAAAJAZ/6akJ/ADegAAAAEUGb/0moQWyZTAhX//44QAMrAAAADkGeHUUVLC//9WQsXM45AAAACQGePHRCfwA3oAAAAAkBnj5qQn8AN6AAAAC7QZogSahBbJlMCE///j5lXp68h/k01YC7YH1q+EAtPKJ0H9i8ZqaZk72le8IuQzmmUOzzOurW9we2jv3NByIZ/yhRMBoGo34UTkrhNOIsNMCcYCpZRA2whXClyD2AUd/TiKMqdZl2PRY7XVOXuRM6DRBOZ9B6//wGwETsGx0VDKhoRLoMWb5Wl/VEe1tnj9Z5xZGAinFlpO+XIe8Mj0TLTbt9xNsVtZ7SWeFDSBM+bFfqQSebpRySLEmq3wAACq1tb292AAAAbG12aGQAAAAAAAAAAAAAAAAAAAPoAAB9yAABAAABAAAAAAAAAAAAAAAAAQAAAAAAAAAAAAAAAAAAAAEAAAAAAAAAAAAAAAAAAEAAAAAAAAAAAAAAAAAAAAAAAAAAAAAAAAAAAAAAAAACAAAJ2HRyYWsAAABcdGtoZAAAAAMAAAAAAAAAAAAAAAEAAAAAAAB9yAAAAAAAAAAAAAAAAAAAAAAAAQAAAAAAAAAAAAAAAAAAAAEAAAAAAAAAAAAAAAAAAEAAAAAAoAAAAOAAAAAAACRlZHRzAAAAHGVsc3QAAAAAAAAAAQAAfcgAABAAAAEAAAAACVBtZGlhAAAAIG1kaGQAAAAAAAAAAAAAAAAAACgAAAUIAFXEAAAAAAAtaGRscgAAAAAAAAAAdmlkZQAAAAAAAAAAAAAAAFZpZGVvSGFuZGxlcgAAAAj7bWluZgAAABR2bWhkAAAAAQAAAAAAAAAAAAAAJGRpbmYAAAAcZHJlZgAAAAAAAAABAAAADHVybCAAAAABAAAIu3N0YmwAAACvc3RzZAAAAAAAAAABAAAAn2F2YzEAAAAAAAAAAQAAAAAAAAAAAAAAAAAAAAAAoADgAEgAAABIAAAAAAAAAAEUTGF2YzYxLjMuMTAwIGxpYngyNjQAAAAAAAAAAAAAAAAY//8AAAA1YXZjQwFkAAv/4QAYZ2QAC6zZQodoQAAAAwBAAAADAoPFCmWAAQAGaOvjyyLA/fj4AAAAABRidHJ0AAAAAAAACVIAAAlSAAAAGHN0dHMAAAAAAAAAAQAAAKEAAAgAAAAAFHN0c3MAAAAAAAAAAQAAAAEAAAUQY3R0cwAAAAAAAACgAAAAAQAAEAAAAAABAAAoAAAAAAEAABAAAAAAAQAAAAAAAAABAAAIAAAAAAEAACgAAAAAAQAAEAAAAAABAAAAAAAAAAEAAAgAAAAAAQAAKAAAAAABAAAQAAAAAAEAAAAAAAAAAQAACAAAAAABAAAoAAAAAAEAABAAAAAAAQAAAAAAAAABAAAIAAAAAAEAACgAAAAAAQAAEAAAAAABAAAAAAAAAAEAAAgAAAAAAQAAKAAAAAABAAAQAAAAAAEAAAAAAAAAAQAACAAAAAABAAAoAAAAAAEAABAAAAAAAQAAAAAAAAABAAAIAAAAAAEAACAAAAAAAgAACAAAAAABAAAoAAAAAAEAABAAAAAAAQAAAAAAAAABAAAIAAAAAAEAACgAAAAAAQAAEAAAAAABAAAAAAAAAAEAAAgAAAAAAQAAKAAAAAABAAAQAAAAAAEAAAAAAAAAAQAACAAAAAABAAAoAAAAAAEAABAAAAAAAQAAAAAAAAABAAAIAAAAAAEAACgAAAAAAQAAEAAAAAABAAAAAAAAAAEAAAgAAAAAAQAAKAAAAAABAAAQAAAAAAEAAAAAAAAAAQAACAAAAAABAAAoAAAAAAEAABAAAAAAAQAAAAAAAAABAAAIAAAAAAEAACgAAAAAAQAAEAAAAAABAAAAAAAAAAEAAAgAAAAAAQAAKAAAAAABAAAQAAAAAAEAAAAAAAAAAQAACAAAAAABAAAoAAAAAAEAABAAAAAAAQAAAAAAAAABAAAIAAAAAAEAACgAAAAAAQAAEAAAAAABAAAAAAAAAAEAAAgAAAAAAQAAKAAAAAABAAAQAAAAAAEAAAAAAAAAAQAACAAAAAABAAAoAAAAAAEAABAAAAAAAQAAAAAAAAABAAAIAAAAAAEAACgAAAAAAQAAEAAAAAABAAAAAAAAAAEAAAgAAAAAAQAAKAAAAAABAAAQAAAAAAEAAAAAAAAAAQAACAAAAAABAAAoAAAAAAEAABAAAAAAAQAAAAAAAAABAAAIAAAAAAEAACgAAAAAAQAAEAAAAAABAAAAAAAAAAEAAAgAAAAAAQAAKAAAAAABAAAQAAAAAAEAAAAAAAAAAQAACAAAAAABAAAoAAAAAAEAABAAAAAAAQAAAAAAAAABAAAIAAAAAAEAACgAAAAAAQAAEAAAAAABAAAAAAAAAAEAAAgAAAAAAQAAKAAAAAABAAAQAAAAAAEAAAAAAAAAAQAACAAAAAABAAAoAAAAAAEAABAAAAAAAQAAAAAAAAABAAAIAAAAAAEAACgAAAAAAQAAEAAAAAABAAAAAAAAAAEAAAgAAAAAAQAAKAAAAAABAAAQAAAAAAEAAAAAAAAAAQAACAAAAAABAAAoAAAAAAEAABAAAAAAAQAAAAAAAAABAAAIAAAAAAEAACgAAAAAAQAAEAAAAAABAAAAAAAAAAEAAAgAAAAAAQAAKAAAAAABAAAQAAAAAAEAAAAAAAAAAQAACAAAAAABAAAoAAAAAAEAABAAAAAAAQAAAAAAAAABAAAIAAAAAAEAACgAAAAAAQAAEAAAAAABAAAAAAAAAAEAAAgAAAAAAQAAKAAAAAABAAAQAAAAAAEAAAAAAAAAAQAACAAAAAABAAAoAAAAAAEAABAAAAAAAQAAAAAAAAABAAAIAAAAAAEAACgAAAAAAQAAEAAAAAABAAAAAAAAAAEAAAgAAAAAAQAAEAAAAAAcc3RzYwAAAAAAAAABAAAAAQAAAKEAAAABAAACmHN0c3oAAAAAAAAAAAAAAKEAAAZKAAAC3wAAACQAAAAQAAAADQAAACAAAAASAAAADQAAAA0AAAA6AAAAEgAAAA0AAAAUAAABXAAAAB0AAAANAAAAFgAAABYAAAAhAAAADQAAAA0AAAAWAAAAEgAAAA0AAAANAAAAFgAAABIAAAANAAAADQAAACsAAAAcAAAADQAAAQAAAAAiAAAAFwAAAA8AAAAbAAAAEgAAABAAAAANAAAAKwAAABIAAAANAAAAFAAAASoAAAAcAAAAEAAAABgAAAAWAAAAHwAAAA0AAAANAAAAIQAAABIAAAANAAAADQAAACkAAAASAAAADQAAABIAAAErAAAAGQAAAA0AAAAcAAAAHAAAACUAAAARAAAADQAAABYAAAASAAAADQAAAA0AAAFzAAAAJAAAABsAAAANAAAAFgAAABIAAAANAAAADQAAABYAAAASAAAADQAAAA0AAAGgAAAAIgAAABYAAAAXAAAAJAAAACMAAAAQAAAADQAAACUAAAASAAAADQAAAA0AAAHmAAAAJwAAABoAAAAPAAAAGQAAABIAAAAPAAAADQAAABYAAAASAAAADQAAAA0AAAEUAAAAIgAAABYAAAAPAAAAHwAAABIAAAAPAAAADQAAAXsAAAASAAAADQAAAB0AAAAWAAAAKQAAAA8AAAAPAAAAFgAAABIAAAAPAAAADwAAAl0AAAAgAAAAEQAAABsAAAAiAAAAIQAAAA8AAAAPAAAAFgAAABIAAAAPAAAADwAAAD8AAAASAAAADwAAABIAAAD8AAAAFgAAAA8AAAAXAAAAHwAAAB4AAAAPAAAADQAAABYAAAASAAAADQAAAA0AAAAVAAAAEgAAAA0AAAANAAAAvwAAABRzdGNvAAAAAAAAAAEAAAAwAAAAYXVkdGEAAABZbWV0YQAAAAAAAAAhaGRscgAAAAAAAAAAbWRpcmFwcGwAAAAAAAAAAAAAAAAsaWxzdAAAACSpdG9vAAAAHGRhdGEAAAABAAAAAExhdmY2MS4xLjEwMA==\"></video>"
            ]
          },
          "metadata": {}
        },
        {
          "output_type": "stream",
          "name": "stdout",
          "text": [
            "----------------------------------------\n",
            "Recording episode 400...\n"
          ]
        },
        {
          "output_type": "stream",
          "name": "stderr",
          "text": [
            "WARNING:imageio_ffmpeg:IMAGEIO FFMPEG_WRITER WARNING: input image is not divisible by macro_block_size=16, resizing from (160, 210) to (160, 224) to ensure video compatibility with most codecs and players. To prevent resizing, make your input image divisible by the macro_block_size or set the macro_block_size to 1 (risking incompatibility).\n"
          ]
        },
        {
          "output_type": "stream",
          "name": "stdout",
          "text": [
            "Episode 400: Reward = -1.0, Steps = 155\n"
          ]
        },
        {
          "output_type": "display_data",
          "data": {
            "text/plain": [
              "<IPython.core.display.HTML object>"
            ],
            "text/html": [
              "<video width=\"600\" controls><source src=\"data:video/mp4;base64,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\"></video>"
            ]
          },
          "metadata": {}
        },
        {
          "output_type": "stream",
          "name": "stdout",
          "text": [
            "----------------------------------------\n",
            "Recording episode 500...\n"
          ]
        },
        {
          "output_type": "stream",
          "name": "stderr",
          "text": [
            "WARNING:imageio_ffmpeg:IMAGEIO FFMPEG_WRITER WARNING: input image is not divisible by macro_block_size=16, resizing from (160, 210) to (160, 224) to ensure video compatibility with most codecs and players. To prevent resizing, make your input image divisible by the macro_block_size or set the macro_block_size to 1 (risking incompatibility).\n"
          ]
        },
        {
          "output_type": "stream",
          "name": "stdout",
          "text": [
            "Episode 500: Reward = 1.0, Steps = 186\n"
          ]
        },
        {
          "output_type": "display_data",
          "data": {
            "text/plain": [
              "<IPython.core.display.HTML object>"
            ],
            "text/html": [
              "<video width=\"600\" controls><source src=\"data:video/mp4;base64,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\"></video>"
            ]
          },
          "metadata": {}
        },
        {
          "output_type": "stream",
          "name": "stdout",
          "text": [
            "----------------------------------------\n",
            "All demonstration videos recorded!\n"
          ]
        }
      ]
    }
  ]
}