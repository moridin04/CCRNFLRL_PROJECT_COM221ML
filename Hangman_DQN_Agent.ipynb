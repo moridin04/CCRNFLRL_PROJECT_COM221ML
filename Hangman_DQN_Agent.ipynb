{
  "nbformat": 4,
  "nbformat_minor": 0,
  "metadata": {
    "colab": {
      "provenance": [],
      "gpuType": "T4",
      "include_colab_link": true
    },
    "kernelspec": {
      "name": "python3",
      "display_name": "Python 3"
    },
    "language_info": {
      "name": "python"
    },
    "accelerator": "GPU"
  },
  "cells": [
    {
      "cell_type": "markdown",
      "metadata": {
        "id": "view-in-github",
        "colab_type": "text"
      },
      "source": [
        "<a href=\"https://colab.research.google.com/github/moridin04/CCRNFLRL_PROJECT_COM221ML/blob/main/Hangman_DQN_Agent.ipynb\" target=\"_parent\"><img src=\"https://colab.research.google.com/assets/colab-badge.svg\" alt=\"Open In Colab\"/></a>"
      ]
    },
    {
      "cell_type": "markdown",
      "source": [
        "## **Training Hangman Agent using Deep Q-Learning**"
      ],
      "metadata": {
        "id": "bvUnbDLzHzuu"
      }
    },
    {
      "cell_type": "markdown",
      "source": [
        "**Installation and Import**"
      ],
      "metadata": {
        "id": "K5vzHa8hKNR9"
      }
    },
    {
      "cell_type": "code",
      "source": [
        "!pip install --upgrade --pre \"gymnasium[atari]\" ale-py\n",
        "\n",
        "import random\n",
        "import numpy as np\n",
        "import gymnasium as gym\n",
        "import ale_py\n",
        "import torch\n",
        "import torch.nn as nn\n",
        "import torch.optim as optim\n",
        "from collections import deque\n",
        "import matplotlib.pyplot as plt\n",
        "import imageio\n",
        "from IPython.display import Video, HTML\n",
        "import cv2\n",
        "import base64"
      ],
      "metadata": {
        "colab": {
          "base_uri": "https://localhost:8080/"
        },
        "id": "wKMHnjXeAQ5G",
        "outputId": "d8678b80-7727-40b3-f037-c88a85bd73fb"
      },
      "execution_count": 10,
      "outputs": [
        {
          "output_type": "stream",
          "name": "stdout",
          "text": [
            "Requirement already satisfied: ale-py in /usr/local/lib/python3.12/dist-packages (0.11.2)\n",
            "Requirement already satisfied: gymnasium[atari] in /usr/local/lib/python3.12/dist-packages (1.2.1)\n",
            "Requirement already satisfied: numpy>=1.21.0 in /usr/local/lib/python3.12/dist-packages (from gymnasium[atari]) (2.0.2)\n",
            "Requirement already satisfied: cloudpickle>=1.2.0 in /usr/local/lib/python3.12/dist-packages (from gymnasium[atari]) (3.1.1)\n",
            "Requirement already satisfied: typing-extensions>=4.3.0 in /usr/local/lib/python3.12/dist-packages (from gymnasium[atari]) (4.15.0)\n",
            "Requirement already satisfied: farama-notifications>=0.0.1 in /usr/local/lib/python3.12/dist-packages (from gymnasium[atari]) (0.0.4)\n"
          ]
        }
      ]
    },
    {
      "cell_type": "markdown",
      "source": [
        "### **Frame Stack**\n",
        "\n",
        "Creating a stack constructor of the most recent game frames.\n",
        "\n",
        "It initializes FrameStack with a stack size of 4, and uses a double-ended queue to efficiently store frames, maintaining a fixed size.\n",
        "\n",
        "For the **reset method**, it clears the frame stack, then fills it with initial state 4 times (per stack size), ensuring that the stack is full from the episode's beginning.\n",
        "\n",
        "For the **append method**, this adds a new state to the stack. The double-ended queue was assigned a max-length set of 4. With this, adding a new frame removes the oldest frame if the stack is full.\n",
        "\n",
        "The stacked frames are then returned as a NumPy array, with the frames stacked along a new dimension of axis 0 (a format expected by the Neural Network)."
      ],
      "metadata": {
        "id": "LkaZ5OSbKPde"
      }
    },
    {
      "cell_type": "code",
      "source": [
        "class FrameStack:\n",
        "    def __init__(self, stack_size=4):\n",
        "        self.stack_size = stack_size\n",
        "        self.frames = deque(maxlen=stack_size)\n",
        "\n",
        "    def reset(self, state):\n",
        "        self.frames.clear()\n",
        "        for _ in range(self.stack_size):\n",
        "            self.frames.append(state)\n",
        "        return self.get_stacked_frames()\n",
        "\n",
        "    def append(self, state):\n",
        "        self.frames.append(state)\n",
        "        return self.get_stacked_frames()\n",
        "\n",
        "    def get_stacked_frames(self):\n",
        "        return np.stack(self.frames, axis=0)"
      ],
      "metadata": {
        "id": "19ANXqaNrZ_8"
      },
      "execution_count": 11,
      "outputs": []
    },
    {
      "cell_type": "markdown",
      "source": [
        "### **Preprocessing**\n",
        "\n",
        "Here, the state becomes an input, taken as a visual representation.\n",
        "\n",
        "Firstly, it **checks the input type**, whether the state is a NumPy array with three dimension (indicating a visual frame), which is true, as the Hangman Atari environment possesses the features.\n",
        "\n",
        "Next, it **converts the image to grayscale**, **resizes** it to 84x84 pizels, **normalizes the pixel values **by dividing them by 255.0, **making them scale between 0 and 1**.\n",
        "\n",
        "If the state is not a 3D NumPy array, it creates a one-hot encoded vector of size 100, creating a vector of zeros and sets the element at the index corresponding to the state value to 1.\n",
        "\n",
        "Afterward, it **returns the processed state** -- the normalized grayscale image, specifically for the neural network only, but not the output.\n",
        "\n",
        "**Why is this crucial?** This next step prepares the environment's state observations for the neural network, which typically expects inputs in a specific format and range."
      ],
      "metadata": {
        "id": "0iS-cFIdKYks"
      }
    },
    {
      "cell_type": "code",
      "source": [
        "def preprocess_state(state):\n",
        "    if isinstance(state, np.ndarray) and len(state.shape) == 3:\n",
        "        state = cv2.cvtColor(state, cv2.COLOR_RGB2GRAY)\n",
        "        state = cv2.resize(state, (84, 84))\n",
        "        return state.astype(np.float32) / 255.0\n",
        "    else:\n",
        "        state_size = 100\n",
        "        vec = np.zeros(state_size)\n",
        "        vec[state] = 1.0\n",
        "        return vec"
      ],
      "metadata": {
        "id": "F-jFq4Hnrcm_"
      },
      "execution_count": 12,
      "outputs": []
    },
    {
      "cell_type": "markdown",
      "source": [
        "### **Neural Network - CNN (Visual Input)**\n",
        "\n",
        "Now, we define the **Convolutional Neural Network** designed to be used as Q-Network in a Deep Q-Learning agent. This is built for handling visual input from the Hangman game environment.\n",
        "\n",
        "After initializing the network, the agent takes **action size** (no. of possible actions in the environment), and the **stack size** (to match the Frame Stack).\n",
        "\n",
        "**self.conv** = This is where the agent defines the convolutional layers where it processes input image frames to extract relevant features. It consists of THREE convolutional layers with ReLU activation functions.\n",
        "\n",
        "**self.fc_input_size** = Here, the agent calculates the size of the flattened output from the convolutional layers. This will serve as the input size for fully connected layers.\n",
        "\n",
        "**self.fc** = Here, this defines the fully connected layers, taking extracted features and output the Q-Values for each possible action. It includes two linear layers with ReLU activation and dropout for regularization, followed by a final linear layer that outputs the Q-Values.\n",
        "\n",
        "**self.apply** = This is where the weights function gets applied to all modules in the network, initializing their weights.\n",
        "\n",
        "**init_weights** = A helper function that initializes weights of linear and convolutional layers using Xavier uniform initialization and sets biases to a **small constant**.\n",
        "\n",
        "**_get_conv_output** = Another helper function that calculates the size of the output from the convolutional layers given an input shape. Passes a dummy tensor through the convolutional layers, then gets the output size.\n",
        "\n",
        "**forward** = This final method defines the network's **forward pass**. Takes the input tensor x (stacked frames), passes through convolutional layers, flattens the output, and passes it through the fully connected layers to produce Q-Values.\n",
        "\n",
        "This CNN Deep Q-Network really takes stacked image frames as **input**, processes them through **convolutional layers**, and uses fully connected layers to **predict the expected future reward (Q-Value) for each action**."
      ],
      "metadata": {
        "id": "hMQjctPhKdos"
      }
    },
    {
      "cell_type": "code",
      "source": [
        "class ConvDQN(nn.Module):\n",
        "    def __init__(self, action_size, stack_size=4):\n",
        "        super(ConvDQN, self).__init__()\n",
        "        self.conv = nn.Sequential(\n",
        "            nn.Conv2d(stack_size, 32, kernel_size=8, stride=4),\n",
        "            nn.ReLU(),\n",
        "            nn.Conv2d(32, 64, kernel_size=4, stride=2),\n",
        "            nn.ReLU(),\n",
        "            nn.Conv2d(64, 64, kernel_size=3, stride=1),\n",
        "            nn.ReLU()\n",
        "        )\n",
        "\n",
        "        self.fc_input_size = self._get_conv_output((stack_size, 84, 84))\n",
        "\n",
        "        self.fc = nn.Sequential(\n",
        "            nn.Linear(self.fc_input_size, 512),\n",
        "            nn.ReLU(),\n",
        "            nn.Dropout(0.3),\n",
        "            nn.Linear(512, 256),\n",
        "            nn.ReLU(),\n",
        "            nn.Dropout(0.2),\n",
        "            nn.Linear(256, action_size)\n",
        "        )\n",
        "\n",
        "        self.apply(self._init_weights)\n",
        "\n",
        "    def _init_weights(self, module):\n",
        "        if isinstance(module, (nn.Linear, nn.Conv2d)):\n",
        "            nn.init.xavier_uniform_(module.weight)\n",
        "            if module.bias is not None:\n",
        "                nn.init.constant_(module.bias, 0.1)\n",
        "\n",
        "    def _get_conv_output(self, shape):\n",
        "        with torch.no_grad():\n",
        "            return int(np.prod(self.conv(torch.zeros(1, *shape)).size()))\n",
        "\n",
        "    def forward(self, x):\n",
        "        x = self.conv(x)\n",
        "        x = x.view(x.size(0), -1)\n",
        "        return self.fc(x)"
      ],
      "metadata": {
        "id": "PmONycyyAWzL"
      },
      "execution_count": 13,
      "outputs": []
    },
    {
      "cell_type": "markdown",
      "source": [
        "### **Replay Buffer**\n",
        "\n",
        "The Replay Buffer class is a fundamental component in Deep Q-Learning. It **stores experiences **(state, action, reward, next state, done) that the agent collects, as it interacts with the environment. Here, **the agent does its learning through past experiences** in a more stable and efficient way.\n",
        "\n",
        "**Why this is crucial**: It breaks the correlation between consecutive experiences, which can destabilize the Q-Network's training. By sampling random batches, the agent learns from a diverse set of experience."
      ],
      "metadata": {
        "id": "YBqYMi0LKn7a"
      }
    },
    {
      "cell_type": "code",
      "source": [
        "class ReplayBuffer:\n",
        "    def __init__(self, buffer_size):\n",
        "        self.buffer = deque(maxlen=buffer_size)\n",
        "\n",
        "    def add(self, experience):\n",
        "        self.buffer.append(experience)\n",
        "\n",
        "    def sample(self, batch_size):\n",
        "        batch = random.sample(self.buffer, batch_size)\n",
        "        states, actions, rewards, next_states, dones = zip(*batch)\n",
        "        return (np.array(states), np.array(actions), np.array(rewards, dtype=np.float32),\n",
        "                np.array(next_states), np.array(dones, dtype=np.uint8))\n",
        "\n",
        "    def __len__(self):\n",
        "        return len(self.buffer)"
      ],
      "metadata": {
        "id": "OgV_PkfyAaA3"
      },
      "execution_count": 14,
      "outputs": []
    },
    {
      "cell_type": "markdown",
      "source": [
        "### **Reward Scaling**\n",
        "\n",
        "The Reward Scaling function takes the raw reward from the Hangman environment and a set of previously guessed actions as input, then returns a scaled reward.\n",
        "\n",
        "This is mainly for **scaling the reward** to provide the agent with informative feedback while training, encouraging desirable behaviors and discouraging undesirable ones.\n",
        "\n",
        "**Positive Reward for Correct Guesses**\n",
        "- If the reward is greater than 0, the scaled reward is 10.0 + reward. This **gives a base reward for a correct guess**, plus the **actual reward from the environment**.\n",
        "- There is a **bonus** of 5.0 if the number of previously guessed letters is less than or equal to 3. This **encourages the agent to guess correctly early** in the game.\n",
        "\n",
        "**Zero Reward for Wrong Guesses**\n",
        "- If the reward is 0, the scaled reward is -1.0, assigning a **small penalty** for incorrect guesses.\n",
        "\n",
        "**Negative Reward for Game Over**\n",
        "- If the reward is negative due to many incorrect guesses, the scaled reward is -5.0, assigning a **larger penalty** for losing the game.\n",
        "\n",
        "The reward is used in the Q-Learning Update to *guide the agent's learning process*."
      ],
      "metadata": {
        "id": "MeKY4w7_KrTS"
      }
    },
    {
      "cell_type": "code",
      "source": [
        "def scale_reward(reward, previously_guessed):\n",
        "    if reward > 0:  # CORRECT\n",
        "        scaled = 10.0 + reward\n",
        "        # BONUS for EARLY GUESSES\n",
        "        if len(previously_guessed) <= 2:\n",
        "            scaled += 5.0\n",
        "        return scaled\n",
        "    elif reward == 0:  # WRONG\n",
        "        return -1.0\n",
        "    else:\n",
        "        # GAME OVER\n",
        "        return -5.0"
      ],
      "metadata": {
        "id": "UdgsG1_n2uKb"
      },
      "execution_count": 15,
      "outputs": []
    },
    {
      "cell_type": "markdown",
      "source": [
        "### **Training of Deep Q-Network**\n",
        "\n",
        "**Environment Setup** - Here, the Hangman environment is setup using gym.make.\n",
        "\n",
        "**Network Initialization** - The training create the primary Q-Network and a target network with the ConvDQN architecture. The target network's weights are initially copied from the Deep Q-Network.\n",
        "\n",
        "**Optimizer and Scheduler** - Here, the training sets up the Adam optimizer for updating the Q-Network's weights and a learning rate scheduler to adjust the learning rate during training.\n",
        "\n",
        "**Training Components** - It initializes the Replay Buffer and Frame Stack for handling sequential frames.\n",
        "\n",
        "**Training Metrics** - It initializes variables to track epsilon (Epsilon-Greedy Action selection), rewards, wins, and total steps.\n",
        "\n",
        "**Replay Buffer - Pre-Filling** - Before the main training loop, the training collects 1000 random experiences to fill the Replay Buffer, to stabilize initial training.\n",
        "\n",
        "**Main Training Loop**\n",
        "- **Action Selection** - Using Epsilon-Greedy strategy to choose actions. And with probability epsilon, a random action is chosen. Otherwise, the action with the highest predicted Q-Value from the Q-Net is selected. Noise is added to help break ties.\n",
        "\n",
        "- **Environment Step** - This part takes the chosen action in the environment and observes the next state, reward, and the episode's state (terminated or truncated).\n",
        "\n",
        "- **Store Experience** - Current experience is added to the Replay Buffer. The reward is scaled.\n",
        "\n",
        "- **Network Training** - A batch of experiences is sampled after the Buffer has enough experiences. The Q-Learning update rule is applied to train the Q-Net using the sampled batch and the target network.\n",
        "\n",
        "- **Periodic Updates** - The target network's weights are updated to match the Q-Network's weights every 10 episodes to improve training stability. Epsilon is decayed over time to reduce the randomness of action selection as training progresses. The learning rate is adjusted by the scheduler every 100 episodes.\n",
        "\n",
        "- **Progress Monitoring** - Printing training statistics every 20 episodes to monitor progress.\n",
        "\n",
        "- **Environment Close** - Closing the environment after training is complete.\n",
        "\n",
        "- **Return Values** - Returning the trained Q-Network and a list of rewards obtained in each episode."
      ],
      "metadata": {
        "id": "ZD944mD2Kxym"
      }
    },
    {
      "cell_type": "code",
      "source": [
        "def train_dqn(episodes=2000, gamma=0.99, lr=0.00025, batch_size=32,\n",
        "              epsilon_decay=0.995, min_epsilon=0.1, buffer_size=10000, stack_size=4):\n",
        "\n",
        "    #ENVIRONMENT SETUP\n",
        "    env = gym.make(\"ALE/Hangman-v5\", render_mode=\"rgb_array\")\n",
        "    action_size = env.action_space.n\n",
        "\n",
        "    #NETWORK INITIALIZING\n",
        "    q_net = ConvDQN(action_size, stack_size)\n",
        "    target_net = ConvDQN(action_size, stack_size)\n",
        "    target_net.load_state_dict(q_net.state_dict())\n",
        "\n",
        "    #OPTIMIZER AND SCHEDULER\n",
        "    optimizer = optim.Adam(q_net.parameters(), lr=lr, eps=1e-8)\n",
        "    scheduler = optim.lr_scheduler.StepLR(optimizer, step_size=1000, gamma=0.9)\n",
        "\n",
        "    #TRAINING COMPONENTS\n",
        "    memory = ReplayBuffer(buffer_size)\n",
        "    frame_stack = FrameStack(stack_size)\n",
        "\n",
        "    #TRAINING METRICS - IMPROVED EPSILON SCHEDULING\n",
        "    epsilon = 1.0\n",
        "    initial_epsilon = 1.0\n",
        "    final_epsilon = 0.01\n",
        "    epsilon_decay_steps = episodes * 0.8\n",
        "\n",
        "    # Adaptive epsilon parameters\n",
        "    performance_stagnation_threshold = 50\n",
        "    stagnation_count = 0\n",
        "    best_win_rate = 0\n",
        "    rewards_all = []\n",
        "    wins = 0\n",
        "    total_steps = 0\n",
        "\n",
        "    #REPLAY BUFFER - PRE-FILLING\n",
        "    for _ in range(1000):\n",
        "        state, _ = env.reset()\n",
        "        current_frames = frame_stack.reset(preprocess_state(state))\n",
        "        previously_guessed = set()\n",
        "\n",
        "        for step in range(15):\n",
        "            action = random.randint(0, action_size - 1)\n",
        "            previously_guessed.add(action)\n",
        "\n",
        "            next_state, reward, terminated, truncated, _ = env.step(action)\n",
        "            next_frames = frame_stack.append(preprocess_state(next_state))\n",
        "\n",
        "            memory.add((current_frames, action,\n",
        "                       scale_reward(reward, previously_guessed),\n",
        "                       next_frames, terminated or truncated))\n",
        "\n",
        "            current_frames = next_frames\n",
        "            if terminated or truncated:\n",
        "                break\n",
        "\n",
        "    #MAIN TRAINING LOOP\n",
        "    for ep in range(episodes):\n",
        "        state, _ = env.reset()\n",
        "        current_frames = frame_stack.reset(preprocess_state(state))\n",
        "        total_reward = 0\n",
        "        done = False\n",
        "        step_count = 0\n",
        "        previously_guessed = set()\n",
        "\n",
        "        while not done:\n",
        "            step_count += 1\n",
        "            total_steps += 1\n",
        "\n",
        "            #ACTION SELECTION\n",
        "            if np.random.rand() < epsilon:\n",
        "                action = random.randint(0, action_size - 1)\n",
        "            else:\n",
        "                with torch.no_grad():\n",
        "                    state_tensor = torch.FloatTensor(current_frames).unsqueeze(0)\n",
        "                    q_values = q_net(state_tensor)\n",
        "\n",
        "                    noise = torch.normal(0, 0.1, size=q_values.shape)\n",
        "                    action = torch.argmax(q_values + noise).item()\n",
        "\n",
        "            action = action % action_size\n",
        "            previously_guessed.add(action)\n",
        "\n",
        "            #ENVIRONMENT STEP\n",
        "            next_state, reward, terminated, truncated, _ = env.step(action)\n",
        "            done = terminated or truncated\n",
        "            next_frames = frame_stack.append(preprocess_state(next_state))\n",
        "\n",
        "            #STORING EXPERIENCE\n",
        "            memory.add((current_frames, action,\n",
        "                       scale_reward(reward, previously_guessed),\n",
        "                       next_frames, done))\n",
        "\n",
        "            current_frames = next_frames\n",
        "            total_reward += reward\n",
        "\n",
        "            #NETWORK TRAINING\n",
        "\n",
        "            if len(memory) > batch_size and total_steps % 4 == 0:\n",
        "                states, actions, rewards, next_states, dones = memory.sample(batch_size)\n",
        "\n",
        "                #Tensor Conversion\n",
        "                states_t = torch.FloatTensor(states)\n",
        "                actions_t = torch.LongTensor(actions).unsqueeze(1)\n",
        "                rewards_t = torch.FloatTensor(rewards)\n",
        "                next_states_t = torch.FloatTensor(next_states)\n",
        "                dones_t = torch.BoolTensor(dones)\n",
        "\n",
        "                #Q-Learning Update\n",
        "                current_q = q_net(states_t).gather(1, actions_t).squeeze()\n",
        "\n",
        "                with torch.no_grad():\n",
        "                    next_q = target_net(next_states_t).max(1)[0]\n",
        "                    target_q = rewards_t + gamma * next_q * (~dones_t).float()\n",
        "\n",
        "                #OPTIMIZATION STEP\n",
        "                loss = nn.SmoothL1Loss()(current_q, target_q)\n",
        "                optimizer.zero_grad()\n",
        "                loss.backward()\n",
        "                torch.nn.utils.clip_grad_norm_(q_net.parameters(), 1.0)\n",
        "                optimizer.step()\n",
        "\n",
        "        #TRACKING OF PERFORMANCE\n",
        "        if total_reward > 0:\n",
        "            wins += 1\n",
        "        rewards_all.append(total_reward)\n",
        "\n",
        "        #PERIODIC UPDATES\n",
        "\n",
        "        if ep % 10 == 0:\n",
        "            target_net.load_state_dict(q_net.state_dict())\n",
        "\n",
        "        # IMPROVED EPSILON SCHEDULING\n",
        "        if ep < epsilon_decay_steps:\n",
        "            epsilon = initial_epsilon - (initial_epsilon - final_epsilon) * (ep / epsilon_decay_steps)\n",
        "        else:\n",
        "            epsilon = final_epsilon\n",
        "\n",
        "        recent_rewards = rewards_all[-20:] if len(rewards_all) >= 20 else rewards_all\n",
        "        current_win_rate = (sum(1 for r in recent_rewards if r > 0) / len(recent_rewards)) if recent_rewards else 0\n",
        "\n",
        "        if current_win_rate <= best_win_rate:\n",
        "            stagnation_count += 1\n",
        "        else:\n",
        "            best_win_rate = current_win_rate\n",
        "            stagnation_count = 0\n",
        "\n",
        "        # Boost epsilon if performance stagnates\n",
        "        if stagnation_count >= performance_stagnation_threshold and epsilon < 0.3:\n",
        "            epsilon = min(epsilon * 1.5, 0.5)\n",
        "            stagnation_count = 0\n",
        "\n",
        "        if ep % 100 == 0:\n",
        "            scheduler.step()\n",
        "\n",
        "        #PROGRESS MONITORING\n",
        "        if ep % 20 == 0:\n",
        "            recent_rewards = rewards_all[-20:] if len(rewards_all) >= 20 else rewards_all\n",
        "            avg_reward = np.mean(recent_rewards)\n",
        "            win_rate = (sum(1 for r in recent_rewards if r > 0) / len(recent_rewards)) * 100 if recent_rewards else 0\n",
        "\n",
        "            print(f\"Episode {ep:4d} | \"\n",
        "                  f\"Avg Reward: {avg_reward:7.3f} | \"\n",
        "                  f\"Win Rate: {win_rate:5.1f}% | \"\n",
        "                  f\"Epsilon: {epsilon:.4f} | \"\n",
        "                  f\"Steps: {step_count:3d}\")\n",
        "\n",
        "    env.close()\n",
        "    return q_net, rewards_all"
      ],
      "metadata": {
        "id": "0VzfN6mGAd7W"
      },
      "execution_count": 16,
      "outputs": []
    },
    {
      "cell_type": "markdown",
      "source": [
        "### **Demonstration Utilities**\n",
        "\n",
        "Utility functions for recording episodes and displaying videos.\n",
        "\n",
        "**Recording Episodes**: Records a single episdoe of the agent playing the game, taking the environment, trained Q-Network, preprocessing function, episode number, and max number of steps as an input. Involves initialization of a list to store the frames, resetting the environment, and sets up frame stack.\n",
        "\n",
        "Then it enters a loop that continues until the episode's end, or the max no. of steps is reached. The loop uses a trained Q-Network to select an action based on the current state, and includes logic to avoid repeating previously guessed actions by selecting the next best action from the Q-Values. It takes a step in the environment with the chosen action, preprocesses the next state, appends it to the frame stack, and updates the total reward.\n",
        "\n",
        "It renders the environment and appends the frame to the Frames list. After, it saves the collected frames as an MP4 video file using imageio, including the episode number and final reward in the filename.\n",
        "\n",
        "**Show Video**: Here, it takes the path to a video file and displays it in the notebook. It opens the file in binary read mode, encodes it in base64, and creates an HTML video tag to embed the video."
      ],
      "metadata": {
        "id": "QG53PFBpK4Ce"
      }
    },
    {
      "cell_type": "code",
      "source": [
        "def record_episode(env, q_net, preprocess_state, episode_num, max_steps=200):\n",
        "    frames = []\n",
        "    state, _ = env.reset()\n",
        "    frame_stack = FrameStack()\n",
        "    state_processed = frame_stack.reset(preprocess_state(state))\n",
        "\n",
        "    total_reward = 0\n",
        "    done = False\n",
        "    step_count = 0\n",
        "    previously_guessed = set()\n",
        "\n",
        "    frames.append(env.render())\n",
        "\n",
        "    while not done and step_count < max_steps:\n",
        "        step_count += 1\n",
        "\n",
        "        with torch.no_grad():\n",
        "            state_tensor = torch.FloatTensor(state_processed).unsqueeze(0)\n",
        "            q_values = q_net(state_tensor)\n",
        "            noise = torch.randn_like(q_values) * 0.1\n",
        "            action = torch.argmax(q_values + noise).item()\n",
        "\n",
        "        if action in previously_guessed:\n",
        "            sorted_actions = torch.argsort(q_values + noise, descending=True)\n",
        "            for alt_action in sorted_actions[0]:\n",
        "                alt_action = alt_action.item()\n",
        "                if alt_action not in previously_guessed:\n",
        "                    action = alt_action\n",
        "                    break\n",
        "\n",
        "        previously_guessed.add(action)\n",
        "        state, reward, terminated, truncated, _ = env.step(action)\n",
        "        state_processed = frame_stack.append(preprocess_state(state))\n",
        "        done = terminated or truncated\n",
        "        total_reward += reward\n",
        "        frames.append(env.render())\n",
        "\n",
        "    filename = f\"hangman_episode_{episode_num}_reward_{total_reward:.1f}.mp4\"\n",
        "    with imageio.get_writer(filename, fps=5) as writer:\n",
        "        for frame in frames:\n",
        "            writer.append_data(frame)\n",
        "\n",
        "    return filename, total_reward, step_count\n",
        "\n",
        "def show_video(video_path):\n",
        "    try:\n",
        "        with open(video_path, \"r+b\") as f:\n",
        "            video_url = f\"data:video/mp4;base64,{base64.b64encode(f.read()).decode()}\"\n",
        "            return HTML(f'<video width=\"600\" controls><source src=\"{video_url}\"></video>')\n",
        "    except FileNotFoundError:\n",
        "        print(f\"Video file {video_path} not found\")\n",
        "        return HTML(\"<p>Video not available</p>\")"
      ],
      "metadata": {
        "id": "rC7c55-ZM_pn"
      },
      "execution_count": 17,
      "outputs": []
    },
    {
      "cell_type": "markdown",
      "source": [
        "### **Main Program**\n",
        "\n",
        "**Environment Verification** - Quickly verifies Hangman environment by creating an instance, resetting it, printing state shape, and action space.\n",
        "\n",
        "**Training Start** - Calls the function to train the agent for 1000 episodes. The trained Q-Network and list of rewards from each episode are returned.\n",
        "\n",
        "**Statistics** - After training, it plots rewards obtained during training using matplotlib to visualize the learning progress. Statistics will be printed, including total no. of episodes, average reward, maximum reward, and the number of wins.\n",
        "\n",
        "**Recording Demonstration Videos** - Creating a new instance of Hangman environment specifically for recording, looping through a select list of episode numbers. The function for recording the episode to record the agent's gameplay for that episode, passing the record environment, trained Q-Network, the preprocess state function, and episode number. Afterward, it displays the recorded video in the output."
      ],
      "metadata": {
        "id": "L7I_cnJGYeeY"
      }
    },
    {
      "cell_type": "code",
      "source": [
        "if __name__ == \"__main__\":\n",
        "    #ENVIRONMENT VERIFICATION\n",
        "    env = gym.make(\"ALE/Hangman-v5\", render_mode=\"rgb_array\")\n",
        "    state, _ = env.reset()\n",
        "    print(f\"State shape: {state.shape}, Action space: {env.action_space.n}\")\n",
        "    env.close()\n",
        "\n",
        "    #TRAINING START\n",
        "    q_net, rewards_all = train_dqn(episodes=2000)\n",
        "\n",
        "    #STATISTICS\n",
        "    plt.plot(rewards_all)\n",
        "    plt.xlabel(\"Episode\")\n",
        "    plt.ylabel(\"Reward\")\n",
        "    plt.title(\"Hangman Training\")\n",
        "    plt.show()\n",
        "\n",
        "    print(f\"\\nTraining Complete:\")\n",
        "    print(f\"Episodes: {len(rewards_all)}\")\n",
        "    print(f\"Average reward: {np.mean(rewards_all):.2f}\")\n",
        "    print(f\"Max reward: {np.max(rewards_all):.2f}\")\n",
        "    print(f\"Wins: {sum(1 for r in rewards_all if r > 0)}\")\n"
      ],
      "metadata": {
        "id": "4hZWxXMRApsi",
        "colab": {
          "base_uri": "https://localhost:8080/",
          "height": 1000
        },
        "outputId": "25b1648e-b059-4aa1-c44c-a7157542ec85"
      },
      "execution_count": 18,
      "outputs": [
        {
          "output_type": "stream",
          "name": "stdout",
          "text": [
            "State shape: (210, 160, 3), Action space: 18\n",
            "Episode    0 | Avg Reward:  -1.000 | Win Rate:   0.0% | Epsilon: 1.0000 | Steps: 176\n",
            "Episode   20 | Avg Reward:  -1.000 | Win Rate:   0.0% | Epsilon: 0.9876 | Steps: 172\n",
            "Episode   40 | Avg Reward:  -1.000 | Win Rate:   0.0% | Epsilon: 0.9752 | Steps: 174\n",
            "Episode   60 | Avg Reward:  -1.000 | Win Rate:   0.0% | Epsilon: 0.9629 | Steps: 160\n",
            "Episode   80 | Avg Reward:  -1.000 | Win Rate:   0.0% | Epsilon: 0.9505 | Steps: 164\n",
            "Episode  100 | Avg Reward:  -1.000 | Win Rate:   0.0% | Epsilon: 0.9381 | Steps: 185\n",
            "Episode  120 | Avg Reward:  -1.000 | Win Rate:   0.0% | Epsilon: 0.9257 | Steps: 151\n",
            "Episode  140 | Avg Reward:  -1.000 | Win Rate:   0.0% | Epsilon: 0.9134 | Steps: 185\n",
            "Episode  160 | Avg Reward:  -1.000 | Win Rate:   0.0% | Epsilon: 0.9010 | Steps: 176\n",
            "Episode  180 | Avg Reward:  -1.000 | Win Rate:   0.0% | Epsilon: 0.8886 | Steps: 168\n",
            "Episode  200 | Avg Reward:  -1.000 | Win Rate:   0.0% | Epsilon: 0.8762 | Steps: 181\n",
            "Episode  220 | Avg Reward:  -1.000 | Win Rate:   0.0% | Epsilon: 0.8639 | Steps: 181\n",
            "Episode  240 | Avg Reward:  -1.000 | Win Rate:   0.0% | Epsilon: 0.8515 | Steps: 160\n",
            "Episode  260 | Avg Reward:  -1.000 | Win Rate:   0.0% | Epsilon: 0.8391 | Steps: 180\n",
            "Episode  280 | Avg Reward:  -1.000 | Win Rate:   0.0% | Epsilon: 0.8267 | Steps: 174\n",
            "Episode  300 | Avg Reward:  -1.000 | Win Rate:   0.0% | Epsilon: 0.8144 | Steps: 189\n",
            "Episode  320 | Avg Reward:  -1.000 | Win Rate:   0.0% | Epsilon: 0.8020 | Steps: 164\n",
            "Episode  340 | Avg Reward:  -1.000 | Win Rate:   0.0% | Epsilon: 0.7896 | Steps: 183\n",
            "Episode  360 | Avg Reward:  -0.900 | Win Rate:   5.0% | Epsilon: 0.7772 | Steps: 170\n",
            "Episode  380 | Avg Reward:  -1.000 | Win Rate:   0.0% | Epsilon: 0.7649 | Steps: 204\n",
            "Episode  400 | Avg Reward:  -1.000 | Win Rate:   0.0% | Epsilon: 0.7525 | Steps: 183\n",
            "Episode  420 | Avg Reward:  -0.900 | Win Rate:   5.0% | Epsilon: 0.7401 | Steps: 175\n",
            "Episode  440 | Avg Reward:  -1.000 | Win Rate:   0.0% | Epsilon: 0.7278 | Steps: 151\n",
            "Episode  460 | Avg Reward:  -0.800 | Win Rate:  10.0% | Epsilon: 0.7154 | Steps: 182\n",
            "Episode  480 | Avg Reward:  -1.000 | Win Rate:   0.0% | Epsilon: 0.7030 | Steps: 169\n",
            "Episode  500 | Avg Reward:  -1.000 | Win Rate:   0.0% | Epsilon: 0.6906 | Steps: 168\n",
            "Episode  520 | Avg Reward:  -1.000 | Win Rate:   0.0% | Epsilon: 0.6783 | Steps: 150\n",
            "Episode  540 | Avg Reward:  -1.000 | Win Rate:   0.0% | Epsilon: 0.6659 | Steps: 150\n",
            "Episode  560 | Avg Reward:  -1.000 | Win Rate:   0.0% | Epsilon: 0.6535 | Steps: 186\n",
            "Episode  580 | Avg Reward:  -0.900 | Win Rate:   5.0% | Epsilon: 0.6411 | Steps: 148\n",
            "Episode  600 | Avg Reward:  -0.900 | Win Rate:   5.0% | Epsilon: 0.6288 | Steps: 187\n",
            "Episode  620 | Avg Reward:  -1.000 | Win Rate:   0.0% | Epsilon: 0.6164 | Steps: 163\n",
            "Episode  640 | Avg Reward:  -1.000 | Win Rate:   0.0% | Epsilon: 0.6040 | Steps: 158\n",
            "Episode  660 | Avg Reward:  -0.900 | Win Rate:   5.0% | Epsilon: 0.5916 | Steps: 217\n",
            "Episode  680 | Avg Reward:  -1.000 | Win Rate:   0.0% | Epsilon: 0.5793 | Steps: 198\n",
            "Episode  700 | Avg Reward:  -1.000 | Win Rate:   0.0% | Epsilon: 0.5669 | Steps: 177\n",
            "Episode  720 | Avg Reward:  -1.000 | Win Rate:   0.0% | Epsilon: 0.5545 | Steps: 169\n",
            "Episode  740 | Avg Reward:  -1.000 | Win Rate:   0.0% | Epsilon: 0.5421 | Steps: 174\n",
            "Episode  760 | Avg Reward:  -1.000 | Win Rate:   0.0% | Epsilon: 0.5297 | Steps: 164\n",
            "Episode  780 | Avg Reward:  -1.000 | Win Rate:   0.0% | Epsilon: 0.5174 | Steps: 167\n",
            "Episode  800 | Avg Reward:  -1.000 | Win Rate:   0.0% | Epsilon: 0.5050 | Steps: 151\n",
            "Episode  820 | Avg Reward:  -0.900 | Win Rate:   5.0% | Epsilon: 0.4926 | Steps: 146\n",
            "Episode  840 | Avg Reward:  -1.000 | Win Rate:   0.0% | Epsilon: 0.4802 | Steps: 170\n",
            "Episode  860 | Avg Reward:  -1.000 | Win Rate:   0.0% | Epsilon: 0.4679 | Steps: 174\n",
            "Episode  880 | Avg Reward:  -1.000 | Win Rate:   0.0% | Epsilon: 0.4555 | Steps: 160\n",
            "Episode  900 | Avg Reward:  -1.000 | Win Rate:   0.0% | Epsilon: 0.4431 | Steps: 178\n",
            "Episode  920 | Avg Reward:  -1.000 | Win Rate:   0.0% | Epsilon: 0.4308 | Steps: 167\n",
            "Episode  940 | Avg Reward:  -0.900 | Win Rate:   5.0% | Epsilon: 0.4184 | Steps: 180\n",
            "Episode  960 | Avg Reward:  -0.900 | Win Rate:   5.0% | Epsilon: 0.4060 | Steps: 153\n",
            "Episode  980 | Avg Reward:  -1.000 | Win Rate:   0.0% | Epsilon: 0.3936 | Steps: 199\n",
            "Episode 1000 | Avg Reward:  -0.700 | Win Rate:  15.0% | Epsilon: 0.3812 | Steps: 210\n",
            "Episode 1020 | Avg Reward:  -0.900 | Win Rate:   5.0% | Epsilon: 0.3689 | Steps: 144\n",
            "Episode 1040 | Avg Reward:  -1.000 | Win Rate:   0.0% | Epsilon: 0.3565 | Steps: 149\n",
            "Episode 1060 | Avg Reward:  -1.000 | Win Rate:   0.0% | Epsilon: 0.3441 | Steps: 162\n",
            "Episode 1080 | Avg Reward:  -1.000 | Win Rate:   0.0% | Epsilon: 0.3317 | Steps: 179\n",
            "Episode 1100 | Avg Reward:  -1.000 | Win Rate:   0.0% | Epsilon: 0.3194 | Steps: 169\n",
            "Episode 1120 | Avg Reward:  -1.000 | Win Rate:   0.0% | Epsilon: 0.3070 | Steps: 173\n",
            "Episode 1140 | Avg Reward:  -0.900 | Win Rate:   5.0% | Epsilon: 0.2946 | Steps: 160\n",
            "Episode 1160 | Avg Reward:  -1.000 | Win Rate:   0.0% | Epsilon: 0.2823 | Steps: 187\n",
            "Episode 1180 | Avg Reward:  -0.900 | Win Rate:   5.0% | Epsilon: 0.2699 | Steps: 162\n",
            "Episode 1200 | Avg Reward:  -1.000 | Win Rate:   0.0% | Epsilon: 0.2575 | Steps: 214\n",
            "Episode 1220 | Avg Reward:  -1.000 | Win Rate:   0.0% | Epsilon: 0.2451 | Steps: 230\n",
            "Episode 1240 | Avg Reward:  -1.000 | Win Rate:   0.0% | Epsilon: 0.2328 | Steps: 157\n",
            "Episode 1260 | Avg Reward:  -1.000 | Win Rate:   0.0% | Epsilon: 0.2204 | Steps: 152\n",
            "Episode 1280 | Avg Reward:  -1.000 | Win Rate:   0.0% | Epsilon: 0.2080 | Steps: 188\n",
            "Episode 1300 | Avg Reward:  -1.000 | Win Rate:   0.0% | Epsilon: 0.1956 | Steps: 157\n",
            "Episode 1320 | Avg Reward:  -1.000 | Win Rate:   0.0% | Epsilon: 0.1833 | Steps: 245\n",
            "Episode 1340 | Avg Reward:  -0.900 | Win Rate:   5.0% | Epsilon: 0.1709 | Steps: 165\n",
            "Episode 1360 | Avg Reward:  -1.000 | Win Rate:   0.0% | Epsilon: 0.1585 | Steps: 187\n",
            "Episode 1380 | Avg Reward:  -1.000 | Win Rate:   0.0% | Epsilon: 0.1461 | Steps: 187\n",
            "Episode 1400 | Avg Reward:  -0.900 | Win Rate:   5.0% | Epsilon: 0.1338 | Steps: 181\n",
            "Episode 1420 | Avg Reward:  -1.000 | Win Rate:   0.0% | Epsilon: 0.1214 | Steps: 188\n",
            "Episode 1440 | Avg Reward:  -0.900 | Win Rate:   5.0% | Epsilon: 0.1090 | Steps: 147\n",
            "Episode 1460 | Avg Reward:  -1.000 | Win Rate:   0.0% | Epsilon: 0.0966 | Steps: 158\n",
            "Episode 1480 | Avg Reward:  -1.000 | Win Rate:   0.0% | Epsilon: 0.0842 | Steps: 179\n",
            "Episode 1500 | Avg Reward:  -1.000 | Win Rate:   0.0% | Epsilon: 0.0719 | Steps: 148\n",
            "Episode 1520 | Avg Reward:  -1.000 | Win Rate:   0.0% | Epsilon: 0.0595 | Steps: 148\n",
            "Episode 1540 | Avg Reward:  -0.900 | Win Rate:   5.0% | Epsilon: 0.0471 | Steps: 164\n",
            "Episode 1560 | Avg Reward:  -1.000 | Win Rate:   0.0% | Epsilon: 0.0348 | Steps: 193\n",
            "Episode 1580 | Avg Reward:  -1.000 | Win Rate:   0.0% | Epsilon: 0.0224 | Steps: 158\n",
            "Episode 1600 | Avg Reward:  -1.000 | Win Rate:   0.0% | Epsilon: 0.0100 | Steps: 182\n",
            "Episode 1620 | Avg Reward:  -0.900 | Win Rate:   5.0% | Epsilon: 0.0100 | Steps: 124\n",
            "Episode 1640 | Avg Reward:  -1.000 | Win Rate:   0.0% | Epsilon: 0.0100 | Steps: 195\n",
            "Episode 1660 | Avg Reward:  -1.000 | Win Rate:   0.0% | Epsilon: 0.0100 | Steps: 173\n",
            "Episode 1680 | Avg Reward:  -0.900 | Win Rate:   5.0% | Epsilon: 0.0100 | Steps: 160\n",
            "Episode 1700 | Avg Reward:  -1.000 | Win Rate:   0.0% | Epsilon: 0.0100 | Steps: 191\n",
            "Episode 1720 | Avg Reward:  -0.900 | Win Rate:   5.0% | Epsilon: 0.0100 | Steps: 212\n",
            "Episode 1740 | Avg Reward:  -1.000 | Win Rate:   0.0% | Epsilon: 0.0100 | Steps: 167\n",
            "Episode 1760 | Avg Reward:  -0.800 | Win Rate:  10.0% | Epsilon: 0.0100 | Steps: 148\n",
            "Episode 1780 | Avg Reward:  -0.900 | Win Rate:   5.0% | Epsilon: 0.0100 | Steps: 203\n",
            "Episode 1800 | Avg Reward:  -0.800 | Win Rate:  10.0% | Epsilon: 0.0100 | Steps: 213\n",
            "Episode 1820 | Avg Reward:  -0.900 | Win Rate:   5.0% | Epsilon: 0.0100 | Steps: 149\n",
            "Episode 1840 | Avg Reward:  -1.000 | Win Rate:   0.0% | Epsilon: 0.0100 | Steps: 177\n",
            "Episode 1860 | Avg Reward:  -0.900 | Win Rate:   5.0% | Epsilon: 0.0100 | Steps: 156\n",
            "Episode 1880 | Avg Reward:  -1.000 | Win Rate:   0.0% | Epsilon: 0.0100 | Steps: 209\n",
            "Episode 1900 | Avg Reward:  -1.000 | Win Rate:   0.0% | Epsilon: 0.0100 | Steps: 185\n",
            "Episode 1920 | Avg Reward:  -1.000 | Win Rate:   0.0% | Epsilon: 0.0100 | Steps: 161\n",
            "Episode 1940 | Avg Reward:  -0.900 | Win Rate:   5.0% | Epsilon: 0.0100 | Steps: 143\n",
            "Episode 1960 | Avg Reward:  -1.000 | Win Rate:   0.0% | Epsilon: 0.0100 | Steps: 152\n",
            "Episode 1980 | Avg Reward:  -0.900 | Win Rate:   5.0% | Epsilon: 0.0100 | Steps: 190\n"
          ]
        },
        {
          "output_type": "display_data",
          "data": {
            "text/plain": [
              "<Figure size 640x480 with 1 Axes>"
            ],
            "image/png": "[encoded data removed]"
          },
          "metadata": {}
        },
        {
          "output_type": "stream",
          "name": "stdout",
          "text": [
            "\n",
            "Training Complete:\n",
            "Episodes: 2000\n",
            "Average reward: -0.97\n",
            "Max reward: 1.00\n",
            "Wins: 32\n"
          ]
        }
      ]
    },
    {
      "cell_type": "code",
      "source": [
        "#RECORDING VIDEOS\n",
        "record_env = gym.make(\"ALE/Hangman-v5\", render_mode=\"rgb_array\")\n",
        "\n",
        "for ep_num in [800, 900, 1000, 1200, 1400, 1600, 1800, 1900]:\n",
        "  print(f\"Recording episode {ep_num}...\")\n",
        "  video_file, final_reward, steps = record_episode(record_env, q_net, preprocess_state, ep_num)\n",
        "  print(f\"Episode {ep_num}: Reward = {final_reward}, Steps = {steps}\")\n",
        "  display(show_video(video_file))\n",
        "  print(\"-\" * 40)\n",
        "\n",
        "record_env.close()"
      ],
      "metadata": {
        "colab": {
          "base_uri": "https://localhost:8080/",
          "height": 1000
        },
        "id": "FcSLRxB78AA7",
        "outputId": "6dee705f-86ce-4d9d-885a-dcc244fad7ce"
      },
      "execution_count": 19,
      "outputs": [
        {
          "output_type": "stream",
          "name": "stdout",
          "text": [
            "Recording episode 800...\n"
          ]
        },
        {
          "output_type": "stream",
          "name": "stderr",
          "text": [
            "WARNING:imageio_ffmpeg:IMAGEIO FFMPEG_WRITER WARNING: input image is not divisible by macro_block_size=16, resizing from (160, 210) to (160, 224) to ensure video compatibility with most codecs and players. To prevent resizing, make your input image divisible by the macro_block_size or set the macro_block_size to 1 (risking incompatibility).\n"
          ]
        },
        {
          "output_type": "stream",
          "name": "stdout",
          "text": [
            "Episode 800: Reward = -1.0, Steps = 172\n"
          ]
        },
        {
          "output_type": "display_data",
          "data": {
            "text/plain": [
              "<IPython.core.display.HTML object>"
            ],
            "text/html": [
              "<video width=\"600\" controls><source src=\"data:video/mp4;base64,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\"></video>"
            ]
          },
          "metadata": {}
        },
        {
          "output_type": "stream",
          "name": "stdout",
          "text": [
            "----------------------------------------\n",
            "Recording episode 900...\n"
          ]
        },
        {
          "output_type": "stream",
          "name": "stderr",
          "text": [
            "WARNING:imageio_ffmpeg:IMAGEIO FFMPEG_WRITER WARNING: input image is not divisible by macro_block_size=16, resizing from (160, 210) to (160, 224) to ensure video compatibility with most codecs and players. To prevent resizing, make your input image divisible by the macro_block_size or set the macro_block_size to 1 (risking incompatibility).\n"
          ]
        },
        {
          "output_type": "stream",
          "name": "stdout",
          "text": [
            "Episode 900: Reward = 0.0, Steps = 200\n"
          ]
        },
        {
          "output_type": "display_data",
          "data": {
            "text/plain": [
              "<IPython.core.display.HTML object>"
            ],
            "text/html": [
              "<video width=\"600\" controls><source src=\"data:video/mp4;base64,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\"></video>"
            ]
          },
          "metadata": {}
        },
        {
          "output_type": "stream",
          "name": "stdout",
          "text": [
            "----------------------------------------\n",
            "Recording episode 1000...\n"
          ]
        },
        {
          "output_type": "stream",
          "name": "stderr",
          "text": [
            "WARNING:imageio_ffmpeg:IMAGEIO FFMPEG_WRITER WARNING: input image is not divisible by macro_block_size=16, resizing from (160, 210) to (160, 224) to ensure video compatibility with most codecs and players. To prevent resizing, make your input image divisible by the macro_block_size or set the macro_block_size to 1 (risking incompatibility).\n"
          ]
        },
        {
          "output_type": "stream",
          "name": "stdout",
          "text": [
            "Episode 1000: Reward = -1.0, Steps = 174\n"
          ]
        },
        {
          "output_type": "display_data",
          "data": {
            "text/plain": [
              "<IPython.core.display.HTML object>"
            ],
            "text/html": [
              "<video width=\"600\" controls><source src=\"data:video/mp4;base64,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\"></video>"
            ]
          },
          "metadata": {}
        },
        {
          "output_type": "stream",
          "name": "stdout",
          "text": [
            "----------------------------------------\n",
            "Recording episode 1200...\n"
          ]
        },
        {
          "output_type": "stream",
          "name": "stderr",
          "text": [
            "WARNING:imageio_ffmpeg:IMAGEIO FFMPEG_WRITER WARNING: input image is not divisible by macro_block_size=16, resizing from (160, 210) to (160, 224) to ensure video compatibility with most codecs and players. To prevent resizing, make your input image divisible by the macro_block_size or set the macro_block_size to 1 (risking incompatibility).\n"
          ]
        },
        {
          "output_type": "stream",
          "name": "stdout",
          "text": [
            "Episode 1200: Reward = -1.0, Steps = 147\n"
          ]
        },
        {
          "output_type": "display_data",
          "data": {
            "text/plain": [
              "<IPython.core.display.HTML object>"
            ],
            "text/html": [
              "<video width=\"600\" controls><source src=\"data:video/mp4;base64,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\"></video>"
            ]
          },
          "metadata": {}
        },
        {
          "output_type": "stream",
          "name": "stdout",
          "text": [
            "----------------------------------------\n",
            "Recording episode 1400...\n"
          ]
        },
        {
          "output_type": "stream",
          "name": "stderr",
          "text": [
            "WARNING:imageio_ffmpeg:IMAGEIO FFMPEG_WRITER WARNING: input image is not divisible by macro_block_size=16, resizing from (160, 210) to (160, 224) to ensure video compatibility with most codecs and players. To prevent resizing, make your input image divisible by the macro_block_size or set the macro_block_size to 1 (risking incompatibility).\n"
          ]
        },
        {
          "output_type": "stream",
          "name": "stdout",
          "text": [
            "Episode 1400: Reward = -1.0, Steps = 183\n"
          ]
        },
        {
          "output_type": "display_data",
          "data": {
            "text/plain": [
              "<IPython.core.display.HTML object>"
            ],
            "text/html": [
              "<video width=\"600\" controls><source src=\"data:video/mp4;base64,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\"></video>"
            ]
          },
          "metadata": {}
        },
        {
          "output_type": "stream",
          "name": "stdout",
          "text": [
            "----------------------------------------\n",
            "Recording episode 1600...\n"
          ]
        },
        {
          "output_type": "stream",
          "name": "stderr",
          "text": [
            "WARNING:imageio_ffmpeg:IMAGEIO FFMPEG_WRITER WARNING: input image is not divisible by macro_block_size=16, resizing from (160, 210) to (160, 224) to ensure video compatibility with most codecs and players. To prevent resizing, make your input image divisible by the macro_block_size or set the macro_block_size to 1 (risking incompatibility).\n"
          ]
        },
        {
          "output_type": "stream",
          "name": "stdout",
          "text": [
            "Episode 1600: Reward = -1.0, Steps = 161\n"
          ]
        },
        {
          "output_type": "display_data",
          "data": {
            "text/plain": [
              "<IPython.core.display.HTML object>"
            ],
            "text/html": [
              "<video width=\"600\" controls><source src=\"data:video/mp4;base64,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\"></video>"
            ]
          },
          "metadata": {}
        },
        {
          "output_type": "stream",
          "name": "stdout",
          "text": [
            "----------------------------------------\n",
            "Recording episode 1800...\n"
          ]
        },
        {
          "output_type": "stream",
          "name": "stderr",
          "text": [
            "WARNING:imageio_ffmpeg:IMAGEIO FFMPEG_WRITER WARNING: input image is not divisible by macro_block_size=16, resizing from (160, 210) to (160, 224) to ensure video compatibility with most codecs and players. To prevent resizing, make your input image divisible by the macro_block_size or set the macro_block_size to 1 (risking incompatibility).\n"
          ]
        },
        {
          "output_type": "stream",
          "name": "stdout",
          "text": [
            "Episode 1800: Reward = -1.0, Steps = 153\n"
          ]
        },
        {
          "output_type": "display_data",
          "data": {
            "text/plain": [
              "<IPython.core.display.HTML object>"
            ],
            "text/html": [
              "<video width=\"600\" controls><source src=\"data:video/mp4;base64,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\"></video>"
            ]
          },
          "metadata": {}
        },
        {
          "output_type": "stream",
          "name": "stdout",
          "text": [
            "----------------------------------------\n",
            "Recording episode 1900...\n"
          ]
        },
        {
          "output_type": "stream",
          "name": "stderr",
          "text": [
            "WARNING:imageio_ffmpeg:IMAGEIO FFMPEG_WRITER WARNING: input image is not divisible by macro_block_size=16, resizing from (160, 210) to (160, 224) to ensure video compatibility with most codecs and players. To prevent resizing, make your input image divisible by the macro_block_size or set the macro_block_size to 1 (risking incompatibility).\n"
          ]
        },
        {
          "output_type": "stream",
          "name": "stdout",
          "text": [
            "Episode 1900: Reward = -1.0, Steps = 192\n"
          ]
        },
        {
          "output_type": "display_data",
          "data": {
            "text/plain": [
              "<IPython.core.display.HTML object>"
            ],
            "text/html": [
              "<video width=\"600\" controls><source src=\"data:video/mp4;base64,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\"></video>"
            ]
          },
          "metadata": {}
        },
        {
          "output_type": "stream",
          "name": "stdout",
          "text": [
            "----------------------------------------\n"
          ]
        }
      ]
    }
  ]
}